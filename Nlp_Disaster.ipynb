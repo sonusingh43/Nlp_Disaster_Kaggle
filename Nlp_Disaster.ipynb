{
  "nbformat": 4,
  "nbformat_minor": 0,
  "metadata": {
    "colab": {
      "name": "Final_Nlp_Disaster_night (1).ipynb",
      "provenance": [],
      "collapsed_sections": [],
      "toc_visible": true,
      "include_colab_link": true
    },
    "kernelspec": {
      "name": "python3",
      "display_name": "Python 3"
    }
  },
  "cells": [
    {
      "cell_type": "markdown",
      "metadata": {
        "id": "view-in-github",
        "colab_type": "text"
      },
      "source": [
        "<a href=\"https://colab.research.google.com/github/sonusingh43/Nlp_Disaster_Kaggle/blob/master/Nlp_Disaster.ipynb\" target=\"_parent\"><img src=\"https://colab.research.google.com/assets/colab-badge.svg\" alt=\"Open In Colab\"/></a>"
      ]
    },
    {
      "cell_type": "code",
      "metadata": {
        "id": "PrbkVOZlyWbj",
        "colab_type": "code",
        "colab": {}
      },
      "source": [
        "!pip install bert-for-tf2 >> /dev/null"
      ],
      "execution_count": 0,
      "outputs": []
    },
    {
      "cell_type": "code",
      "metadata": {
        "id": "4y9ohclSz7nv",
        "colab_type": "code",
        "colab": {}
      },
      "source": [
        "!pip install tqdm  >> /dev/null"
      ],
      "execution_count": 0,
      "outputs": []
    },
    {
      "cell_type": "code",
      "metadata": {
        "id": "hDfxDzNPJ5fC",
        "colab_type": "code",
        "colab": {}
      },
      "source": [
        "#!pip uninstall tensorflow-gpu==2.0.0-rc0"
      ],
      "execution_count": 0,
      "outputs": []
    },
    {
      "cell_type": "code",
      "metadata": {
        "id": "6lbAx2Y7vIen",
        "colab_type": "code",
        "colab": {}
      },
      "source": [
        "#import Libraries\n",
        "import pandas as pd\n",
        "import numpy as np\n",
        "import matplotlib.pyplot as plt\n",
        "import seaborn as sns\n",
        "import os\n",
        "from tensorflow.keras.layers import Dense, Input, Dropout\n",
        "from tensorflow.keras.optimizers import Adam\n",
        "from tensorflow.keras.models import Model\n",
        "import tensorflow as tf\n",
        "from tensorflow import keras\n",
        "#import tqdm as tqdm\n",
        "import re"
      ],
      "execution_count": 0,
      "outputs": []
    },
    {
      "cell_type": "code",
      "metadata": {
        "id": "R5WuMiErvliu",
        "colab_type": "code",
        "outputId": "879dcab3-a3ca-4267-f255-36ce35593b66",
        "colab": {
          "resources": {
            "http://localhost:8080/nbextensions/google.colab/files.js": {
              "data": "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",
              "ok": true,
              "headers": [
                [
                  "content-type",
                  "application/javascript"
                ]
              ],
              "status": 200,
              "status_text": ""
            }
          },
          "base_uri": "https://localhost:8080/",
          "height": 108
        }
      },
      "source": [
        "from google.colab import files\n",
        "uploaded = files.upload()"
      ],
      "execution_count": 39,
      "outputs": [
        {
          "output_type": "display_data",
          "data": {
            "text/html": [
              "\n",
              "     <input type=\"file\" id=\"files-84f61107-631f-453b-8464-3eba8deec0b8\" name=\"files[]\" multiple disabled />\n",
              "     <output id=\"result-84f61107-631f-453b-8464-3eba8deec0b8\">\n",
              "      Upload widget is only available when the cell has been executed in the\n",
              "      current browser session. Please rerun this cell to enable.\n",
              "      </output>\n",
              "      <script src=\"/nbextensions/google.colab/files.js\"></script> "
            ],
            "text/plain": [
              "<IPython.core.display.HTML object>"
            ]
          },
          "metadata": {
            "tags": []
          }
        },
        {
          "output_type": "stream",
          "text": [
            "Saving test.csv to test.csv\n",
            "Saving train.csv to train.csv\n"
          ],
          "name": "stdout"
        }
      ]
    },
    {
      "cell_type": "code",
      "metadata": {
        "id": "J3j7r500vsKi",
        "colab_type": "code",
        "colab": {}
      },
      "source": [
        "train_data = pd.read_csv(\"train.csv\")\n",
        "test_data = pd.read_csv(\"test.csv\")"
      ],
      "execution_count": 0,
      "outputs": []
    },
    {
      "cell_type": "code",
      "metadata": {
        "id": "a8AdxnnCwLuS",
        "colab_type": "code",
        "outputId": "20e02bfd-e292-4981-9fd2-9813ecacf04d",
        "colab": {
          "base_uri": "https://localhost:8080/",
          "height": 34
        }
      },
      "source": [
        "train_data.shape,test_data.shape"
      ],
      "execution_count": 41,
      "outputs": [
        {
          "output_type": "execute_result",
          "data": {
            "text/plain": [
              "((7613, 5), (3263, 4))"
            ]
          },
          "metadata": {
            "tags": []
          },
          "execution_count": 41
        }
      ]
    },
    {
      "cell_type": "code",
      "metadata": {
        "id": "DPbk21kIwRRx",
        "colab_type": "code",
        "outputId": "be75df19-234d-42c6-df0b-613b8f1bdec8",
        "colab": {
          "base_uri": "https://localhost:8080/",
          "height": 204
        }
      },
      "source": [
        "train_data.head()"
      ],
      "execution_count": 42,
      "outputs": [
        {
          "output_type": "execute_result",
          "data": {
            "text/html": [
              "<div>\n",
              "<style scoped>\n",
              "    .dataframe tbody tr th:only-of-type {\n",
              "        vertical-align: middle;\n",
              "    }\n",
              "\n",
              "    .dataframe tbody tr th {\n",
              "        vertical-align: top;\n",
              "    }\n",
              "\n",
              "    .dataframe thead th {\n",
              "        text-align: right;\n",
              "    }\n",
              "</style>\n",
              "<table border=\"1\" class=\"dataframe\">\n",
              "  <thead>\n",
              "    <tr style=\"text-align: right;\">\n",
              "      <th></th>\n",
              "      <th>id</th>\n",
              "      <th>keyword</th>\n",
              "      <th>location</th>\n",
              "      <th>text</th>\n",
              "      <th>target</th>\n",
              "    </tr>\n",
              "  </thead>\n",
              "  <tbody>\n",
              "    <tr>\n",
              "      <th>0</th>\n",
              "      <td>1</td>\n",
              "      <td>NaN</td>\n",
              "      <td>NaN</td>\n",
              "      <td>Our Deeds are the Reason of this #earthquake M...</td>\n",
              "      <td>1</td>\n",
              "    </tr>\n",
              "    <tr>\n",
              "      <th>1</th>\n",
              "      <td>4</td>\n",
              "      <td>NaN</td>\n",
              "      <td>NaN</td>\n",
              "      <td>Forest fire near La Ronge Sask. Canada</td>\n",
              "      <td>1</td>\n",
              "    </tr>\n",
              "    <tr>\n",
              "      <th>2</th>\n",
              "      <td>5</td>\n",
              "      <td>NaN</td>\n",
              "      <td>NaN</td>\n",
              "      <td>All residents asked to 'shelter in place' are ...</td>\n",
              "      <td>1</td>\n",
              "    </tr>\n",
              "    <tr>\n",
              "      <th>3</th>\n",
              "      <td>6</td>\n",
              "      <td>NaN</td>\n",
              "      <td>NaN</td>\n",
              "      <td>13,000 people receive #wildfires evacuation or...</td>\n",
              "      <td>1</td>\n",
              "    </tr>\n",
              "    <tr>\n",
              "      <th>4</th>\n",
              "      <td>7</td>\n",
              "      <td>NaN</td>\n",
              "      <td>NaN</td>\n",
              "      <td>Just got sent this photo from Ruby #Alaska as ...</td>\n",
              "      <td>1</td>\n",
              "    </tr>\n",
              "  </tbody>\n",
              "</table>\n",
              "</div>"
            ],
            "text/plain": [
              "   id keyword  ...                                               text target\n",
              "0   1     NaN  ...  Our Deeds are the Reason of this #earthquake M...      1\n",
              "1   4     NaN  ...             Forest fire near La Ronge Sask. Canada      1\n",
              "2   5     NaN  ...  All residents asked to 'shelter in place' are ...      1\n",
              "3   6     NaN  ...  13,000 people receive #wildfires evacuation or...      1\n",
              "4   7     NaN  ...  Just got sent this photo from Ruby #Alaska as ...      1\n",
              "\n",
              "[5 rows x 5 columns]"
            ]
          },
          "metadata": {
            "tags": []
          },
          "execution_count": 42
        }
      ]
    },
    {
      "cell_type": "code",
      "metadata": {
        "id": "BrW0fis1wUmE",
        "colab_type": "code",
        "outputId": "c22396fb-94fd-4101-847a-a4a75c959e16",
        "colab": {
          "base_uri": "https://localhost:8080/",
          "height": 34
        }
      },
      "source": [
        "train_data['target'].unique()"
      ],
      "execution_count": 43,
      "outputs": [
        {
          "output_type": "execute_result",
          "data": {
            "text/plain": [
              "array([1, 0])"
            ]
          },
          "metadata": {
            "tags": []
          },
          "execution_count": 43
        }
      ]
    },
    {
      "cell_type": "code",
      "metadata": {
        "id": "V0zYvzLEBtJv",
        "colab_type": "code",
        "colab": {}
      },
      "source": [
        ""
      ],
      "execution_count": 0,
      "outputs": []
    },
    {
      "cell_type": "code",
      "metadata": {
        "id": "QFeVnEUewvqQ",
        "colab_type": "code",
        "outputId": "9700ccba-5620-4d0e-8f16-97e24e90bd7e",
        "colab": {
          "base_uri": "https://localhost:8080/",
          "height": 297
        }
      },
      "source": [
        "chart = sns.countplot(train_data.target)\n",
        "plt.title(\"Number of texts per intent\")\n",
        "chart.set_xticklabels(chart.get_xticklabels(), rotation=30, horizontalalignment='right');"
      ],
      "execution_count": 44,
      "outputs": [
        {
          "output_type": "display_data",
          "data": {
            "image/png": "[encoded data removed]",
            "text/plain": [
              "<Figure size 432x288 with 1 Axes>"
            ]
          },
          "metadata": {
            "tags": [],
            "needs_background": "light"
          }
        }
      ]
    },
    {
      "cell_type": "code",
      "metadata": {
        "id": "vvArNSM21DL8",
        "colab_type": "code",
        "outputId": "ce9b45a6-52b5-468d-8810-dd40cd1d4efd",
        "colab": {
          "base_uri": "https://localhost:8080/",
          "height": 34
        }
      },
      "source": [
        "train_data['keyword'].isnull().sum()\n"
      ],
      "execution_count": 45,
      "outputs": [
        {
          "output_type": "execute_result",
          "data": {
            "text/plain": [
              "61"
            ]
          },
          "metadata": {
            "tags": []
          },
          "execution_count": 45
        }
      ]
    },
    {
      "cell_type": "code",
      "metadata": {
        "id": "0FrX5HJ31v22",
        "colab_type": "code",
        "outputId": "1b54a904-5a0c-40b5-fb4c-2ff690a017e5",
        "colab": {
          "base_uri": "https://localhost:8080/",
          "height": 34
        }
      },
      "source": [
        "train_data['keyword'].nunique(),test_data['keyword'].nunique()"
      ],
      "execution_count": 46,
      "outputs": [
        {
          "output_type": "execute_result",
          "data": {
            "text/plain": [
              "(221, 221)"
            ]
          },
          "metadata": {
            "tags": []
          },
          "execution_count": 46
        }
      ]
    },
    {
      "cell_type": "code",
      "metadata": {
        "id": "IKyTT2YmswNT",
        "colab_type": "code",
        "outputId": "793a7749-073d-432c-f89d-a7645bbf1228",
        "colab": {
          "base_uri": "https://localhost:8080/",
          "height": 34
        }
      },
      "source": [
        "train_data['location'].nunique(),test_data['location'].nunique()"
      ],
      "execution_count": 47,
      "outputs": [
        {
          "output_type": "execute_result",
          "data": {
            "text/plain": [
              "(3341, 1602)"
            ]
          },
          "metadata": {
            "tags": []
          },
          "execution_count": 47
        }
      ]
    },
    {
      "cell_type": "code",
      "metadata": {
        "id": "587-LzeC1GUw",
        "colab_type": "code",
        "outputId": "ffcc282b-fcda-4691-99e0-8cdc15887459",
        "colab": {
          "base_uri": "https://localhost:8080/",
          "height": 51
        }
      },
      "source": [
        "train_data['location'].unique()"
      ],
      "execution_count": 48,
      "outputs": [
        {
          "output_type": "execute_result",
          "data": {
            "text/plain": [
              "array([nan, 'Birmingham', 'Est. September 2012 - Bristol', ...,\n",
              "       'Vancouver, Canada', 'London ', 'Lincoln'], dtype=object)"
            ]
          },
          "metadata": {
            "tags": []
          },
          "execution_count": 48
        }
      ]
    },
    {
      "cell_type": "code",
      "metadata": {
        "id": "JgH-_ptTv-mq",
        "colab_type": "code",
        "outputId": "83535870-ab58-4295-b64c-50f721594f98",
        "colab": {
          "base_uri": "https://localhost:8080/",
          "height": 542
        }
      },
      "source": [
        "import plotly.graph_objects as go\n",
        "\n",
        "fig = go.Figure(go.Bar(\n",
        "            x=train_data['keyword'].tolist(),\n",
        "            #y=train_data['keyword'].nunique(),\n",
        "            orientation='h'))\n",
        "\n",
        "fig.show()"
      ],
      "execution_count": 49,
      "outputs": [
        {
          "output_type": "display_data",
          "data": {
            "text/html": [
              "<html>\n",
              "<head><meta charset=\"utf-8\" /></head>\n",
              "<body>\n",
              "    <div>\n",
              "            <script src=\"https://cdnjs.cloudflare.com/ajax/libs/mathjax/2.7.5/MathJax.js?config=TeX-AMS-MML_SVG\"></script><script type=\"text/javascript\">if (window.MathJax) {MathJax.Hub.Config({SVG: {font: \"STIX-Web\"}});}</script>\n",
              "                <script type=\"text/javascript\">window.PlotlyConfig = {MathJaxConfig: 'local'};</script>\n",
              "        <script src=\"https://cdn.plot.ly/plotly-latest.min.js\"></script>    \n",
              "            <div id=\"f10a2099-23ec-4ff5-a722-242af3113861\" class=\"plotly-graph-div\" style=\"height:525px; width:100%;\"></div>\n",
              "            <script type=\"text/javascript\">\n",
              "                \n",
              "                    window.PLOTLYENV=window.PLOTLYENV || {};\n",
              "                    \n",
              "                if (document.getElementById(\"f10a2099-23ec-4ff5-a722-242af3113861\")) {\n",
              "                    Plotly.newPlot(\n",
              "                        'f10a2099-23ec-4ff5-a722-242af3113861',\n",
              "                        [{\"orientation\": \"h\", \"type\": \"bar\", \"x\": [null, null, null, null, null, null, null, null, null, null, null, null, null, null, null, null, null, null, null, null, null, null, null, null, null, null, null, null, null, null, null, \"ablaze\", \"ablaze\", \"ablaze\", \"ablaze\", \"ablaze\", \"ablaze\", \"ablaze\", \"ablaze\", \"ablaze\", \"ablaze\", \"ablaze\", \"ablaze\", \"ablaze\", \"ablaze\", \"ablaze\", \"ablaze\", \"ablaze\", \"ablaze\", \"ablaze\", \"ablaze\", \"ablaze\", \"ablaze\", \"ablaze\", \"ablaze\", \"ablaze\", \"ablaze\", \"ablaze\", \"ablaze\", \"ablaze\", \"ablaze\", \"ablaze\", \"ablaze\", \"ablaze\", \"ablaze\", \"ablaze\", \"ablaze\", \"accident\", \"accident\", \"accident\", \"accident\", \"accident\", \"accident\", \"accident\", \"accident\", \"accident\", \"accident\", \"accident\", \"accident\", \"accident\", \"accident\", \"accident\", \"accident\", \"accident\", \"accident\", \"accident\", \"accident\", \"accident\", \"accident\", \"accident\", \"accident\", \"accident\", \"accident\", \"accident\", \"accident\", \"accident\", \"accident\", \"accident\", \"accident\", \"accident\", \"accident\", \"accident\", \"aftershock\", \"aftershock\", \"aftershock\", \"aftershock\", \"aftershock\", \"aftershock\", \"aftershock\", \"aftershock\", \"aftershock\", \"aftershock\", \"aftershock\", \"aftershock\", \"aftershock\", \"aftershock\", \"aftershock\", \"aftershock\", \"aftershock\", \"aftershock\", \"aftershock\", \"aftershock\", \"aftershock\", \"aftershock\", \"aftershock\", \"aftershock\", \"aftershock\", \"aftershock\", \"aftershock\", \"aftershock\", \"aftershock\", \"aftershock\", \"aftershock\", \"aftershock\", \"aftershock\", \"aftershock\", \"airplane%20accident\", \"airplane%20accident\", \"airplane%20accident\", \"airplane%20accident\", \"airplane%20accident\", \"airplane%20accident\", \"airplane%20accident\", \"airplane%20accident\", \"airplane%20accident\", \"airplane%20accident\", \"airplane%20accident\", \"airplane%20accident\", \"airplane%20accident\", \"airplane%20accident\", \"airplane%20accident\", \"airplane%20accident\", \"airplane%20accident\", \"airplane%20accident\", \"airplane%20accident\", \"airplane%20accident\", \"airplane%20accident\", \"airplane%20accident\", \"airplane%20accident\", \"airplane%20accident\", \"airplane%20accident\", \"airplane%20accident\", \"airplane%20accident\", \"airplane%20accident\", \"airplane%20accident\", \"airplane%20accident\", \"airplane%20accident\", \"airplane%20accident\", \"airplane%20accident\", \"airplane%20accident\", \"airplane%20accident\", \"ambulance\", \"ambulance\", \"ambulance\", \"ambulance\", \"ambulance\", \"ambulance\", \"ambulance\", \"ambulance\", \"ambulance\", \"ambulance\", \"ambulance\", \"ambulance\", \"ambulance\", \"ambulance\", \"ambulance\", \"ambulance\", \"ambulance\", \"ambulance\", \"ambulance\", \"ambulance\", \"ambulance\", \"ambulance\", \"ambulance\", \"ambulance\", \"ambulance\", \"ambulance\", \"ambulance\", \"ambulance\", \"ambulance\", \"ambulance\", \"ambulance\", \"ambulance\", \"ambulance\", \"ambulance\", \"ambulance\", \"ambulance\", \"ambulance\", \"ambulance\", \"annihilated\", \"annihilated\", \"annihilated\", \"annihilated\", \"annihilated\", \"annihilated\", \"annihilated\", \"annihilated\", \"annihilated\", \"annihilated\", \"annihilated\", \"annihilated\", \"annihilated\", \"annihilated\", \"annihilated\", \"annihilated\", \"annihilated\", \"annihilated\", \"annihilated\", \"annihilated\", \"annihilated\", \"annihilated\", \"annihilated\", \"annihilated\", \"annihilated\", \"annihilated\", \"annihilated\", \"annihilated\", \"annihilated\", \"annihilated\", \"annihilated\", \"annihilated\", \"annihilated\", \"annihilated\", \"annihilation\", \"annihilation\", \"annihilation\", \"annihilation\", \"annihilation\", \"annihilation\", \"annihilation\", \"annihilation\", \"annihilation\", \"annihilation\", \"annihilation\", \"annihilation\", \"annihilation\", \"annihilation\", \"annihilation\", \"annihilation\", \"annihilation\", \"annihilation\", \"annihilation\", \"annihilation\", \"annihilation\", \"annihilation\", \"annihilation\", \"annihilation\", \"annihilation\", \"annihilation\", \"annihilation\", \"annihilation\", \"annihilation\", \"apocalypse\", \"apocalypse\", \"apocalypse\", \"apocalypse\", \"apocalypse\", \"apocalypse\", \"apocalypse\", \"apocalypse\", \"apocalypse\", \"apocalypse\", \"apocalypse\", \"apocalypse\", \"apocalypse\", \"apocalypse\", \"apocalypse\", \"apocalypse\", \"apocalypse\", \"apocalypse\", \"apocalypse\", \"apocalypse\", \"apocalypse\", \"apocalypse\", \"apocalypse\", \"apocalypse\", \"apocalypse\", \"apocalypse\", \"apocalypse\", \"apocalypse\", \"apocalypse\", \"apocalypse\", \"apocalypse\", \"apocalypse\", \"armageddon\", \"armageddon\", \"armageddon\", \"armageddon\", \"armageddon\", \"armageddon\", \"armageddon\", \"armageddon\", \"armageddon\", \"armageddon\", \"armageddon\", \"armageddon\", \"armageddon\", \"armageddon\", \"armageddon\", \"armageddon\", \"armageddon\", \"armageddon\", \"armageddon\", \"armageddon\", \"armageddon\", \"armageddon\", \"armageddon\", \"armageddon\", \"armageddon\", \"armageddon\", \"armageddon\", \"armageddon\", \"armageddon\", \"armageddon\", \"armageddon\", \"armageddon\", \"armageddon\", \"armageddon\", \"armageddon\", \"armageddon\", \"armageddon\", \"armageddon\", \"armageddon\", \"armageddon\", \"armageddon\", \"armageddon\", \"army\", \"army\", \"army\", \"army\", \"army\", \"army\", \"army\", \"army\", \"army\", \"army\", \"army\", \"army\", \"army\", \"army\", \"army\", \"army\", \"army\", \"army\", \"army\", \"army\", \"army\", \"army\", \"army\", \"army\", \"army\", \"army\", \"army\", \"army\", \"army\", \"army\", \"army\", \"army\", \"army\", \"army\", \"arson\", \"arson\", \"arson\", \"arson\", \"arson\", \"arson\", \"arson\", \"arson\", \"arson\", \"arson\", \"arson\", \"arson\", \"arson\", \"arson\", \"arson\", \"arson\", \"arson\", \"arson\", \"arson\", \"arson\", \"arson\", \"arson\", \"arson\", \"arson\", \"arson\", \"arson\", \"arson\", \"arson\", \"arson\", \"arson\", \"arson\", \"arson\", \"arsonist\", \"arsonist\", \"arsonist\", \"arsonist\", \"arsonist\", \"arsonist\", \"arsonist\", \"arsonist\", \"arsonist\", \"arsonist\", \"arsonist\", \"arsonist\", \"arsonist\", \"arsonist\", \"arsonist\", \"arsonist\", \"arsonist\", \"arsonist\", \"arsonist\", \"arsonist\", \"arsonist\", \"arsonist\", \"arsonist\", \"arsonist\", \"arsonist\", \"arsonist\", \"arsonist\", \"arsonist\", \"arsonist\", \"arsonist\", \"arsonist\", \"arsonist\", \"arsonist\", \"arsonist\", \"attack\", \"attack\", \"attack\", \"attack\", \"attack\", \"attack\", \"attack\", \"attack\", \"attack\", \"attack\", \"attack\", \"attack\", \"attack\", \"attack\", \"attack\", \"attack\", \"attack\", \"attack\", \"attack\", \"attack\", \"attack\", \"attack\", \"attack\", \"attack\", \"attack\", \"attack\", \"attack\", \"attack\", \"attack\", \"attack\", \"attack\", \"attack\", \"attack\", \"attack\", \"attack\", \"attack\", \"attacked\", \"attacked\", \"attacked\", \"attacked\", \"attacked\", \"attacked\", \"attacked\", \"attacked\", \"attacked\", \"attacked\", \"attacked\", \"attacked\", \"attacked\", \"attacked\", \"attacked\", \"attacked\", \"attacked\", \"attacked\", \"attacked\", \"attacked\", \"attacked\", \"attacked\", \"attacked\", \"attacked\", \"attacked\", \"attacked\", \"attacked\", \"attacked\", \"attacked\", \"attacked\", \"attacked\", \"attacked\", \"attacked\", \"attacked\", \"attacked\", \"avalanche\", \"avalanche\", \"avalanche\", \"avalanche\", \"avalanche\", \"avalanche\", \"avalanche\", \"avalanche\", \"avalanche\", \"avalanche\", \"avalanche\", \"avalanche\", \"avalanche\", \"avalanche\", \"avalanche\", \"avalanche\", \"avalanche\", \"avalanche\", \"avalanche\", \"avalanche\", \"avalanche\", \"avalanche\", \"avalanche\", \"avalanche\", \"avalanche\", \"avalanche\", \"avalanche\", \"avalanche\", \"avalanche\", \"avalanche\", \"battle\", \"battle\", \"battle\", \"battle\", \"battle\", \"battle\", \"battle\", \"battle\", \"battle\", \"battle\", \"battle\", \"battle\", \"battle\", \"battle\", \"battle\", \"battle\", \"battle\", \"battle\", \"battle\", \"battle\", \"battle\", \"battle\", \"battle\", \"battle\", \"battle\", \"battle\", \"bioterror\", \"bioterror\", \"bioterror\", \"bioterror\", \"bioterror\", \"bioterror\", \"bioterror\", \"bioterror\", \"bioterror\", \"bioterror\", \"bioterror\", \"bioterror\", \"bioterror\", \"bioterror\", \"bioterror\", \"bioterror\", \"bioterror\", \"bioterror\", \"bioterror\", \"bioterror\", \"bioterror\", \"bioterror\", \"bioterror\", \"bioterror\", \"bioterror\", \"bioterror\", \"bioterror\", \"bioterror\", \"bioterror\", \"bioterror\", \"bioterror\", \"bioterror\", \"bioterror\", \"bioterror\", \"bioterror\", \"bioterror\", \"bioterror\", \"bioterrorism\", \"bioterrorism\", \"bioterrorism\", \"bioterrorism\", \"bioterrorism\", \"bioterrorism\", \"bioterrorism\", \"bioterrorism\", \"bioterrorism\", \"bioterrorism\", \"bioterrorism\", \"bioterrorism\", \"bioterrorism\", \"bioterrorism\", \"bioterrorism\", \"bioterrorism\", \"bioterrorism\", \"bioterrorism\", \"bioterrorism\", \"bioterrorism\", \"bioterrorism\", \"bioterrorism\", \"bioterrorism\", \"bioterrorism\", \"bioterrorism\", \"bioterrorism\", \"bioterrorism\", \"bioterrorism\", \"bioterrorism\", \"bioterrorism\", \"blaze\", \"blaze\", \"blaze\", \"blaze\", \"blaze\", \"blaze\", \"blaze\", \"blaze\", \"blaze\", \"blaze\", \"blaze\", \"blaze\", \"blaze\", \"blaze\", \"blaze\", \"blaze\", \"blaze\", \"blaze\", \"blaze\", \"blaze\", \"blaze\", \"blaze\", \"blaze\", \"blaze\", \"blaze\", \"blaze\", \"blaze\", \"blaze\", \"blaze\", \"blaze\", \"blaze\", \"blaze\", \"blaze\", \"blaze\", \"blaze\", \"blaze\", \"blaze\", \"blaze\", \"blazing\", \"blazing\", \"blazing\", \"blazing\", \"blazing\", \"blazing\", \"blazing\", \"blazing\", \"blazing\", \"blazing\", \"blazing\", \"blazing\", \"blazing\", \"blazing\", \"blazing\", \"blazing\", \"blazing\", \"blazing\", \"blazing\", \"blazing\", \"blazing\", \"blazing\", \"blazing\", \"blazing\", \"blazing\", \"blazing\", \"blazing\", \"blazing\", \"blazing\", \"blazing\", \"blazing\", \"blazing\", \"blazing\", \"blazing\", \"bleeding\", \"bleeding\", \"bleeding\", \"bleeding\", \"bleeding\", \"bleeding\", \"bleeding\", \"bleeding\", \"bleeding\", \"bleeding\", \"bleeding\", \"bleeding\", \"bleeding\", \"bleeding\", \"bleeding\", \"bleeding\", \"bleeding\", \"bleeding\", \"bleeding\", \"bleeding\", \"bleeding\", \"bleeding\", \"bleeding\", \"bleeding\", \"bleeding\", \"bleeding\", \"bleeding\", \"bleeding\", \"bleeding\", \"bleeding\", \"bleeding\", \"bleeding\", \"bleeding\", \"bleeding\", \"bleeding\", \"blew%20up\", \"blew%20up\", \"blew%20up\", \"blew%20up\", \"blew%20up\", \"blew%20up\", \"blew%20up\", \"blew%20up\", \"blew%20up\", \"blew%20up\", \"blew%20up\", \"blew%20up\", \"blew%20up\", \"blew%20up\", \"blew%20up\", \"blew%20up\", \"blew%20up\", \"blew%20up\", \"blew%20up\", \"blew%20up\", \"blew%20up\", \"blew%20up\", \"blew%20up\", \"blew%20up\", \"blew%20up\", \"blew%20up\", \"blew%20up\", \"blew%20up\", \"blew%20up\", \"blew%20up\", \"blew%20up\", \"blew%20up\", \"blew%20up\", \"blight\", \"blight\", \"blight\", \"blight\", \"blight\", \"blight\", \"blight\", \"blight\", \"blight\", \"blight\", \"blight\", \"blight\", \"blight\", \"blight\", \"blight\", \"blight\", \"blight\", \"blight\", \"blight\", \"blight\", \"blight\", \"blight\", \"blight\", \"blight\", \"blight\", \"blight\", \"blight\", \"blight\", \"blight\", \"blight\", \"blight\", \"blight\", \"blizzard\", \"blizzard\", \"blizzard\", \"blizzard\", \"blizzard\", \"blizzard\", \"blizzard\", \"blizzard\", \"blizzard\", \"blizzard\", \"blizzard\", \"blizzard\", \"blizzard\", \"blizzard\", \"blizzard\", \"blizzard\", \"blizzard\", \"blizzard\", \"blizzard\", \"blizzard\", \"blizzard\", \"blizzard\", \"blizzard\", \"blizzard\", \"blizzard\", \"blizzard\", \"blizzard\", \"blizzard\", \"blizzard\", \"blizzard\", \"blizzard\", \"blizzard\", \"blizzard\", \"blizzard\", \"blizzard\", \"blizzard\", \"blizzard\", \"blood\", \"blood\", \"blood\", \"blood\", \"blood\", \"blood\", \"blood\", \"blood\", \"blood\", \"blood\", \"blood\", \"blood\", \"blood\", \"blood\", \"blood\", \"blood\", \"blood\", \"blood\", \"blood\", \"blood\", \"blood\", \"blood\", \"blood\", \"blood\", \"blood\", \"blood\", \"blood\", \"blood\", \"blood\", \"blood\", \"blood\", \"blood\", \"blood\", \"blood\", \"blood\", \"bloody\", \"bloody\", \"bloody\", \"bloody\", \"bloody\", \"bloody\", \"bloody\", \"bloody\", \"bloody\", \"bloody\", \"bloody\", \"bloody\", \"bloody\", \"bloody\", \"bloody\", \"bloody\", \"bloody\", \"bloody\", \"bloody\", \"bloody\", \"bloody\", \"bloody\", \"bloody\", \"bloody\", \"bloody\", \"bloody\", \"bloody\", \"bloody\", \"bloody\", \"bloody\", \"bloody\", \"bloody\", \"bloody\", \"bloody\", \"bloody\", \"blown%20up\", \"blown%20up\", \"blown%20up\", \"blown%20up\", \"blown%20up\", \"blown%20up\", \"blown%20up\", \"blown%20up\", \"blown%20up\", \"blown%20up\", \"blown%20up\", \"blown%20up\", \"blown%20up\", \"blown%20up\", \"blown%20up\", \"blown%20up\", \"blown%20up\", \"blown%20up\", \"blown%20up\", \"blown%20up\", \"blown%20up\", \"blown%20up\", \"blown%20up\", \"blown%20up\", \"blown%20up\", \"blown%20up\", \"blown%20up\", \"blown%20up\", \"blown%20up\", \"blown%20up\", \"blown%20up\", \"blown%20up\", \"blown%20up\", \"body%20bag\", \"body%20bag\", \"body%20bag\", \"body%20bag\", \"body%20bag\", \"body%20bag\", \"body%20bag\", \"body%20bag\", \"body%20bag\", \"body%20bag\", \"body%20bag\", \"body%20bag\", \"body%20bag\", \"body%20bag\", \"body%20bag\", \"body%20bag\", \"body%20bag\", \"body%20bag\", \"body%20bag\", \"body%20bag\", \"body%20bag\", \"body%20bag\", \"body%20bag\", \"body%20bag\", \"body%20bag\", \"body%20bag\", \"body%20bag\", \"body%20bag\", \"body%20bag\", \"body%20bag\", \"body%20bag\", \"body%20bag\", \"body%20bag\", \"body%20bagging\", \"body%20bagging\", \"body%20bagging\", \"body%20bagging\", \"body%20bagging\", \"body%20bagging\", \"body%20bagging\", \"body%20bagging\", \"body%20bagging\", \"body%20bagging\", \"body%20bagging\", \"body%20bagging\", \"body%20bagging\", \"body%20bagging\", \"body%20bagging\", \"body%20bagging\", \"body%20bagging\", \"body%20bagging\", \"body%20bagging\", \"body%20bagging\", \"body%20bagging\", \"body%20bagging\", \"body%20bagging\", \"body%20bagging\", \"body%20bagging\", \"body%20bagging\", \"body%20bagging\", \"body%20bagging\", \"body%20bagging\", \"body%20bagging\", \"body%20bagging\", \"body%20bagging\", \"body%20bagging\", \"body%20bags\", \"body%20bags\", \"body%20bags\", \"body%20bags\", \"body%20bags\", \"body%20bags\", \"body%20bags\", \"body%20bags\", \"body%20bags\", \"body%20bags\", \"body%20bags\", \"body%20bags\", \"body%20bags\", \"body%20bags\", \"body%20bags\", \"body%20bags\", \"body%20bags\", \"body%20bags\", \"body%20bags\", \"body%20bags\", \"body%20bags\", \"body%20bags\", \"body%20bags\", \"body%20bags\", \"body%20bags\", \"body%20bags\", \"body%20bags\", \"body%20bags\", \"body%20bags\", \"body%20bags\", \"body%20bags\", \"body%20bags\", \"body%20bags\", \"body%20bags\", \"body%20bags\", \"body%20bags\", \"body%20bags\", \"body%20bags\", \"body%20bags\", \"body%20bags\", \"body%20bags\", \"bomb\", \"bomb\", \"bomb\", \"bomb\", \"bomb\", \"bomb\", \"bomb\", \"bomb\", \"bomb\", \"bomb\", \"bomb\", \"bomb\", \"bomb\", \"bomb\", \"bomb\", \"bomb\", \"bomb\", \"bomb\", \"bomb\", \"bomb\", \"bomb\", \"bomb\", \"bomb\", \"bomb\", \"bomb\", \"bomb\", \"bomb\", \"bomb\", \"bomb\", \"bomb\", \"bomb\", \"bomb\", \"bomb\", \"bomb\", \"bombed\", \"bombed\", \"bombed\", \"bombed\", \"bombed\", \"bombed\", \"bombed\", \"bombed\", \"bombed\", \"bombed\", \"bombed\", \"bombed\", \"bombed\", \"bombed\", \"bombed\", \"bombed\", \"bombed\", \"bombed\", \"bombed\", \"bombed\", \"bombed\", \"bombed\", \"bombed\", \"bombed\", \"bombed\", \"bombed\", \"bombed\", \"bombed\", \"bombed\", \"bombed\", \"bombed\", \"bombed\", \"bombed\", \"bombed\", \"bombed\", \"bombed\", \"bombed\", \"bombed\", \"bombing\", \"bombing\", \"bombing\", \"bombing\", \"bombing\", \"bombing\", \"bombing\", \"bombing\", \"bombing\", \"bombing\", \"bombing\", \"bombing\", \"bombing\", \"bombing\", \"bombing\", \"bombing\", \"bombing\", \"bombing\", \"bombing\", \"bombing\", \"bombing\", \"bombing\", \"bombing\", \"bombing\", \"bombing\", \"bombing\", \"bombing\", \"bombing\", \"bombing\", \"bridge%20collapse\", \"bridge%20collapse\", \"bridge%20collapse\", \"bridge%20collapse\", \"bridge%20collapse\", \"bridge%20collapse\", \"bridge%20collapse\", \"bridge%20collapse\", \"bridge%20collapse\", \"bridge%20collapse\", \"bridge%20collapse\", \"bridge%20collapse\", \"bridge%20collapse\", \"bridge%20collapse\", \"bridge%20collapse\", \"bridge%20collapse\", \"bridge%20collapse\", \"bridge%20collapse\", \"bridge%20collapse\", \"bridge%20collapse\", \"bridge%20collapse\", \"bridge%20collapse\", \"bridge%20collapse\", \"bridge%20collapse\", \"bridge%20collapse\", \"bridge%20collapse\", \"bridge%20collapse\", \"bridge%20collapse\", \"bridge%20collapse\", \"bridge%20collapse\", \"bridge%20collapse\", \"bridge%20collapse\", \"bridge%20collapse\", \"bridge%20collapse\", \"bridge%20collapse\", \"buildings%20burning\", \"buildings%20burning\", \"buildings%20burning\", \"buildings%20burning\", \"buildings%20burning\", \"buildings%20burning\", \"buildings%20burning\", \"buildings%20burning\", \"buildings%20burning\", \"buildings%20burning\", \"buildings%20burning\", \"buildings%20burning\", \"buildings%20burning\", \"buildings%20burning\", \"buildings%20burning\", \"buildings%20burning\", \"buildings%20burning\", \"buildings%20burning\", \"buildings%20burning\", \"buildings%20burning\", \"buildings%20burning\", \"buildings%20burning\", \"buildings%20burning\", \"buildings%20burning\", \"buildings%20burning\", \"buildings%20burning\", \"buildings%20burning\", \"buildings%20burning\", \"buildings%20burning\", \"buildings%20burning\", \"buildings%20burning\", \"buildings%20burning\", \"buildings%20burning\", \"buildings%20burning\", \"buildings%20burning\", \"buildings%20on%20fire\", \"buildings%20on%20fire\", \"buildings%20on%20fire\", \"buildings%20on%20fire\", \"buildings%20on%20fire\", \"buildings%20on%20fire\", \"buildings%20on%20fire\", \"buildings%20on%20fire\", \"buildings%20on%20fire\", \"buildings%20on%20fire\", \"buildings%20on%20fire\", \"buildings%20on%20fire\", \"buildings%20on%20fire\", \"buildings%20on%20fire\", \"buildings%20on%20fire\", \"buildings%20on%20fire\", \"buildings%20on%20fire\", \"buildings%20on%20fire\", \"buildings%20on%20fire\", \"buildings%20on%20fire\", \"buildings%20on%20fire\", \"buildings%20on%20fire\", \"buildings%20on%20fire\", \"buildings%20on%20fire\", \"buildings%20on%20fire\", \"buildings%20on%20fire\", \"buildings%20on%20fire\", \"buildings%20on%20fire\", \"buildings%20on%20fire\", \"buildings%20on%20fire\", \"buildings%20on%20fire\", \"buildings%20on%20fire\", \"buildings%20on%20fire\", \"burned\", \"burned\", \"burned\", \"burned\", \"burned\", \"burned\", \"burned\", \"burned\", \"burned\", \"burned\", \"burned\", \"burned\", \"burned\", \"burned\", \"burned\", \"burned\", \"burned\", \"burned\", \"burned\", \"burned\", \"burned\", \"burned\", \"burned\", \"burned\", \"burned\", \"burned\", \"burned\", \"burned\", \"burned\", \"burned\", \"burned\", \"burned\", \"burned\", \"burning\", \"burning\", \"burning\", \"burning\", \"burning\", \"burning\", \"burning\", \"burning\", \"burning\", \"burning\", \"burning\", \"burning\", \"burning\", \"burning\", \"burning\", \"burning\", \"burning\", \"burning\", \"burning\", \"burning\", \"burning\", \"burning\", \"burning\", \"burning\", \"burning\", \"burning\", \"burning\", \"burning\", \"burning\", \"burning\", \"burning\", \"burning\", \"burning\", \"burning\", \"burning%20buildings\", \"burning%20buildings\", \"burning%20buildings\", \"burning%20buildings\", \"burning%20buildings\", \"burning%20buildings\", \"burning%20buildings\", \"burning%20buildings\", \"burning%20buildings\", \"burning%20buildings\", \"burning%20buildings\", \"burning%20buildings\", \"burning%20buildings\", \"burning%20buildings\", \"burning%20buildings\", \"burning%20buildings\", \"burning%20buildings\", \"burning%20buildings\", \"burning%20buildings\", \"burning%20buildings\", \"burning%20buildings\", \"burning%20buildings\", \"burning%20buildings\", \"burning%20buildings\", \"burning%20buildings\", \"burning%20buildings\", \"burning%20buildings\", \"burning%20buildings\", \"burning%20buildings\", \"burning%20buildings\", \"burning%20buildings\", \"burning%20buildings\", \"burning%20buildings\", \"burning%20buildings\", \"burning%20buildings\", \"burning%20buildings\", \"burning%20buildings\", \"bush%20fires\", \"bush%20fires\", \"bush%20fires\", \"bush%20fires\", \"bush%20fires\", \"bush%20fires\", \"bush%20fires\", \"bush%20fires\", \"bush%20fires\", \"bush%20fires\", \"bush%20fires\", \"bush%20fires\", \"bush%20fires\", \"bush%20fires\", \"bush%20fires\", \"bush%20fires\", \"bush%20fires\", \"bush%20fires\", \"bush%20fires\", \"bush%20fires\", \"bush%20fires\", \"bush%20fires\", \"bush%20fires\", \"bush%20fires\", \"bush%20fires\", \"casualties\", \"casualties\", \"casualties\", \"casualties\", \"casualties\", \"casualties\", \"casualties\", \"casualties\", \"casualties\", \"casualties\", \"casualties\", \"casualties\", \"casualties\", \"casualties\", \"casualties\", \"casualties\", \"casualties\", \"casualties\", \"casualties\", \"casualties\", \"casualties\", \"casualties\", \"casualties\", \"casualties\", \"casualties\", \"casualties\", \"casualties\", \"casualties\", \"casualties\", \"casualties\", \"casualties\", \"casualties\", \"casualties\", \"casualties\", \"casualties\", \"casualty\", \"casualty\", \"casualty\", \"casualty\", \"casualty\", \"casualty\", \"casualty\", \"casualty\", \"casualty\", \"casualty\", \"casualty\", \"casualty\", \"casualty\", \"casualty\", \"casualty\", \"casualty\", \"casualty\", \"casualty\", \"casualty\", \"casualty\", \"casualty\", \"casualty\", \"casualty\", \"casualty\", \"casualty\", \"casualty\", \"casualty\", \"casualty\", \"casualty\", \"casualty\", \"casualty\", \"casualty\", \"casualty\", \"casualty\", \"catastrophe\", \"catastrophe\", \"catastrophe\", \"catastrophe\", \"catastrophe\", \"catastrophe\", \"catastrophe\", \"catastrophe\", \"catastrophe\", \"catastrophe\", \"catastrophe\", \"catastrophe\", \"catastrophe\", \"catastrophe\", \"catastrophe\", \"catastrophe\", \"catastrophe\", \"catastrophe\", \"catastrophe\", \"catastrophe\", \"catastrophe\", \"catastrophe\", \"catastrophe\", \"catastrophe\", \"catastrophe\", \"catastrophe\", \"catastrophe\", \"catastrophe\", \"catastrophe\", \"catastrophe\", \"catastrophe\", \"catastrophe\", \"catastrophe\", \"catastrophe\", \"catastrophe\", \"catastrophe\", \"catastrophic\", \"catastrophic\", \"catastrophic\", \"catastrophic\", \"catastrophic\", \"catastrophic\", \"catastrophic\", \"catastrophic\", \"catastrophic\", \"catastrophic\", \"catastrophic\", \"catastrophic\", \"catastrophic\", \"catastrophic\", \"catastrophic\", \"catastrophic\", \"catastrophic\", \"catastrophic\", \"catastrophic\", \"catastrophic\", \"catastrophic\", \"catastrophic\", \"catastrophic\", \"catastrophic\", \"catastrophic\", \"catastrophic\", \"catastrophic\", \"catastrophic\", \"catastrophic\", \"catastrophic\", \"chemical%20emergency\", \"chemical%20emergency\", \"chemical%20emergency\", \"chemical%20emergency\", \"chemical%20emergency\", \"chemical%20emergency\", \"chemical%20emergency\", \"chemical%20emergency\", \"chemical%20emergency\", \"chemical%20emergency\", \"chemical%20emergency\", \"chemical%20emergency\", \"chemical%20emergency\", \"chemical%20emergency\", \"chemical%20emergency\", \"chemical%20emergency\", \"chemical%20emergency\", \"chemical%20emergency\", \"chemical%20emergency\", \"chemical%20emergency\", \"chemical%20emergency\", \"chemical%20emergency\", \"chemical%20emergency\", \"chemical%20emergency\", \"chemical%20emergency\", \"chemical%20emergency\", \"chemical%20emergency\", \"chemical%20emergency\", \"chemical%20emergency\", \"chemical%20emergency\", \"chemical%20emergency\", \"chemical%20emergency\", \"chemical%20emergency\", \"cliff%20fall\", \"cliff%20fall\", \"cliff%20fall\", \"cliff%20fall\", \"cliff%20fall\", \"cliff%20fall\", \"cliff%20fall\", \"cliff%20fall\", \"cliff%20fall\", \"cliff%20fall\", \"cliff%20fall\", \"cliff%20fall\", \"cliff%20fall\", \"cliff%20fall\", \"cliff%20fall\", \"cliff%20fall\", \"cliff%20fall\", \"cliff%20fall\", \"cliff%20fall\", \"cliff%20fall\", \"cliff%20fall\", \"cliff%20fall\", \"cliff%20fall\", \"cliff%20fall\", \"cliff%20fall\", \"cliff%20fall\", \"cliff%20fall\", \"cliff%20fall\", \"cliff%20fall\", \"cliff%20fall\", \"cliff%20fall\", \"cliff%20fall\", \"cliff%20fall\", \"cliff%20fall\", \"cliff%20fall\", \"cliff%20fall\", \"collapse\", \"collapse\", \"collapse\", \"collapse\", \"collapse\", \"collapse\", \"collapse\", \"collapse\", \"collapse\", \"collapse\", \"collapse\", \"collapse\", \"collapse\", \"collapse\", \"collapse\", \"collapse\", \"collapse\", \"collapse\", \"collapse\", \"collapse\", \"collapse\", \"collapse\", \"collapse\", \"collapse\", \"collapse\", \"collapse\", \"collapse\", \"collapse\", \"collapse\", \"collapse\", \"collapse\", \"collapse\", \"collapse\", \"collapse\", \"collapsed\", \"collapsed\", \"collapsed\", \"collapsed\", \"collapsed\", \"collapsed\", \"collapsed\", \"collapsed\", \"collapsed\", \"collapsed\", \"collapsed\", \"collapsed\", \"collapsed\", \"collapsed\", \"collapsed\", \"collapsed\", \"collapsed\", \"collapsed\", \"collapsed\", \"collapsed\", \"collapsed\", \"collapsed\", \"collapsed\", \"collapsed\", \"collapsed\", \"collapsed\", \"collapsed\", \"collapsed\", \"collapsed\", \"collapsed\", \"collapsed\", \"collapsed\", \"collapsed\", \"collapsed\", \"collapsed\", \"collide\", \"collide\", \"collide\", \"collide\", \"collide\", \"collide\", \"collide\", \"collide\", \"collide\", \"collide\", \"collide\", \"collide\", \"collide\", \"collide\", \"collide\", \"collide\", \"collide\", \"collide\", \"collide\", \"collide\", \"collide\", \"collide\", \"collide\", \"collide\", \"collide\", \"collide\", \"collide\", \"collide\", \"collide\", \"collide\", \"collide\", \"collide\", \"collide\", \"collide\", \"collided\", \"collided\", \"collided\", \"collided\", \"collided\", \"collided\", \"collided\", \"collided\", \"collided\", \"collided\", \"collided\", \"collided\", \"collided\", \"collided\", \"collided\", \"collided\", \"collided\", \"collided\", \"collided\", \"collided\", \"collided\", \"collided\", \"collided\", \"collided\", \"collided\", \"collided\", \"collided\", \"collided\", \"collided\", \"collided\", \"collided\", \"collided\", \"collided\", \"collided\", \"collided\", \"collided\", \"collided\", \"collided\", \"collided\", \"collided\", \"collision\", \"collision\", \"collision\", \"collision\", \"collision\", \"collision\", \"collision\", \"collision\", \"collision\", \"collision\", \"collision\", \"collision\", \"collision\", \"collision\", \"collision\", \"collision\", \"collision\", \"collision\", \"collision\", \"collision\", \"collision\", \"collision\", \"collision\", \"collision\", \"collision\", \"collision\", \"collision\", \"collision\", \"collision\", \"collision\", \"collision\", \"collision\", \"collision\", \"collision\", \"collision\", \"collision\", \"collision\", \"collision\", \"collision\", \"crash\", \"crash\", \"crash\", \"crash\", \"crash\", \"crash\", \"crash\", \"crash\", \"crash\", \"crash\", \"crash\", \"crash\", \"crash\", \"crash\", \"crash\", \"crash\", \"crash\", \"crash\", \"crash\", \"crash\", \"crash\", \"crash\", \"crash\", \"crash\", \"crash\", \"crash\", \"crash\", \"crash\", \"crash\", \"crash\", \"crash\", \"crash\", \"crash\", \"crashed\", \"crashed\", \"crashed\", \"crashed\", \"crashed\", \"crashed\", \"crashed\", \"crashed\", \"crashed\", \"crashed\", \"crashed\", \"crashed\", \"crashed\", \"crashed\", \"crashed\", \"crashed\", \"crashed\", \"crashed\", \"crashed\", \"crashed\", \"crashed\", \"crashed\", \"crashed\", \"crashed\", \"crashed\", \"crashed\", \"crashed\", \"crashed\", \"crashed\", \"crashed\", \"crashed\", \"crashed\", \"crashed\", \"crashed\", \"crush\", \"crush\", \"crush\", \"crush\", \"crush\", \"crush\", \"crush\", \"crush\", \"crush\", \"crush\", \"crush\", \"crush\", \"crush\", \"crush\", \"crush\", \"crush\", \"crush\", \"crush\", \"crush\", \"crush\", \"crush\", \"crush\", \"crush\", \"crush\", \"crush\", \"crush\", \"crush\", \"crush\", \"crush\", \"crush\", \"crush\", \"crush\", \"crush\", \"crush\", \"crush\", \"crush\", \"crush\", \"crushed\", \"crushed\", \"crushed\", \"crushed\", \"crushed\", \"crushed\", \"crushed\", \"crushed\", \"crushed\", \"crushed\", \"crushed\", \"crushed\", \"crushed\", \"crushed\", \"crushed\", \"crushed\", \"crushed\", \"crushed\", \"crushed\", \"crushed\", \"crushed\", \"crushed\", \"crushed\", \"crushed\", \"crushed\", \"crushed\", \"crushed\", \"crushed\", \"crushed\", \"crushed\", \"crushed\", \"curfew\", \"curfew\", \"curfew\", \"curfew\", \"curfew\", \"curfew\", \"curfew\", \"curfew\", \"curfew\", \"curfew\", \"curfew\", \"curfew\", \"curfew\", \"curfew\", \"curfew\", \"curfew\", \"curfew\", \"curfew\", \"curfew\", \"curfew\", \"curfew\", \"curfew\", \"curfew\", \"curfew\", \"curfew\", \"curfew\", \"curfew\", \"curfew\", \"curfew\", \"curfew\", \"curfew\", \"curfew\", \"curfew\", \"curfew\", \"curfew\", \"curfew\", \"curfew\", \"cyclone\", \"cyclone\", \"cyclone\", \"cyclone\", \"cyclone\", \"cyclone\", \"cyclone\", \"cyclone\", \"cyclone\", \"cyclone\", \"cyclone\", \"cyclone\", \"cyclone\", \"cyclone\", \"cyclone\", \"cyclone\", \"cyclone\", \"cyclone\", \"cyclone\", \"cyclone\", \"cyclone\", \"cyclone\", \"cyclone\", \"cyclone\", \"cyclone\", \"cyclone\", \"cyclone\", \"cyclone\", \"cyclone\", \"cyclone\", \"cyclone\", \"cyclone\", \"damage\", \"damage\", \"damage\", \"damage\", \"damage\", \"damage\", \"damage\", \"damage\", \"damage\", \"damage\", \"damage\", \"damage\", \"damage\", \"damage\", \"damage\", \"damage\", \"damage\", \"damage\", \"damage\", \"damage\", \"damage\", \"damage\", \"damage\", \"damage\", \"damage\", \"damage\", \"damage\", \"damage\", \"damage\", \"damage\", \"damage\", \"damage\", \"damage\", \"damage\", \"damage\", \"damage\", \"damage\", \"damage\", \"damage\", \"damage\", \"damage\", \"danger\", \"danger\", \"danger\", \"danger\", \"danger\", \"danger\", \"danger\", \"danger\", \"danger\", \"danger\", \"danger\", \"danger\", \"danger\", \"danger\", \"danger\", \"danger\", \"danger\", \"danger\", \"danger\", \"danger\", \"danger\", \"danger\", \"danger\", \"danger\", \"danger\", \"danger\", \"danger\", \"danger\", \"danger\", \"danger\", \"danger\", \"danger\", \"danger\", \"danger\", \"danger\", \"danger\", \"dead\", \"dead\", \"dead\", \"dead\", \"dead\", \"dead\", \"dead\", \"dead\", \"dead\", \"dead\", \"dead\", \"dead\", \"dead\", \"dead\", \"dead\", \"dead\", \"dead\", \"dead\", \"dead\", \"dead\", \"dead\", \"dead\", \"dead\", \"dead\", \"dead\", \"dead\", \"dead\", \"dead\", \"dead\", \"dead\", \"death\", \"death\", \"death\", \"death\", \"death\", \"death\", \"death\", \"death\", \"death\", \"death\", \"death\", \"death\", \"death\", \"death\", \"death\", \"death\", \"death\", \"death\", \"death\", \"death\", \"death\", \"death\", \"death\", \"death\", \"death\", \"death\", \"death\", \"death\", \"death\", \"death\", \"death\", \"death\", \"death\", \"death\", \"death\", \"death\", \"deaths\", \"deaths\", \"deaths\", \"deaths\", \"deaths\", \"deaths\", \"deaths\", \"deaths\", \"deaths\", \"deaths\", \"deaths\", \"deaths\", \"deaths\", \"deaths\", \"deaths\", \"deaths\", \"deaths\", \"deaths\", \"deaths\", \"deaths\", \"deaths\", \"deaths\", \"deaths\", \"deaths\", \"deaths\", \"deaths\", \"deaths\", \"deaths\", \"deaths\", \"deaths\", \"deaths\", \"deaths\", \"deaths\", \"deaths\", \"deaths\", \"deaths\", \"deaths\", \"deaths\", \"debris\", \"debris\", \"debris\", \"debris\", \"debris\", \"debris\", \"debris\", \"debris\", \"debris\", \"debris\", \"debris\", \"debris\", \"debris\", \"debris\", \"debris\", \"debris\", \"debris\", \"debris\", \"debris\", \"debris\", \"debris\", \"debris\", \"debris\", \"debris\", \"debris\", \"debris\", \"debris\", \"debris\", \"debris\", \"debris\", \"debris\", \"debris\", \"debris\", \"debris\", \"debris\", \"debris\", \"debris\", \"deluge\", \"deluge\", \"deluge\", \"deluge\", \"deluge\", \"deluge\", \"deluge\", \"deluge\", \"deluge\", \"deluge\", \"deluge\", \"deluge\", \"deluge\", \"deluge\", \"deluge\", \"deluge\", \"deluge\", \"deluge\", \"deluge\", \"deluge\", \"deluge\", \"deluge\", \"deluge\", \"deluge\", \"deluge\", \"deluge\", \"deluge\", \"deluge\", \"deluge\", \"deluge\", \"deluge\", \"deluge\", \"deluge\", \"deluge\", \"deluge\", \"deluge\", \"deluge\", \"deluge\", \"deluge\", \"deluge\", \"deluge\", \"deluge\", \"deluged\", \"deluged\", \"deluged\", \"deluged\", \"deluged\", \"deluged\", \"deluged\", \"deluged\", \"deluged\", \"deluged\", \"deluged\", \"deluged\", \"deluged\", \"deluged\", \"deluged\", \"deluged\", \"deluged\", \"deluged\", \"deluged\", \"deluged\", \"deluged\", \"deluged\", \"deluged\", \"deluged\", \"deluged\", \"deluged\", \"deluged\", \"demolish\", \"demolish\", \"demolish\", \"demolish\", \"demolish\", \"demolish\", \"demolish\", \"demolish\", \"demolish\", \"demolish\", \"demolish\", \"demolish\", \"demolish\", \"demolish\", \"demolish\", \"demolish\", \"demolish\", \"demolish\", \"demolish\", \"demolish\", \"demolish\", \"demolish\", \"demolish\", \"demolish\", \"demolish\", \"demolish\", \"demolish\", \"demolish\", \"demolish\", \"demolish\", \"demolish\", \"demolish\", \"demolish\", \"demolish\", \"demolished\", \"demolished\", \"demolished\", \"demolished\", \"demolished\", \"demolished\", \"demolished\", \"demolished\", \"demolished\", \"demolished\", \"demolished\", \"demolished\", \"demolished\", \"demolished\", \"demolished\", \"demolished\", \"demolished\", \"demolished\", \"demolished\", \"demolished\", \"demolished\", \"demolished\", \"demolished\", \"demolished\", \"demolished\", \"demolished\", \"demolished\", \"demolished\", \"demolition\", \"demolition\", \"demolition\", \"demolition\", \"demolition\", \"demolition\", \"demolition\", \"demolition\", \"demolition\", \"demolition\", \"demolition\", \"demolition\", \"demolition\", \"demolition\", \"demolition\", \"demolition\", \"demolition\", \"demolition\", \"demolition\", \"demolition\", \"demolition\", \"demolition\", \"demolition\", \"demolition\", \"demolition\", \"demolition\", \"demolition\", \"demolition\", \"demolition\", \"demolition\", \"demolition\", \"demolition\", \"demolition\", \"demolition\", \"demolition\", \"derail\", \"derail\", \"derail\", \"derail\", \"derail\", \"derail\", \"derail\", \"derail\", \"derail\", \"derail\", \"derail\", \"derail\", \"derail\", \"derail\", \"derail\", \"derail\", \"derail\", \"derail\", \"derail\", \"derail\", \"derail\", \"derail\", \"derail\", \"derail\", \"derail\", \"derail\", \"derail\", \"derail\", \"derail\", \"derail\", \"derail\", \"derail\", \"derail\", \"derail\", \"derail\", \"derailed\", \"derailed\", \"derailed\", \"derailed\", \"derailed\", \"derailed\", \"derailed\", \"derailed\", \"derailed\", \"derailed\", \"derailed\", \"derailed\", \"derailed\", \"derailed\", \"derailed\", \"derailed\", \"derailed\", \"derailed\", \"derailed\", \"derailed\", \"derailed\", \"derailed\", \"derailed\", \"derailed\", \"derailed\", \"derailed\", \"derailed\", \"derailed\", \"derailed\", \"derailed\", \"derailed\", \"derailed\", \"derailed\", \"derailed\", \"derailed\", \"derailed\", \"derailed\", \"derailed\", \"derailment\", \"derailment\", \"derailment\", \"derailment\", \"derailment\", \"derailment\", \"derailment\", \"derailment\", \"derailment\", \"derailment\", \"derailment\", \"derailment\", \"derailment\", \"derailment\", \"derailment\", \"derailment\", \"derailment\", \"derailment\", \"derailment\", \"derailment\", \"derailment\", \"derailment\", \"derailment\", \"derailment\", \"derailment\", \"derailment\", \"derailment\", \"derailment\", \"derailment\", \"derailment\", \"derailment\", \"derailment\", \"derailment\", \"derailment\", \"derailment\", \"derailment\", \"derailment\", \"derailment\", \"derailment\", \"desolate\", \"desolate\", \"desolate\", \"desolate\", \"desolate\", \"desolate\", \"desolate\", \"desolate\", \"desolate\", \"desolate\", \"desolate\", \"desolate\", \"desolate\", \"desolate\", \"desolate\", \"desolate\", \"desolate\", \"desolate\", \"desolate\", \"desolate\", \"desolate\", \"desolate\", \"desolate\", \"desolate\", \"desolate\", \"desolate\", \"desolate\", \"desolate\", \"desolate\", \"desolation\", \"desolation\", \"desolation\", \"desolation\", \"desolation\", \"desolation\", \"desolation\", \"desolation\", \"desolation\", \"desolation\", \"desolation\", \"desolation\", \"desolation\", \"desolation\", \"desolation\", \"desolation\", \"desolation\", \"desolation\", \"desolation\", \"desolation\", \"desolation\", \"desolation\", \"desolation\", \"desolation\", \"desolation\", \"desolation\", \"desolation\", \"desolation\", \"desolation\", \"desolation\", \"desolation\", \"desolation\", \"desolation\", \"desolation\", \"desolation\", \"desolation\", \"destroy\", \"destroy\", \"destroy\", \"destroy\", \"destroy\", \"destroy\", \"destroy\", \"destroy\", \"destroy\", \"destroy\", \"destroy\", \"destroy\", \"destroy\", \"destroy\", \"destroy\", \"destroy\", \"destroy\", \"destroy\", \"destroy\", \"destroy\", \"destroy\", \"destroy\", \"destroy\", \"destroy\", \"destroy\", \"destroy\", \"destroy\", \"destroy\", \"destroy\", \"destroy\", \"destroy\", \"destroy\", \"destroy\", \"destroy\", \"destroy\", \"destroy\", \"destroy\", \"destroyed\", \"destroyed\", \"destroyed\", \"destroyed\", \"destroyed\", \"destroyed\", \"destroyed\", \"destroyed\", \"destroyed\", \"destroyed\", \"destroyed\", \"destroyed\", \"destroyed\", \"destroyed\", \"destroyed\", \"destroyed\", \"destroyed\", \"destroyed\", \"destroyed\", \"destroyed\", \"destroyed\", \"destroyed\", \"destroyed\", \"destroyed\", \"destroyed\", \"destroyed\", \"destroyed\", \"destroyed\", \"destroyed\", \"destroyed\", \"destroyed\", \"destroyed\", \"destruction\", \"destruction\", \"destruction\", \"destruction\", \"destruction\", \"destruction\", \"destruction\", \"destruction\", \"destruction\", \"destruction\", \"destruction\", \"destruction\", \"destruction\", \"destruction\", \"destruction\", \"destruction\", \"destruction\", \"destruction\", \"destruction\", \"destruction\", \"destruction\", \"destruction\", \"destruction\", \"destruction\", \"destruction\", \"destruction\", \"destruction\", \"destruction\", \"destruction\", \"destruction\", \"destruction\", \"destruction\", \"destruction\", \"destruction\", \"detonate\", \"detonate\", \"detonate\", \"detonate\", \"detonate\", \"detonate\", \"detonate\", \"detonate\", \"detonate\", \"detonate\", \"detonate\", \"detonate\", \"detonate\", \"detonate\", \"detonate\", \"detonate\", \"detonate\", \"detonate\", \"detonate\", \"detonate\", \"detonate\", \"detonate\", \"detonate\", \"detonate\", \"detonate\", \"detonate\", \"detonate\", \"detonate\", \"detonate\", \"detonate\", \"detonate\", \"detonate\", \"detonate\", \"detonate\", \"detonate\", \"detonate\", \"detonation\", \"detonation\", \"detonation\", \"detonation\", \"detonation\", \"detonation\", \"detonation\", \"detonation\", \"detonation\", \"detonation\", \"detonation\", \"detonation\", \"detonation\", \"detonation\", \"detonation\", \"detonation\", \"detonation\", \"detonation\", \"detonation\", \"detonation\", \"detonation\", \"detonation\", \"detonation\", \"detonation\", \"detonation\", \"detonation\", \"detonation\", \"detonation\", \"detonation\", \"detonation\", \"detonation\", \"detonation\", \"devastated\", \"devastated\", \"devastated\", \"devastated\", \"devastated\", \"devastated\", \"devastated\", \"devastated\", \"devastated\", \"devastated\", \"devastated\", \"devastated\", \"devastated\", \"devastated\", \"devastated\", \"devastated\", \"devastated\", \"devastated\", \"devastated\", \"devastated\", \"devastated\", \"devastated\", \"devastated\", \"devastated\", \"devastated\", \"devastated\", \"devastated\", \"devastated\", \"devastated\", \"devastated\", \"devastated\", \"devastation\", \"devastation\", \"devastation\", \"devastation\", \"devastation\", \"devastation\", \"devastation\", \"devastation\", \"devastation\", \"devastation\", \"devastation\", \"devastation\", \"devastation\", \"devastation\", \"devastation\", \"devastation\", \"devastation\", \"devastation\", \"devastation\", \"devastation\", \"devastation\", \"devastation\", \"devastation\", \"devastation\", \"devastation\", \"devastation\", \"devastation\", \"devastation\", \"devastation\", \"devastation\", \"devastation\", \"devastation\", \"devastation\", \"devastation\", \"devastation\", \"devastation\", \"disaster\", \"disaster\", \"disaster\", \"disaster\", \"disaster\", \"disaster\", \"disaster\", \"disaster\", \"disaster\", \"disaster\", \"disaster\", \"disaster\", \"disaster\", \"disaster\", \"disaster\", \"disaster\", \"disaster\", \"disaster\", \"disaster\", \"disaster\", \"disaster\", \"disaster\", \"disaster\", \"disaster\", \"disaster\", \"disaster\", \"disaster\", \"disaster\", \"disaster\", \"disaster\", \"disaster\", \"disaster\", \"disaster\", \"disaster\", \"disaster\", \"displaced\", \"displaced\", \"displaced\", \"displaced\", \"displaced\", \"displaced\", \"displaced\", \"displaced\", \"displaced\", \"displaced\", \"displaced\", \"displaced\", \"displaced\", \"displaced\", \"displaced\", \"displaced\", \"displaced\", \"displaced\", \"displaced\", \"displaced\", \"displaced\", \"displaced\", \"displaced\", \"displaced\", \"displaced\", \"displaced\", \"displaced\", \"displaced\", \"displaced\", \"displaced\", \"displaced\", \"displaced\", \"displaced\", \"displaced\", \"displaced\", \"displaced\", \"drought\", \"drought\", \"drought\", \"drought\", \"drought\", \"drought\", \"drought\", \"drought\", \"drought\", \"drought\", \"drought\", \"drought\", \"drought\", \"drought\", \"drought\", \"drought\", \"drought\", \"drought\", \"drought\", \"drought\", \"drought\", \"drought\", \"drought\", \"drought\", \"drought\", \"drought\", \"drought\", \"drought\", \"drought\", \"drought\", \"drought\", \"drought\", \"drought\", \"drought\", \"drought\", \"drown\", \"drown\", \"drown\", \"drown\", \"drown\", \"drown\", \"drown\", \"drown\", \"drown\", \"drown\", \"drown\", \"drown\", \"drown\", \"drown\", \"drown\", \"drown\", \"drown\", \"drown\", \"drown\", \"drown\", \"drown\", \"drown\", \"drown\", \"drown\", \"drown\", \"drown\", \"drown\", \"drown\", \"drown\", \"drown\", \"drown\", \"drown\", \"drowned\", \"drowned\", \"drowned\", \"drowned\", \"drowned\", \"drowned\", \"drowned\", \"drowned\", \"drowned\", \"drowned\", \"drowned\", \"drowned\", \"drowned\", \"drowned\", \"drowned\", \"drowned\", \"drowned\", \"drowned\", \"drowned\", \"drowned\", \"drowned\", \"drowned\", \"drowned\", \"drowned\", \"drowned\", \"drowned\", \"drowned\", \"drowned\", \"drowned\", \"drowned\", \"drowned\", \"drowned\", \"drowned\", \"drowned\", \"drowned\", \"drowned\", \"drowned\", \"drowned\", \"drowning\", \"drowning\", \"drowning\", \"drowning\", \"drowning\", \"drowning\", \"drowning\", \"drowning\", \"drowning\", \"drowning\", \"drowning\", \"drowning\", \"drowning\", \"drowning\", \"drowning\", \"drowning\", \"drowning\", \"drowning\", \"drowning\", \"drowning\", \"drowning\", \"drowning\", \"drowning\", \"drowning\", \"drowning\", \"drowning\", \"drowning\", \"drowning\", \"drowning\", \"drowning\", \"drowning\", \"drowning\", \"drowning\", \"drowning\", \"dust%20storm\", \"dust%20storm\", \"dust%20storm\", \"dust%20storm\", \"dust%20storm\", \"dust%20storm\", \"dust%20storm\", \"dust%20storm\", \"dust%20storm\", \"dust%20storm\", \"dust%20storm\", \"dust%20storm\", \"dust%20storm\", \"dust%20storm\", \"dust%20storm\", \"dust%20storm\", \"dust%20storm\", \"dust%20storm\", \"dust%20storm\", \"dust%20storm\", \"dust%20storm\", \"dust%20storm\", \"dust%20storm\", \"dust%20storm\", \"dust%20storm\", \"dust%20storm\", \"dust%20storm\", \"dust%20storm\", \"dust%20storm\", \"dust%20storm\", \"dust%20storm\", \"dust%20storm\", \"dust%20storm\", \"dust%20storm\", \"dust%20storm\", \"dust%20storm\", \"earthquake\", \"earthquake\", \"earthquake\", \"earthquake\", \"earthquake\", \"earthquake\", \"earthquake\", \"earthquake\", \"earthquake\", \"earthquake\", \"earthquake\", \"earthquake\", \"earthquake\", \"earthquake\", \"earthquake\", \"earthquake\", \"earthquake\", \"earthquake\", \"earthquake\", \"earthquake\", \"earthquake\", \"earthquake\", \"earthquake\", \"earthquake\", \"earthquake\", \"earthquake\", \"earthquake\", \"earthquake\", \"earthquake\", \"earthquake\", \"earthquake\", \"earthquake\", \"earthquake\", \"earthquake\", \"earthquake\", \"earthquake\", \"earthquake\", \"earthquake\", \"earthquake\", \"electrocute\", \"electrocute\", \"electrocute\", \"electrocute\", \"electrocute\", \"electrocute\", \"electrocute\", \"electrocute\", \"electrocute\", \"electrocute\", \"electrocute\", \"electrocute\", \"electrocute\", \"electrocute\", \"electrocute\", \"electrocute\", \"electrocute\", \"electrocute\", \"electrocute\", \"electrocute\", \"electrocute\", \"electrocute\", \"electrocute\", \"electrocute\", \"electrocute\", \"electrocute\", \"electrocute\", \"electrocute\", \"electrocute\", \"electrocute\", \"electrocute\", \"electrocute\", \"electrocuted\", \"electrocuted\", \"electrocuted\", \"electrocuted\", \"electrocuted\", \"electrocuted\", \"electrocuted\", \"electrocuted\", \"electrocuted\", \"electrocuted\", \"electrocuted\", \"electrocuted\", \"electrocuted\", \"electrocuted\", \"electrocuted\", \"electrocuted\", \"electrocuted\", \"electrocuted\", \"electrocuted\", \"electrocuted\", \"electrocuted\", \"electrocuted\", \"electrocuted\", \"electrocuted\", \"electrocuted\", \"electrocuted\", \"electrocuted\", \"electrocuted\", \"electrocuted\", \"electrocuted\", \"electrocuted\", \"electrocuted\", \"electrocuted\", \"electrocuted\", \"emergency\", \"emergency\", \"emergency\", \"emergency\", \"emergency\", \"emergency\", \"emergency\", \"emergency\", \"emergency\", \"emergency\", \"emergency\", \"emergency\", \"emergency\", \"emergency\", \"emergency\", \"emergency\", \"emergency\", \"emergency\", \"emergency\", \"emergency\", \"emergency\", \"emergency\", \"emergency\", \"emergency\", \"emergency\", \"emergency\", \"emergency\", \"emergency\", \"emergency\", \"emergency\", \"emergency\", \"emergency\", \"emergency\", \"emergency\", \"emergency\", \"emergency\", \"emergency\", \"emergency%20plan\", \"emergency%20plan\", \"emergency%20plan\", \"emergency%20plan\", \"emergency%20plan\", \"emergency%20plan\", \"emergency%20plan\", \"emergency%20plan\", \"emergency%20plan\", \"emergency%20plan\", \"emergency%20plan\", \"emergency%20plan\", \"emergency%20plan\", \"emergency%20plan\", \"emergency%20plan\", \"emergency%20plan\", \"emergency%20plan\", \"emergency%20plan\", \"emergency%20plan\", \"emergency%20plan\", \"emergency%20plan\", \"emergency%20plan\", \"emergency%20plan\", \"emergency%20plan\", \"emergency%20plan\", \"emergency%20plan\", \"emergency%20plan\", \"emergency%20plan\", \"emergency%20plan\", \"emergency%20plan\", \"emergency%20plan\", \"emergency%20plan\", \"emergency%20plan\", \"emergency%20plan\", \"emergency%20plan\", \"emergency%20services\", \"emergency%20services\", \"emergency%20services\", \"emergency%20services\", \"emergency%20services\", \"emergency%20services\", \"emergency%20services\", \"emergency%20services\", \"emergency%20services\", \"emergency%20services\", \"emergency%20services\", \"emergency%20services\", \"emergency%20services\", \"emergency%20services\", \"emergency%20services\", \"emergency%20services\", \"emergency%20services\", \"emergency%20services\", \"emergency%20services\", \"emergency%20services\", \"emergency%20services\", \"emergency%20services\", \"emergency%20services\", \"emergency%20services\", \"emergency%20services\", \"emergency%20services\", \"emergency%20services\", \"emergency%20services\", \"emergency%20services\", \"emergency%20services\", \"emergency%20services\", \"emergency%20services\", \"emergency%20services\", \"engulfed\", \"engulfed\", \"engulfed\", \"engulfed\", \"engulfed\", \"engulfed\", \"engulfed\", \"engulfed\", \"engulfed\", \"engulfed\", \"engulfed\", \"engulfed\", \"engulfed\", \"engulfed\", \"engulfed\", \"engulfed\", \"engulfed\", \"engulfed\", \"engulfed\", \"engulfed\", \"engulfed\", \"engulfed\", \"engulfed\", \"engulfed\", \"engulfed\", \"engulfed\", \"engulfed\", \"engulfed\", \"engulfed\", \"engulfed\", \"engulfed\", \"engulfed\", \"engulfed\", \"engulfed\", \"engulfed\", \"engulfed\", \"epicentre\", \"epicentre\", \"epicentre\", \"epicentre\", \"epicentre\", \"epicentre\", \"epicentre\", \"epicentre\", \"epicentre\", \"epicentre\", \"epicentre\", \"epicentre\", \"evacuate\", \"evacuate\", \"evacuate\", \"evacuate\", \"evacuate\", \"evacuate\", \"evacuate\", \"evacuate\", \"evacuate\", \"evacuate\", \"evacuate\", \"evacuate\", \"evacuate\", \"evacuate\", \"evacuate\", \"evacuate\", \"evacuate\", \"evacuate\", \"evacuate\", \"evacuate\", \"evacuate\", \"evacuate\", \"evacuate\", \"evacuate\", \"evacuate\", \"evacuate\", \"evacuate\", \"evacuate\", \"evacuate\", \"evacuate\", \"evacuate\", \"evacuate\", \"evacuate\", \"evacuate\", \"evacuate\", \"evacuate\", \"evacuate\", \"evacuate\", \"evacuate\", \"evacuate\", \"evacuated\", \"evacuated\", \"evacuated\", \"evacuated\", \"evacuated\", \"evacuated\", \"evacuated\", \"evacuated\", \"evacuated\", \"evacuated\", \"evacuated\", \"evacuated\", \"evacuated\", \"evacuated\", \"evacuated\", \"evacuated\", \"evacuated\", \"evacuated\", \"evacuated\", \"evacuated\", \"evacuated\", \"evacuated\", \"evacuated\", \"evacuated\", \"evacuated\", \"evacuated\", \"evacuated\", \"evacuated\", \"evacuated\", \"evacuated\", \"evacuated\", \"evacuated\", \"evacuated\", \"evacuated\", \"evacuated\", \"evacuated\", \"evacuation\", \"evacuation\", \"evacuation\", \"evacuation\", \"evacuation\", \"evacuation\", \"evacuation\", \"evacuation\", \"evacuation\", \"evacuation\", \"evacuation\", \"evacuation\", \"evacuation\", \"evacuation\", \"evacuation\", \"evacuation\", \"evacuation\", \"evacuation\", \"evacuation\", \"evacuation\", \"evacuation\", \"evacuation\", \"evacuation\", \"evacuation\", \"evacuation\", \"evacuation\", \"evacuation\", \"evacuation\", \"evacuation\", \"evacuation\", \"evacuation\", \"evacuation\", \"evacuation\", \"evacuation\", \"evacuation\", \"evacuation\", \"explode\", \"explode\", \"explode\", \"explode\", \"explode\", \"explode\", \"explode\", \"explode\", \"explode\", \"explode\", \"explode\", \"explode\", \"explode\", \"explode\", \"explode\", \"explode\", \"explode\", \"explode\", \"explode\", \"explode\", \"explode\", \"explode\", \"explode\", \"explode\", \"explode\", \"explode\", \"explode\", \"explode\", \"explode\", \"explode\", \"explode\", \"explode\", \"explode\", \"explode\", \"explode\", \"explode\", \"explode\", \"explode\", \"exploded\", \"exploded\", \"exploded\", \"exploded\", \"exploded\", \"exploded\", \"exploded\", \"exploded\", \"exploded\", \"exploded\", \"exploded\", \"exploded\", \"exploded\", \"exploded\", \"exploded\", \"exploded\", \"exploded\", \"exploded\", \"exploded\", \"exploded\", \"exploded\", \"exploded\", \"exploded\", \"exploded\", \"exploded\", \"exploded\", \"exploded\", \"exploded\", \"exploded\", \"exploded\", \"exploded\", \"exploded\", \"exploded\", \"explosion\", \"explosion\", \"explosion\", \"explosion\", \"explosion\", \"explosion\", \"explosion\", \"explosion\", \"explosion\", \"explosion\", \"explosion\", \"explosion\", \"explosion\", \"explosion\", \"explosion\", \"explosion\", \"explosion\", \"explosion\", \"explosion\", \"explosion\", \"explosion\", \"explosion\", \"explosion\", \"explosion\", \"explosion\", \"explosion\", \"explosion\", \"explosion\", \"explosion\", \"explosion\", \"explosion\", \"explosion\", \"explosion\", \"explosion\", \"explosion\", \"explosion\", \"explosion\", \"explosion\", \"explosion\", \"eyewitness\", \"eyewitness\", \"eyewitness\", \"eyewitness\", \"eyewitness\", \"eyewitness\", \"eyewitness\", \"eyewitness\", \"eyewitness\", \"eyewitness\", \"eyewitness\", \"eyewitness\", \"eyewitness\", \"eyewitness\", \"eyewitness\", \"eyewitness\", \"eyewitness\", \"eyewitness\", \"eyewitness\", \"eyewitness\", \"eyewitness\", \"eyewitness\", \"eyewitness\", \"eyewitness\", \"eyewitness\", \"eyewitness\", \"eyewitness\", \"eyewitness\", \"eyewitness\", \"eyewitness\", \"eyewitness\", \"eyewitness\", \"famine\", \"famine\", \"famine\", \"famine\", \"famine\", \"famine\", \"famine\", \"famine\", \"famine\", \"famine\", \"famine\", \"famine\", \"famine\", \"famine\", \"famine\", \"famine\", \"famine\", \"famine\", \"famine\", \"famine\", \"famine\", \"famine\", \"famine\", \"famine\", \"famine\", \"famine\", \"famine\", \"famine\", \"famine\", \"famine\", \"famine\", \"famine\", \"famine\", \"famine\", \"famine\", \"famine\", \"famine\", \"famine\", \"famine\", \"fatal\", \"fatal\", \"fatal\", \"fatal\", \"fatal\", \"fatal\", \"fatal\", \"fatal\", \"fatal\", \"fatal\", \"fatal\", \"fatal\", \"fatal\", \"fatal\", \"fatal\", \"fatal\", \"fatal\", \"fatal\", \"fatal\", \"fatal\", \"fatal\", \"fatal\", \"fatal\", \"fatal\", \"fatal\", \"fatal\", \"fatal\", \"fatal\", \"fatal\", \"fatal\", \"fatal\", \"fatal\", \"fatal\", \"fatal\", \"fatal\", \"fatal\", \"fatal\", \"fatal\", \"fatalities\", \"fatalities\", \"fatalities\", \"fatalities\", \"fatalities\", \"fatalities\", \"fatalities\", \"fatalities\", \"fatalities\", \"fatalities\", \"fatalities\", \"fatalities\", \"fatalities\", \"fatalities\", \"fatalities\", \"fatalities\", \"fatalities\", \"fatalities\", \"fatalities\", \"fatalities\", \"fatalities\", \"fatalities\", \"fatalities\", \"fatalities\", \"fatalities\", \"fatalities\", \"fatalities\", \"fatalities\", \"fatalities\", \"fatalities\", \"fatalities\", \"fatalities\", \"fatalities\", \"fatalities\", \"fatalities\", \"fatalities\", \"fatalities\", \"fatalities\", \"fatalities\", \"fatalities\", \"fatalities\", \"fatalities\", \"fatalities\", \"fatalities\", \"fatalities\", \"fatality\", \"fatality\", \"fatality\", \"fatality\", \"fatality\", \"fatality\", \"fatality\", \"fatality\", \"fatality\", \"fatality\", \"fatality\", \"fatality\", \"fatality\", \"fatality\", \"fatality\", \"fatality\", \"fatality\", \"fatality\", \"fatality\", \"fatality\", \"fatality\", \"fatality\", \"fatality\", \"fatality\", \"fatality\", \"fatality\", \"fatality\", \"fatality\", \"fatality\", \"fatality\", \"fatality\", \"fatality\", \"fatality\", \"fatality\", \"fatality\", \"fatality\", \"fatality\", \"fear\", \"fear\", \"fear\", \"fear\", \"fear\", \"fear\", \"fear\", \"fear\", \"fear\", \"fear\", \"fear\", \"fear\", \"fear\", \"fear\", \"fear\", \"fear\", \"fear\", \"fear\", \"fear\", \"fear\", \"fear\", \"fear\", \"fear\", \"fear\", \"fear\", \"fear\", \"fear\", \"fear\", \"fear\", \"fear\", \"fear\", \"fear\", \"fear\", \"fear\", \"fear\", \"fear\", \"fear\", \"fear\", \"fear\", \"fear\", \"fire\", \"fire\", \"fire\", \"fire\", \"fire\", \"fire\", \"fire\", \"fire\", \"fire\", \"fire\", \"fire\", \"fire\", \"fire\", \"fire\", \"fire\", \"fire\", \"fire\", \"fire\", \"fire\", \"fire\", \"fire\", \"fire\", \"fire\", \"fire\", \"fire\", \"fire\", \"fire\", \"fire\", \"fire\", \"fire\", \"fire\", \"fire\", \"fire\", \"fire\", \"fire\", \"fire\", \"fire\", \"fire\", \"fire%20truck\", \"fire%20truck\", \"fire%20truck\", \"fire%20truck\", \"fire%20truck\", \"fire%20truck\", \"fire%20truck\", \"fire%20truck\", \"fire%20truck\", \"fire%20truck\", \"fire%20truck\", \"fire%20truck\", \"fire%20truck\", \"fire%20truck\", \"fire%20truck\", \"fire%20truck\", \"fire%20truck\", \"fire%20truck\", \"fire%20truck\", \"fire%20truck\", \"fire%20truck\", \"fire%20truck\", \"fire%20truck\", \"fire%20truck\", \"fire%20truck\", \"fire%20truck\", \"fire%20truck\", \"fire%20truck\", \"fire%20truck\", \"fire%20truck\", \"fire%20truck\", \"fire%20truck\", \"fire%20truck\", \"first%20responders\", \"first%20responders\", \"first%20responders\", \"first%20responders\", \"first%20responders\", \"first%20responders\", \"first%20responders\", \"first%20responders\", \"first%20responders\", \"first%20responders\", \"first%20responders\", \"first%20responders\", \"first%20responders\", \"first%20responders\", \"first%20responders\", \"first%20responders\", \"first%20responders\", \"first%20responders\", \"first%20responders\", \"first%20responders\", \"first%20responders\", \"first%20responders\", \"first%20responders\", \"first%20responders\", \"first%20responders\", \"first%20responders\", \"first%20responders\", \"first%20responders\", \"first%20responders\", \"flames\", \"flames\", \"flames\", \"flames\", \"flames\", \"flames\", \"flames\", \"flames\", \"flames\", \"flames\", \"flames\", \"flames\", \"flames\", \"flames\", \"flames\", \"flames\", \"flames\", \"flames\", \"flames\", \"flames\", \"flames\", \"flames\", \"flames\", \"flames\", \"flames\", \"flames\", \"flames\", \"flames\", \"flames\", \"flames\", \"flames\", \"flames\", \"flames\", \"flames\", \"flames\", \"flames\", \"flames\", \"flames\", \"flames\", \"flattened\", \"flattened\", \"flattened\", \"flattened\", \"flattened\", \"flattened\", \"flattened\", \"flattened\", \"flattened\", \"flattened\", \"flattened\", \"flattened\", \"flattened\", \"flattened\", \"flattened\", \"flattened\", \"flattened\", \"flattened\", \"flattened\", \"flattened\", \"flattened\", \"flattened\", \"flattened\", \"flattened\", \"flattened\", \"flattened\", \"flattened\", \"flattened\", \"flattened\", \"flattened\", \"flattened\", \"flattened\", \"flattened\", \"flattened\", \"flood\", \"flood\", \"flood\", \"flood\", \"flood\", \"flood\", \"flood\", \"flood\", \"flood\", \"flood\", \"flood\", \"flood\", \"flood\", \"flood\", \"flood\", \"flood\", \"flood\", \"flood\", \"flood\", \"flood\", \"flood\", \"flood\", \"flood\", \"flood\", \"flood\", \"flood\", \"flood\", \"flood\", \"flood\", \"flood\", \"flood\", \"flood\", \"flood\", \"flood\", \"flood\", \"flooding\", \"flooding\", \"flooding\", \"flooding\", \"flooding\", \"flooding\", \"flooding\", \"flooding\", \"flooding\", \"flooding\", \"flooding\", \"flooding\", \"flooding\", \"flooding\", \"flooding\", \"flooding\", \"flooding\", \"flooding\", \"flooding\", \"flooding\", \"flooding\", \"flooding\", \"flooding\", \"flooding\", \"flooding\", \"flooding\", \"flooding\", \"flooding\", \"flooding\", \"flooding\", \"flooding\", \"flooding\", \"flooding\", \"flooding\", \"flooding\", \"flooding\", \"flooding\", \"flooding\", \"floods\", \"floods\", \"floods\", \"floods\", \"floods\", \"floods\", \"floods\", \"floods\", \"floods\", \"floods\", \"floods\", \"floods\", \"floods\", \"floods\", \"floods\", \"floods\", \"floods\", \"floods\", \"floods\", \"floods\", \"floods\", \"floods\", \"floods\", \"floods\", \"floods\", \"floods\", \"floods\", \"floods\", \"floods\", \"floods\", \"floods\", \"floods\", \"floods\", \"floods\", \"floods\", \"floods\", \"forest%20fire\", \"forest%20fire\", \"forest%20fire\", \"forest%20fire\", \"forest%20fire\", \"forest%20fire\", \"forest%20fire\", \"forest%20fire\", \"forest%20fire\", \"forest%20fire\", \"forest%20fire\", \"forest%20fire\", \"forest%20fire\", \"forest%20fire\", \"forest%20fire\", \"forest%20fire\", \"forest%20fire\", \"forest%20fire\", \"forest%20fire\", \"forest%20fires\", \"forest%20fires\", \"forest%20fires\", \"forest%20fires\", \"forest%20fires\", \"forest%20fires\", \"forest%20fires\", \"forest%20fires\", \"forest%20fires\", \"forest%20fires\", \"forest%20fires\", \"forest%20fires\", \"forest%20fires\", \"forest%20fires\", \"forest%20fires\", \"forest%20fires\", \"forest%20fires\", \"forest%20fires\", \"forest%20fires\", \"forest%20fires\", \"forest%20fires\", \"forest%20fires\", \"forest%20fires\", \"forest%20fires\", \"forest%20fires\", \"forest%20fires\", \"forest%20fires\", \"forest%20fires\", \"forest%20fires\", \"forest%20fires\", \"forest%20fires\", \"forest%20fires\", \"hail\", \"hail\", \"hail\", \"hail\", \"hail\", \"hail\", \"hail\", \"hail\", \"hail\", \"hail\", \"hail\", \"hail\", \"hail\", \"hail\", \"hail\", \"hail\", \"hail\", \"hail\", \"hail\", \"hail\", \"hail\", \"hail\", \"hail\", \"hail\", \"hail\", \"hail\", \"hail\", \"hail\", \"hail\", \"hail\", \"hail\", \"hail\", \"hail\", \"hail\", \"hail\", \"hailstorm\", \"hailstorm\", \"hailstorm\", \"hailstorm\", \"hailstorm\", \"hailstorm\", \"hailstorm\", \"hailstorm\", \"hailstorm\", \"hailstorm\", \"hailstorm\", \"hailstorm\", \"hailstorm\", \"hailstorm\", \"hailstorm\", \"hailstorm\", \"hailstorm\", \"hailstorm\", \"hailstorm\", \"hailstorm\", \"hailstorm\", \"hailstorm\", \"hailstorm\", \"hailstorm\", \"hailstorm\", \"hailstorm\", \"hailstorm\", \"hailstorm\", \"hailstorm\", \"hailstorm\", \"hailstorm\", \"hailstorm\", \"harm\", \"harm\", \"harm\", \"harm\", \"harm\", \"harm\", \"harm\", \"harm\", \"harm\", \"harm\", \"harm\", \"harm\", \"harm\", \"harm\", \"harm\", \"harm\", \"harm\", \"harm\", \"harm\", \"harm\", \"harm\", \"harm\", \"harm\", \"harm\", \"harm\", \"harm\", \"harm\", \"harm\", \"harm\", \"harm\", \"harm\", \"harm\", \"harm\", \"harm\", \"harm\", \"harm\", \"harm\", \"harm\", \"harm\", \"harm\", \"harm\", \"hazard\", \"hazard\", \"hazard\", \"hazard\", \"hazard\", \"hazard\", \"hazard\", \"hazard\", \"hazard\", \"hazard\", \"hazard\", \"hazard\", \"hazard\", \"hazard\", \"hazard\", \"hazard\", \"hazard\", \"hazard\", \"hazard\", \"hazard\", \"hazard\", \"hazard\", \"hazard\", \"hazard\", \"hazard\", \"hazard\", \"hazard\", \"hazard\", \"hazard\", \"hazard\", \"hazard\", \"hazard\", \"hazard\", \"hazard\", \"hazardous\", \"hazardous\", \"hazardous\", \"hazardous\", \"hazardous\", \"hazardous\", \"hazardous\", \"hazardous\", \"hazardous\", \"hazardous\", \"hazardous\", \"hazardous\", \"hazardous\", \"hazardous\", \"hazardous\", \"hazardous\", \"hazardous\", \"hazardous\", \"hazardous\", \"hazardous\", \"hazardous\", \"hazardous\", \"hazardous\", \"hazardous\", \"hazardous\", \"hazardous\", \"hazardous\", \"hazardous\", \"hazardous\", \"hazardous\", \"hazardous\", \"hazardous\", \"hazardous\", \"hazardous\", \"hazardous\", \"heat%20wave\", \"heat%20wave\", \"heat%20wave\", \"heat%20wave\", \"heat%20wave\", \"heat%20wave\", \"heat%20wave\", \"heat%20wave\", \"heat%20wave\", \"heat%20wave\", \"heat%20wave\", \"heat%20wave\", \"heat%20wave\", \"heat%20wave\", \"heat%20wave\", \"heat%20wave\", \"heat%20wave\", \"heat%20wave\", \"heat%20wave\", \"heat%20wave\", \"heat%20wave\", \"heat%20wave\", \"heat%20wave\", \"heat%20wave\", \"heat%20wave\", \"heat%20wave\", \"heat%20wave\", \"heat%20wave\", \"heat%20wave\", \"heat%20wave\", \"heat%20wave\", \"heat%20wave\", \"heat%20wave\", \"heat%20wave\", \"hellfire\", \"hellfire\", \"hellfire\", \"hellfire\", \"hellfire\", \"hellfire\", \"hellfire\", \"hellfire\", \"hellfire\", \"hellfire\", \"hellfire\", \"hellfire\", \"hellfire\", \"hellfire\", \"hellfire\", \"hellfire\", \"hellfire\", \"hellfire\", \"hellfire\", \"hellfire\", \"hellfire\", \"hellfire\", \"hellfire\", \"hellfire\", \"hellfire\", \"hellfire\", \"hellfire\", \"hellfire\", \"hellfire\", \"hellfire\", \"hellfire\", \"hellfire\", \"hellfire\", \"hellfire\", \"hellfire\", \"hellfire\", \"hellfire\", \"hellfire\", \"hellfire\", \"hijack\", \"hijack\", \"hijack\", \"hijack\", \"hijack\", \"hijack\", \"hijack\", \"hijack\", \"hijack\", \"hijack\", \"hijack\", \"hijack\", \"hijack\", \"hijack\", \"hijack\", \"hijack\", \"hijack\", \"hijack\", \"hijack\", \"hijack\", \"hijack\", \"hijack\", \"hijack\", \"hijack\", \"hijack\", \"hijack\", \"hijack\", \"hijack\", \"hijack\", \"hijack\", \"hijack\", \"hijack\", \"hijack\", \"hijacker\", \"hijacker\", \"hijacker\", \"hijacker\", \"hijacker\", \"hijacker\", \"hijacker\", \"hijacker\", \"hijacker\", \"hijacker\", \"hijacker\", \"hijacker\", \"hijacker\", \"hijacker\", \"hijacker\", \"hijacker\", \"hijacker\", \"hijacker\", \"hijacker\", \"hijacker\", \"hijacker\", \"hijacker\", \"hijacker\", \"hijacker\", \"hijacker\", \"hijacker\", \"hijacker\", \"hijacker\", \"hijacker\", \"hijacker\", \"hijacker\", \"hijacker\", \"hijacker\", \"hijacker\", \"hijacker\", \"hijacking\", \"hijacking\", \"hijacking\", \"hijacking\", \"hijacking\", \"hijacking\", \"hijacking\", \"hijacking\", \"hijacking\", \"hijacking\", \"hijacking\", \"hijacking\", \"hijacking\", \"hijacking\", \"hijacking\", \"hijacking\", \"hijacking\", \"hijacking\", \"hijacking\", \"hijacking\", \"hijacking\", \"hijacking\", \"hijacking\", \"hijacking\", \"hijacking\", \"hijacking\", \"hijacking\", \"hijacking\", \"hijacking\", \"hijacking\", \"hijacking\", \"hijacking\", \"hostage\", \"hostage\", \"hostage\", \"hostage\", \"hostage\", \"hostage\", \"hostage\", \"hostage\", \"hostage\", \"hostage\", \"hostage\", \"hostage\", \"hostage\", \"hostage\", \"hostage\", \"hostage\", \"hostage\", \"hostage\", \"hostage\", \"hostage\", \"hostage\", \"hostage\", \"hostage\", \"hostage\", \"hostage\", \"hostage\", \"hostage\", \"hostage\", \"hostage\", \"hostage\", \"hostage\", \"hostages\", \"hostages\", \"hostages\", \"hostages\", \"hostages\", \"hostages\", \"hostages\", \"hostages\", \"hostages\", \"hostages\", \"hostages\", \"hostages\", \"hostages\", \"hostages\", \"hostages\", \"hostages\", \"hostages\", \"hostages\", \"hostages\", \"hostages\", \"hostages\", \"hostages\", \"hostages\", \"hostages\", \"hostages\", \"hostages\", \"hostages\", \"hostages\", \"hostages\", \"hostages\", \"hostages\", \"hostages\", \"hostages\", \"hostages\", \"hostages\", \"hostages\", \"hostages\", \"hurricane\", \"hurricane\", \"hurricane\", \"hurricane\", \"hurricane\", \"hurricane\", \"hurricane\", \"hurricane\", \"hurricane\", \"hurricane\", \"hurricane\", \"hurricane\", \"hurricane\", \"hurricane\", \"hurricane\", \"hurricane\", \"hurricane\", \"hurricane\", \"hurricane\", \"hurricane\", \"hurricane\", \"hurricane\", \"hurricane\", \"hurricane\", \"hurricane\", \"hurricane\", \"hurricane\", \"hurricane\", \"hurricane\", \"hurricane\", \"hurricane\", \"hurricane\", \"hurricane\", \"hurricane\", \"hurricane\", \"hurricane\", \"hurricane\", \"hurricane\", \"injured\", \"injured\", \"injured\", \"injured\", \"injured\", \"injured\", \"injured\", \"injured\", \"injured\", \"injured\", \"injured\", \"injured\", \"injured\", \"injured\", \"injured\", \"injured\", \"injured\", \"injured\", \"injured\", \"injured\", \"injured\", \"injured\", \"injured\", \"injured\", \"injured\", \"injured\", \"injured\", \"injured\", \"injured\", \"injured\", \"injured\", \"injured\", \"injured\", \"injured\", \"injured\", \"injuries\", \"injuries\", \"injuries\", \"injuries\", \"injuries\", \"injuries\", \"injuries\", \"injuries\", \"injuries\", \"injuries\", \"injuries\", \"injuries\", \"injuries\", \"injuries\", \"injuries\", \"injuries\", \"injuries\", \"injuries\", \"injuries\", \"injuries\", \"injuries\", \"injuries\", \"injuries\", \"injuries\", \"injuries\", \"injuries\", \"injuries\", \"injuries\", \"injuries\", \"injuries\", \"injuries\", \"injuries\", \"injuries\", \"injury\", \"injury\", \"injury\", \"injury\", \"injury\", \"injury\", \"injury\", \"injury\", \"injury\", \"injury\", \"injury\", \"injury\", \"injury\", \"injury\", \"injury\", \"injury\", \"injury\", \"injury\", \"injury\", \"injury\", \"injury\", \"injury\", \"injury\", \"injury\", \"injury\", \"injury\", \"injury\", \"injury\", \"injury\", \"injury\", \"injury\", \"injury\", \"injury\", \"injury\", \"injury\", \"injury\", \"injury\", \"injury\", \"inundated\", \"inundated\", \"inundated\", \"inundated\", \"inundated\", \"inundated\", \"inundated\", \"inundated\", \"inundated\", \"inundated\", \"inundated\", \"inundated\", \"inundated\", \"inundated\", \"inundated\", \"inundated\", \"inundated\", \"inundated\", \"inundated\", \"inundated\", \"inundated\", \"inundated\", \"inundated\", \"inundated\", \"inundated\", \"inundated\", \"inundated\", \"inundated\", \"inundated\", \"inundated\", \"inundated\", \"inundated\", \"inundated\", \"inundated\", \"inundated\", \"inundation\", \"inundation\", \"inundation\", \"inundation\", \"inundation\", \"inundation\", \"inundation\", \"inundation\", \"inundation\", \"inundation\", \"landslide\", \"landslide\", \"landslide\", \"landslide\", \"landslide\", \"landslide\", \"landslide\", \"landslide\", \"landslide\", \"landslide\", \"landslide\", \"landslide\", \"landslide\", \"landslide\", \"landslide\", \"landslide\", \"landslide\", \"landslide\", \"landslide\", \"landslide\", \"landslide\", \"landslide\", \"landslide\", \"landslide\", \"landslide\", \"landslide\", \"landslide\", \"landslide\", \"landslide\", \"landslide\", \"landslide\", \"landslide\", \"landslide\", \"lava\", \"lava\", \"lava\", \"lava\", \"lava\", \"lava\", \"lava\", \"lava\", \"lava\", \"lava\", \"lava\", \"lava\", \"lava\", \"lava\", \"lava\", \"lava\", \"lava\", \"lava\", \"lava\", \"lava\", \"lava\", \"lava\", \"lava\", \"lava\", \"lava\", \"lava\", \"lava\", \"lava\", \"lava\", \"lava\", \"lava\", \"lava\", \"lava\", \"lava\", \"lightning\", \"lightning\", \"lightning\", \"lightning\", \"lightning\", \"lightning\", \"lightning\", \"lightning\", \"lightning\", \"lightning\", \"lightning\", \"lightning\", \"lightning\", \"lightning\", \"lightning\", \"lightning\", \"lightning\", \"lightning\", \"lightning\", \"lightning\", \"lightning\", \"lightning\", \"lightning\", \"lightning\", \"lightning\", \"lightning\", \"lightning\", \"lightning\", \"lightning\", \"lightning\", \"lightning\", \"lightning\", \"lightning\", \"loud%20bang\", \"loud%20bang\", \"loud%20bang\", \"loud%20bang\", \"loud%20bang\", \"loud%20bang\", \"loud%20bang\", \"loud%20bang\", \"loud%20bang\", \"loud%20bang\", \"loud%20bang\", \"loud%20bang\", \"loud%20bang\", \"loud%20bang\", \"loud%20bang\", \"loud%20bang\", \"loud%20bang\", \"loud%20bang\", \"loud%20bang\", \"loud%20bang\", \"loud%20bang\", \"loud%20bang\", \"loud%20bang\", \"loud%20bang\", \"loud%20bang\", \"loud%20bang\", \"loud%20bang\", \"loud%20bang\", \"loud%20bang\", \"loud%20bang\", \"loud%20bang\", \"loud%20bang\", \"loud%20bang\", \"loud%20bang\", \"mass%20murder\", \"mass%20murder\", \"mass%20murder\", \"mass%20murder\", \"mass%20murder\", \"mass%20murder\", \"mass%20murder\", \"mass%20murder\", \"mass%20murder\", \"mass%20murder\", \"mass%20murder\", \"mass%20murder\", \"mass%20murder\", \"mass%20murder\", \"mass%20murder\", \"mass%20murder\", \"mass%20murder\", \"mass%20murder\", \"mass%20murder\", \"mass%20murder\", \"mass%20murder\", \"mass%20murder\", \"mass%20murder\", \"mass%20murder\", \"mass%20murder\", \"mass%20murder\", \"mass%20murder\", \"mass%20murder\", \"mass%20murder\", \"mass%20murder\", \"mass%20murder\", \"mass%20murder\", \"mass%20murder\", \"mass%20murderer\", \"mass%20murderer\", \"mass%20murderer\", \"mass%20murderer\", \"mass%20murderer\", \"mass%20murderer\", \"mass%20murderer\", \"mass%20murderer\", \"mass%20murderer\", \"mass%20murderer\", \"mass%20murderer\", \"mass%20murderer\", \"mass%20murderer\", \"mass%20murderer\", \"mass%20murderer\", \"mass%20murderer\", \"mass%20murderer\", \"mass%20murderer\", \"mass%20murderer\", \"mass%20murderer\", \"mass%20murderer\", \"mass%20murderer\", \"mass%20murderer\", \"mass%20murderer\", \"mass%20murderer\", \"mass%20murderer\", \"mass%20murderer\", \"mass%20murderer\", \"mass%20murderer\", \"mass%20murderer\", \"mass%20murderer\", \"mass%20murderer\", \"massacre\", \"massacre\", \"massacre\", \"massacre\", \"massacre\", \"massacre\", \"massacre\", \"massacre\", \"massacre\", \"massacre\", \"massacre\", \"massacre\", \"massacre\", \"massacre\", \"massacre\", \"massacre\", \"massacre\", \"massacre\", \"massacre\", \"massacre\", \"massacre\", \"massacre\", \"massacre\", \"massacre\", \"massacre\", \"massacre\", \"massacre\", \"massacre\", \"massacre\", \"massacre\", \"massacre\", \"massacre\", \"massacre\", \"massacre\", \"massacre\", \"massacre\", \"mayhem\", \"mayhem\", \"mayhem\", \"mayhem\", \"mayhem\", \"mayhem\", \"mayhem\", \"mayhem\", \"mayhem\", \"mayhem\", \"mayhem\", \"mayhem\", \"mayhem\", \"mayhem\", \"mayhem\", \"mayhem\", \"mayhem\", \"mayhem\", \"mayhem\", \"mayhem\", \"mayhem\", \"mayhem\", \"mayhem\", \"mayhem\", \"mayhem\", \"mayhem\", \"mayhem\", \"mayhem\", \"mayhem\", \"mayhem\", \"meltdown\", \"meltdown\", \"meltdown\", \"meltdown\", \"meltdown\", \"meltdown\", \"meltdown\", \"meltdown\", \"meltdown\", \"meltdown\", \"meltdown\", \"meltdown\", \"meltdown\", \"meltdown\", \"meltdown\", \"meltdown\", \"meltdown\", \"meltdown\", \"meltdown\", \"meltdown\", \"meltdown\", \"meltdown\", \"meltdown\", \"meltdown\", \"meltdown\", \"meltdown\", \"meltdown\", \"meltdown\", \"meltdown\", \"meltdown\", \"meltdown\", \"meltdown\", \"meltdown\", \"military\", \"military\", \"military\", \"military\", \"military\", \"military\", \"military\", \"military\", \"military\", \"military\", \"military\", \"military\", \"military\", \"military\", \"military\", \"military\", \"military\", \"military\", \"military\", \"military\", \"military\", \"military\", \"military\", \"military\", \"military\", \"military\", \"military\", \"military\", \"military\", \"military\", \"military\", \"military\", \"military\", \"military\", \"mudslide\", \"mudslide\", \"mudslide\", \"mudslide\", \"mudslide\", \"mudslide\", \"mudslide\", \"mudslide\", \"mudslide\", \"mudslide\", \"mudslide\", \"mudslide\", \"mudslide\", \"mudslide\", \"mudslide\", \"mudslide\", \"mudslide\", \"mudslide\", \"mudslide\", \"mudslide\", \"mudslide\", \"mudslide\", \"mudslide\", \"mudslide\", \"mudslide\", \"mudslide\", \"mudslide\", \"mudslide\", \"mudslide\", \"mudslide\", \"mudslide\", \"mudslide\", \"mudslide\", \"mudslide\", \"mudslide\", \"mudslide\", \"mudslide\", \"natural%20disaster\", \"natural%20disaster\", \"natural%20disaster\", \"natural%20disaster\", \"natural%20disaster\", \"natural%20disaster\", \"natural%20disaster\", \"natural%20disaster\", \"natural%20disaster\", \"natural%20disaster\", \"natural%20disaster\", \"natural%20disaster\", \"natural%20disaster\", \"natural%20disaster\", \"natural%20disaster\", \"natural%20disaster\", \"natural%20disaster\", \"natural%20disaster\", \"natural%20disaster\", \"natural%20disaster\", \"natural%20disaster\", \"natural%20disaster\", \"natural%20disaster\", \"natural%20disaster\", \"natural%20disaster\", \"natural%20disaster\", \"natural%20disaster\", \"natural%20disaster\", \"natural%20disaster\", \"natural%20disaster\", \"natural%20disaster\", \"natural%20disaster\", \"natural%20disaster\", \"natural%20disaster\", \"nuclear%20disaster\", \"nuclear%20disaster\", \"nuclear%20disaster\", \"nuclear%20disaster\", \"nuclear%20disaster\", \"nuclear%20disaster\", \"nuclear%20disaster\", \"nuclear%20disaster\", \"nuclear%20disaster\", \"nuclear%20disaster\", \"nuclear%20disaster\", \"nuclear%20disaster\", \"nuclear%20disaster\", \"nuclear%20disaster\", \"nuclear%20disaster\", \"nuclear%20disaster\", \"nuclear%20disaster\", \"nuclear%20disaster\", \"nuclear%20disaster\", \"nuclear%20disaster\", \"nuclear%20disaster\", \"nuclear%20disaster\", \"nuclear%20disaster\", \"nuclear%20disaster\", \"nuclear%20disaster\", \"nuclear%20disaster\", \"nuclear%20disaster\", \"nuclear%20disaster\", \"nuclear%20disaster\", \"nuclear%20disaster\", \"nuclear%20disaster\", \"nuclear%20disaster\", \"nuclear%20disaster\", \"nuclear%20disaster\", \"nuclear%20reactor\", \"nuclear%20reactor\", \"nuclear%20reactor\", \"nuclear%20reactor\", \"nuclear%20reactor\", \"nuclear%20reactor\", \"nuclear%20reactor\", \"nuclear%20reactor\", \"nuclear%20reactor\", \"nuclear%20reactor\", \"nuclear%20reactor\", \"nuclear%20reactor\", \"nuclear%20reactor\", \"nuclear%20reactor\", \"nuclear%20reactor\", \"nuclear%20reactor\", \"nuclear%20reactor\", \"nuclear%20reactor\", \"nuclear%20reactor\", \"nuclear%20reactor\", \"nuclear%20reactor\", \"nuclear%20reactor\", \"nuclear%20reactor\", \"nuclear%20reactor\", \"nuclear%20reactor\", \"nuclear%20reactor\", \"nuclear%20reactor\", \"nuclear%20reactor\", \"nuclear%20reactor\", \"nuclear%20reactor\", \"nuclear%20reactor\", \"nuclear%20reactor\", \"nuclear%20reactor\", \"nuclear%20reactor\", \"nuclear%20reactor\", \"nuclear%20reactor\", \"obliterate\", \"obliterate\", \"obliterate\", \"obliterate\", \"obliterate\", \"obliterate\", \"obliterate\", \"obliterate\", \"obliterate\", \"obliterate\", \"obliterate\", \"obliterate\", \"obliterate\", \"obliterate\", \"obliterate\", \"obliterate\", \"obliterate\", \"obliterate\", \"obliterate\", \"obliterate\", \"obliterate\", \"obliterate\", \"obliterate\", \"obliterate\", \"obliterate\", \"obliterate\", \"obliterate\", \"obliterate\", \"obliterate\", \"obliterate\", \"obliterate\", \"obliterated\", \"obliterated\", \"obliterated\", \"obliterated\", \"obliterated\", \"obliterated\", \"obliterated\", \"obliterated\", \"obliterated\", \"obliterated\", \"obliterated\", \"obliterated\", \"obliterated\", \"obliterated\", \"obliterated\", \"obliterated\", \"obliterated\", \"obliterated\", \"obliterated\", \"obliterated\", \"obliterated\", \"obliterated\", \"obliterated\", \"obliterated\", \"obliterated\", \"obliterated\", \"obliterated\", \"obliterated\", \"obliterated\", \"obliterated\", \"obliterated\", \"obliteration\", \"obliteration\", \"obliteration\", \"obliteration\", \"obliteration\", \"obliteration\", \"obliteration\", \"obliteration\", \"obliteration\", \"obliteration\", \"obliteration\", \"obliteration\", \"obliteration\", \"obliteration\", \"obliteration\", \"obliteration\", \"obliteration\", \"obliteration\", \"obliteration\", \"obliteration\", \"obliteration\", \"obliteration\", \"obliteration\", \"obliteration\", \"obliteration\", \"obliteration\", \"obliteration\", \"obliteration\", \"obliteration\", \"oil%20spill\", \"oil%20spill\", \"oil%20spill\", \"oil%20spill\", \"oil%20spill\", \"oil%20spill\", \"oil%20spill\", \"oil%20spill\", \"oil%20spill\", \"oil%20spill\", \"oil%20spill\", \"oil%20spill\", \"oil%20spill\", \"oil%20spill\", \"oil%20spill\", \"oil%20spill\", \"oil%20spill\", \"oil%20spill\", \"oil%20spill\", \"oil%20spill\", \"oil%20spill\", \"oil%20spill\", \"oil%20spill\", \"oil%20spill\", \"oil%20spill\", \"oil%20spill\", \"oil%20spill\", \"oil%20spill\", \"oil%20spill\", \"oil%20spill\", \"oil%20spill\", \"oil%20spill\", \"oil%20spill\", \"oil%20spill\", \"oil%20spill\", \"oil%20spill\", \"oil%20spill\", \"oil%20spill\", \"outbreak\", \"outbreak\", \"outbreak\", \"outbreak\", \"outbreak\", \"outbreak\", \"outbreak\", \"outbreak\", \"outbreak\", \"outbreak\", \"outbreak\", \"outbreak\", \"outbreak\", \"outbreak\", \"outbreak\", \"outbreak\", \"outbreak\", \"outbreak\", \"outbreak\", \"outbreak\", \"outbreak\", \"outbreak\", \"outbreak\", \"outbreak\", \"outbreak\", \"outbreak\", \"outbreak\", \"outbreak\", \"outbreak\", \"outbreak\", \"outbreak\", \"outbreak\", \"outbreak\", \"outbreak\", \"outbreak\", \"outbreak\", \"outbreak\", \"outbreak\", \"outbreak\", \"outbreak\", \"pandemonium\", \"pandemonium\", \"pandemonium\", \"pandemonium\", \"pandemonium\", \"pandemonium\", \"pandemonium\", \"pandemonium\", \"pandemonium\", \"pandemonium\", \"pandemonium\", \"pandemonium\", \"pandemonium\", \"pandemonium\", \"pandemonium\", \"pandemonium\", \"pandemonium\", \"pandemonium\", \"pandemonium\", \"pandemonium\", \"pandemonium\", \"pandemonium\", \"pandemonium\", \"pandemonium\", \"pandemonium\", \"pandemonium\", \"pandemonium\", \"pandemonium\", \"pandemonium\", \"pandemonium\", \"pandemonium\", \"pandemonium\", \"pandemonium\", \"pandemonium\", \"pandemonium\", \"pandemonium\", \"pandemonium\", \"panic\", \"panic\", \"panic\", \"panic\", \"panic\", \"panic\", \"panic\", \"panic\", \"panic\", \"panic\", \"panic\", \"panic\", \"panic\", \"panic\", \"panic\", \"panic\", \"panic\", \"panic\", \"panic\", \"panic\", \"panic\", \"panic\", \"panic\", \"panic\", \"panic\", \"panic\", \"panic\", \"panic\", \"panic\", \"panic\", \"panic\", \"panic\", \"panic\", \"panic\", \"panic\", \"panic\", \"panic\", \"panicking\", \"panicking\", \"panicking\", \"panicking\", \"panicking\", \"panicking\", \"panicking\", \"panicking\", \"panicking\", \"panicking\", \"panicking\", \"panicking\", \"panicking\", \"panicking\", \"panicking\", \"panicking\", \"panicking\", \"panicking\", \"panicking\", \"panicking\", \"panicking\", \"panicking\", \"panicking\", \"panicking\", \"panicking\", \"panicking\", \"panicking\", \"panicking\", \"panicking\", \"panicking\", \"panicking\", \"panicking\", \"panicking\", \"police\", \"police\", \"police\", \"police\", \"police\", \"police\", \"police\", \"police\", \"police\", \"police\", \"police\", \"police\", \"police\", \"police\", \"police\", \"police\", \"police\", \"police\", \"police\", \"police\", \"police\", \"police\", \"police\", \"police\", \"police\", \"police\", \"police\", \"police\", \"police\", \"police\", \"police\", \"police\", \"police\", \"police\", \"police\", \"police\", \"police\", \"quarantine\", \"quarantine\", \"quarantine\", \"quarantine\", \"quarantine\", \"quarantine\", \"quarantine\", \"quarantine\", \"quarantine\", \"quarantine\", \"quarantine\", \"quarantine\", \"quarantine\", \"quarantine\", \"quarantine\", \"quarantine\", \"quarantine\", \"quarantine\", \"quarantine\", \"quarantine\", \"quarantine\", \"quarantine\", \"quarantine\", \"quarantine\", \"quarantine\", \"quarantine\", \"quarantine\", \"quarantine\", \"quarantine\", \"quarantine\", \"quarantine\", \"quarantine\", \"quarantine\", \"quarantine\", \"quarantined\", \"quarantined\", \"quarantined\", \"quarantined\", \"quarantined\", \"quarantined\", \"quarantined\", \"quarantined\", \"quarantined\", \"quarantined\", \"quarantined\", \"quarantined\", \"quarantined\", \"quarantined\", \"quarantined\", \"quarantined\", \"quarantined\", \"quarantined\", \"quarantined\", \"quarantined\", \"quarantined\", \"quarantined\", \"quarantined\", \"quarantined\", \"quarantined\", \"quarantined\", \"quarantined\", \"quarantined\", \"quarantined\", \"quarantined\", \"quarantined\", \"quarantined\", \"quarantined\", \"quarantined\", \"quarantined\", \"quarantined\", \"quarantined\", \"radiation%20emergency\", \"radiation%20emergency\", \"radiation%20emergency\", \"radiation%20emergency\", \"radiation%20emergency\", \"radiation%20emergency\", \"radiation%20emergency\", \"radiation%20emergency\", \"radiation%20emergency\", \"rainstorm\", \"rainstorm\", \"rainstorm\", \"rainstorm\", \"rainstorm\", \"rainstorm\", \"rainstorm\", \"rainstorm\", \"rainstorm\", \"rainstorm\", \"rainstorm\", \"rainstorm\", \"rainstorm\", \"rainstorm\", \"rainstorm\", \"rainstorm\", \"rainstorm\", \"rainstorm\", \"rainstorm\", \"rainstorm\", \"rainstorm\", \"rainstorm\", \"rainstorm\", \"rainstorm\", \"rainstorm\", \"rainstorm\", \"rainstorm\", \"rainstorm\", \"rainstorm\", \"rainstorm\", \"rainstorm\", \"rainstorm\", \"rainstorm\", \"rainstorm\", \"razed\", \"razed\", \"razed\", \"razed\", \"razed\", \"razed\", \"razed\", \"razed\", \"razed\", \"razed\", \"razed\", \"razed\", \"razed\", \"razed\", \"razed\", \"razed\", \"razed\", \"razed\", \"razed\", \"razed\", \"razed\", \"razed\", \"razed\", \"razed\", \"razed\", \"razed\", \"razed\", \"razed\", \"razed\", \"razed\", \"razed\", \"razed\", \"razed\", \"razed\", \"razed\", \"refugees\", \"refugees\", \"refugees\", \"refugees\", \"refugees\", \"refugees\", \"refugees\", \"refugees\", \"refugees\", \"refugees\", \"refugees\", \"refugees\", \"refugees\", \"refugees\", \"refugees\", \"refugees\", \"refugees\", \"refugees\", \"refugees\", \"refugees\", \"refugees\", \"refugees\", \"refugees\", \"refugees\", \"refugees\", \"refugees\", \"refugees\", \"refugees\", \"refugees\", \"refugees\", \"refugees\", \"refugees\", \"refugees\", \"refugees\", \"refugees\", \"refugees\", \"rescue\", \"rescue\", \"rescue\", \"rescue\", \"rescue\", \"rescue\", \"rescue\", \"rescue\", \"rescue\", \"rescue\", \"rescue\", \"rescue\", \"rescue\", \"rescue\", \"rescue\", \"rescue\", \"rescue\", \"rescue\", \"rescue\", \"rescue\", \"rescue\", \"rescue\", \"rescued\", \"rescued\", \"rescued\", \"rescued\", \"rescued\", \"rescued\", \"rescued\", \"rescued\", \"rescued\", \"rescued\", \"rescued\", \"rescued\", \"rescued\", \"rescued\", \"rescued\", \"rescued\", \"rescued\", \"rescued\", \"rescued\", \"rescued\", \"rescued\", \"rescued\", \"rescued\", \"rescued\", \"rescued\", \"rescued\", \"rescued\", \"rescued\", \"rescued\", \"rescued\", \"rescued\", \"rescued\", \"rescued\", \"rescued\", \"rescued\", \"rescuers\", \"rescuers\", \"rescuers\", \"rescuers\", \"rescuers\", \"rescuers\", \"rescuers\", \"rescuers\", \"rescuers\", \"rescuers\", \"rescuers\", \"rescuers\", \"rescuers\", \"rescuers\", \"rescuers\", \"rescuers\", \"rescuers\", \"rescuers\", \"rescuers\", \"rescuers\", \"rescuers\", \"rescuers\", \"rescuers\", \"rescuers\", \"rescuers\", \"rescuers\", \"rescuers\", \"rescuers\", \"rescuers\", \"rescuers\", \"rescuers\", \"rescuers\", \"rescuers\", \"rescuers\", \"rescuers\", \"riot\", \"riot\", \"riot\", \"riot\", \"riot\", \"riot\", \"riot\", \"riot\", \"riot\", \"riot\", \"riot\", \"riot\", \"riot\", \"riot\", \"riot\", \"riot\", \"riot\", \"riot\", \"riot\", \"riot\", \"riot\", \"riot\", \"riot\", \"riot\", \"riot\", \"riot\", \"riot\", \"riot\", \"riot\", \"riot\", \"riot\", \"riot\", \"riot\", \"riot\", \"rioting\", \"rioting\", \"rioting\", \"rioting\", \"rioting\", \"rioting\", \"rioting\", \"rioting\", \"rioting\", \"rioting\", \"rioting\", \"rioting\", \"rioting\", \"rioting\", \"rioting\", \"rioting\", \"rioting\", \"rioting\", \"rioting\", \"rioting\", \"rioting\", \"rioting\", \"rioting\", \"rioting\", \"rioting\", \"rioting\", \"rioting\", \"rioting\", \"rioting\", \"rioting\", \"rioting\", \"rioting\", \"rioting\", \"rioting\", \"rioting\", \"rubble\", \"rubble\", \"rubble\", \"rubble\", \"rubble\", \"rubble\", \"rubble\", \"rubble\", \"rubble\", \"rubble\", \"rubble\", \"rubble\", \"rubble\", \"rubble\", \"rubble\", \"rubble\", \"rubble\", \"rubble\", \"rubble\", \"rubble\", \"rubble\", \"rubble\", \"rubble\", \"rubble\", \"rubble\", \"rubble\", \"rubble\", \"rubble\", \"ruin\", \"ruin\", \"ruin\", \"ruin\", \"ruin\", \"ruin\", \"ruin\", \"ruin\", \"ruin\", \"ruin\", \"ruin\", \"ruin\", \"ruin\", \"ruin\", \"ruin\", \"ruin\", \"ruin\", \"ruin\", \"ruin\", \"ruin\", \"ruin\", \"ruin\", \"ruin\", \"ruin\", \"ruin\", \"ruin\", \"ruin\", \"ruin\", \"ruin\", \"ruin\", \"ruin\", \"ruin\", \"ruin\", \"ruin\", \"ruin\", \"ruin\", \"ruin\", \"sandstorm\", \"sandstorm\", \"sandstorm\", \"sandstorm\", \"sandstorm\", \"sandstorm\", \"sandstorm\", \"sandstorm\", \"sandstorm\", \"sandstorm\", \"sandstorm\", \"sandstorm\", \"sandstorm\", \"sandstorm\", \"sandstorm\", \"sandstorm\", \"sandstorm\", \"sandstorm\", \"sandstorm\", \"sandstorm\", \"sandstorm\", \"sandstorm\", \"sandstorm\", \"sandstorm\", \"sandstorm\", \"sandstorm\", \"sandstorm\", \"sandstorm\", \"sandstorm\", \"sandstorm\", \"sandstorm\", \"sandstorm\", \"sandstorm\", \"sandstorm\", \"sandstorm\", \"sandstorm\", \"sandstorm\", \"screamed\", \"screamed\", \"screamed\", \"screamed\", \"screamed\", \"screamed\", \"screamed\", \"screamed\", \"screamed\", \"screamed\", \"screamed\", \"screamed\", \"screamed\", \"screamed\", \"screamed\", \"screamed\", \"screamed\", \"screamed\", \"screamed\", \"screamed\", \"screamed\", \"screamed\", \"screamed\", \"screamed\", \"screamed\", \"screamed\", \"screamed\", \"screamed\", \"screamed\", \"screamed\", \"screamed\", \"screamed\", \"screamed\", \"screamed\", \"screaming\", \"screaming\", \"screaming\", \"screaming\", \"screaming\", \"screaming\", \"screaming\", \"screaming\", \"screaming\", \"screaming\", \"screaming\", \"screaming\", \"screaming\", \"screaming\", \"screaming\", \"screaming\", \"screaming\", \"screaming\", \"screaming\", \"screaming\", \"screaming\", \"screaming\", \"screaming\", \"screaming\", \"screaming\", \"screaming\", \"screaming\", \"screaming\", \"screaming\", \"screaming\", \"screaming\", \"screaming\", \"screaming\", \"screaming\", \"screaming\", \"screaming\", \"screams\", \"screams\", \"screams\", \"screams\", \"screams\", \"screams\", \"screams\", \"screams\", \"screams\", \"screams\", \"screams\", \"screams\", \"screams\", \"screams\", \"screams\", \"screams\", \"screams\", \"screams\", \"screams\", \"screams\", \"screams\", \"screams\", \"screams\", \"screams\", \"screams\", \"screams\", \"screams\", \"screams\", \"screams\", \"screams\", \"screams\", \"screams\", \"screams\", \"screams\", \"screams\", \"seismic\", \"seismic\", \"seismic\", \"seismic\", \"seismic\", \"seismic\", \"seismic\", \"seismic\", \"seismic\", \"seismic\", \"seismic\", \"seismic\", \"seismic\", \"seismic\", \"seismic\", \"seismic\", \"seismic\", \"seismic\", \"seismic\", \"seismic\", \"seismic\", \"seismic\", \"seismic\", \"seismic\", \"seismic\", \"seismic\", \"seismic\", \"seismic\", \"seismic\", \"sinkhole\", \"sinkhole\", \"sinkhole\", \"sinkhole\", \"sinkhole\", \"sinkhole\", \"sinkhole\", \"sinkhole\", \"sinkhole\", \"sinkhole\", \"sinkhole\", \"sinkhole\", \"sinkhole\", \"sinkhole\", \"sinkhole\", \"sinkhole\", \"sinkhole\", \"sinkhole\", \"sinkhole\", \"sinkhole\", \"sinkhole\", \"sinkhole\", \"sinkhole\", \"sinkhole\", \"sinkhole\", \"sinkhole\", \"sinkhole\", \"sinkhole\", \"sinkhole\", \"sinkhole\", \"sinkhole\", \"sinkhole\", \"sinkhole\", \"sinkhole\", \"sinkhole\", \"sinkhole\", \"sinkhole\", \"sinkhole\", \"sinkhole\", \"sinking\", \"sinking\", \"sinking\", \"sinking\", \"sinking\", \"sinking\", \"sinking\", \"sinking\", \"sinking\", \"sinking\", \"sinking\", \"sinking\", \"sinking\", \"sinking\", \"sinking\", \"sinking\", \"sinking\", \"sinking\", \"sinking\", \"sinking\", \"sinking\", \"sinking\", \"sinking\", \"sinking\", \"sinking\", \"sinking\", \"sinking\", \"sinking\", \"sinking\", \"sinking\", \"sinking\", \"sinking\", \"sinking\", \"sinking\", \"sinking\", \"sinking\", \"sinking\", \"sinking\", \"sinking\", \"sinking\", \"sinking\", \"siren\", \"siren\", \"siren\", \"siren\", \"siren\", \"siren\", \"siren\", \"siren\", \"siren\", \"siren\", \"siren\", \"siren\", \"siren\", \"siren\", \"siren\", \"siren\", \"siren\", \"siren\", \"siren\", \"siren\", \"siren\", \"siren\", \"siren\", \"siren\", \"siren\", \"siren\", \"siren\", \"siren\", \"siren\", \"siren\", \"siren\", \"siren\", \"siren\", \"siren\", \"siren\", \"siren\", \"siren\", \"siren\", \"siren\", \"siren\", \"sirens\", \"sirens\", \"sirens\", \"sirens\", \"sirens\", \"sirens\", \"sirens\", \"sirens\", \"sirens\", \"sirens\", \"sirens\", \"sirens\", \"sirens\", \"sirens\", \"sirens\", \"sirens\", \"sirens\", \"sirens\", \"sirens\", \"sirens\", \"sirens\", \"sirens\", \"sirens\", \"sirens\", \"sirens\", \"sirens\", \"sirens\", \"sirens\", \"sirens\", \"smoke\", \"smoke\", \"smoke\", \"smoke\", \"smoke\", \"smoke\", \"smoke\", \"smoke\", \"smoke\", \"smoke\", \"smoke\", \"smoke\", \"smoke\", \"smoke\", \"smoke\", \"smoke\", \"smoke\", \"smoke\", \"smoke\", \"smoke\", \"smoke\", \"smoke\", \"smoke\", \"smoke\", \"smoke\", \"smoke\", \"smoke\", \"smoke\", \"smoke\", \"smoke\", \"smoke\", \"smoke\", \"smoke\", \"smoke\", \"snowstorm\", \"snowstorm\", \"snowstorm\", \"snowstorm\", \"snowstorm\", \"snowstorm\", \"snowstorm\", \"snowstorm\", \"snowstorm\", \"snowstorm\", \"snowstorm\", \"snowstorm\", \"snowstorm\", \"snowstorm\", \"snowstorm\", \"snowstorm\", \"snowstorm\", \"snowstorm\", \"snowstorm\", \"snowstorm\", \"snowstorm\", \"snowstorm\", \"snowstorm\", \"snowstorm\", \"snowstorm\", \"snowstorm\", \"snowstorm\", \"snowstorm\", \"snowstorm\", \"storm\", \"storm\", \"storm\", \"storm\", \"storm\", \"storm\", \"storm\", \"storm\", \"storm\", \"storm\", \"storm\", \"storm\", \"storm\", \"storm\", \"storm\", \"storm\", \"storm\", \"storm\", \"storm\", \"storm\", \"storm\", \"storm\", \"storm\", \"storm\", \"storm\", \"storm\", \"storm\", \"storm\", \"storm\", \"storm\", \"storm\", \"storm\", \"storm\", \"storm\", \"storm\", \"stretcher\", \"stretcher\", \"stretcher\", \"stretcher\", \"stretcher\", \"stretcher\", \"stretcher\", \"stretcher\", \"stretcher\", \"stretcher\", \"stretcher\", \"stretcher\", \"stretcher\", \"stretcher\", \"stretcher\", \"stretcher\", \"stretcher\", \"stretcher\", \"stretcher\", \"stretcher\", \"stretcher\", \"stretcher\", \"stretcher\", \"stretcher\", \"stretcher\", \"stretcher\", \"stretcher\", \"stretcher\", \"stretcher\", \"stretcher\", \"stretcher\", \"stretcher\", \"stretcher\", \"structural%20failure\", \"structural%20failure\", \"structural%20failure\", \"structural%20failure\", \"structural%20failure\", \"structural%20failure\", \"structural%20failure\", \"structural%20failure\", \"structural%20failure\", \"structural%20failure\", \"structural%20failure\", \"structural%20failure\", \"structural%20failure\", \"structural%20failure\", \"structural%20failure\", \"structural%20failure\", \"structural%20failure\", \"structural%20failure\", \"structural%20failure\", \"structural%20failure\", \"structural%20failure\", \"structural%20failure\", \"structural%20failure\", \"structural%20failure\", \"structural%20failure\", \"structural%20failure\", \"structural%20failure\", \"structural%20failure\", \"structural%20failure\", \"structural%20failure\", \"structural%20failure\", \"structural%20failure\", \"structural%20failure\", \"structural%20failure\", \"structural%20failure\", \"suicide%20bomb\", \"suicide%20bomb\", \"suicide%20bomb\", \"suicide%20bomb\", \"suicide%20bomb\", \"suicide%20bomb\", \"suicide%20bomb\", \"suicide%20bomb\", \"suicide%20bomb\", \"suicide%20bomb\", \"suicide%20bomb\", \"suicide%20bomb\", \"suicide%20bomb\", \"suicide%20bomb\", \"suicide%20bomb\", \"suicide%20bomb\", \"suicide%20bomb\", \"suicide%20bomb\", \"suicide%20bomb\", \"suicide%20bomb\", \"suicide%20bomb\", \"suicide%20bomb\", \"suicide%20bomb\", \"suicide%20bomb\", \"suicide%20bomb\", \"suicide%20bomb\", \"suicide%20bomb\", \"suicide%20bomb\", \"suicide%20bomb\", \"suicide%20bomb\", \"suicide%20bomb\", \"suicide%20bomb\", \"suicide%20bomb\", \"suicide%20bomb\", \"suicide%20bomb\", \"suicide%20bomber\", \"suicide%20bomber\", \"suicide%20bomber\", \"suicide%20bomber\", \"suicide%20bomber\", \"suicide%20bomber\", \"suicide%20bomber\", \"suicide%20bomber\", \"suicide%20bomber\", \"suicide%20bomber\", \"suicide%20bomber\", \"suicide%20bomber\", \"suicide%20bomber\", \"suicide%20bomber\", \"suicide%20bomber\", \"suicide%20bomber\", \"suicide%20bomber\", \"suicide%20bomber\", \"suicide%20bomber\", \"suicide%20bomber\", \"suicide%20bomber\", \"suicide%20bomber\", \"suicide%20bomber\", \"suicide%20bomber\", \"suicide%20bomber\", \"suicide%20bomber\", \"suicide%20bomber\", \"suicide%20bomber\", \"suicide%20bomber\", \"suicide%20bomber\", \"suicide%20bomber\", \"suicide%20bombing\", \"suicide%20bombing\", \"suicide%20bombing\", \"suicide%20bombing\", \"suicide%20bombing\", \"suicide%20bombing\", \"suicide%20bombing\", \"suicide%20bombing\", \"suicide%20bombing\", \"suicide%20bombing\", \"suicide%20bombing\", \"suicide%20bombing\", \"suicide%20bombing\", \"suicide%20bombing\", \"suicide%20bombing\", \"suicide%20bombing\", \"suicide%20bombing\", \"suicide%20bombing\", \"suicide%20bombing\", \"suicide%20bombing\", \"suicide%20bombing\", \"suicide%20bombing\", \"suicide%20bombing\", \"suicide%20bombing\", \"suicide%20bombing\", \"suicide%20bombing\", \"suicide%20bombing\", \"suicide%20bombing\", \"suicide%20bombing\", \"suicide%20bombing\", \"suicide%20bombing\", \"suicide%20bombing\", \"suicide%20bombing\", \"sunk\", \"sunk\", \"sunk\", \"sunk\", \"sunk\", \"sunk\", \"sunk\", \"sunk\", \"sunk\", \"sunk\", \"sunk\", \"sunk\", \"sunk\", \"sunk\", \"sunk\", \"sunk\", \"sunk\", \"sunk\", \"sunk\", \"sunk\", \"sunk\", \"sunk\", \"sunk\", \"sunk\", \"sunk\", \"sunk\", \"sunk\", \"sunk\", \"sunk\", \"sunk\", \"sunk\", \"sunk\", \"sunk\", \"sunk\", \"sunk\", \"sunk\", \"sunk\", \"sunk\", \"sunk\", \"survive\", \"survive\", \"survive\", \"survive\", \"survive\", \"survive\", \"survive\", \"survive\", \"survive\", \"survive\", \"survive\", \"survive\", \"survive\", \"survive\", \"survive\", \"survive\", \"survive\", \"survive\", \"survive\", \"survive\", \"survive\", \"survive\", \"survive\", \"survive\", \"survive\", \"survive\", \"survive\", \"survive\", \"survive\", \"survive\", \"survive\", \"survive\", \"survived\", \"survived\", \"survived\", \"survived\", \"survived\", \"survived\", \"survived\", \"survived\", \"survived\", \"survived\", \"survived\", \"survived\", \"survived\", \"survived\", \"survived\", \"survived\", \"survived\", \"survived\", \"survived\", \"survived\", \"survived\", \"survived\", \"survived\", \"survived\", \"survived\", \"survived\", \"survived\", \"survived\", \"survived\", \"survived\", \"survived\", \"survived\", \"survived\", \"survivors\", \"survivors\", \"survivors\", \"survivors\", \"survivors\", \"survivors\", \"survivors\", \"survivors\", \"survivors\", \"survivors\", \"survivors\", \"survivors\", \"survivors\", \"survivors\", \"survivors\", \"survivors\", \"survivors\", \"survivors\", \"survivors\", \"survivors\", \"survivors\", \"survivors\", \"survivors\", \"survivors\", \"survivors\", \"survivors\", \"survivors\", \"survivors\", \"survivors\", \"survivors\", \"terrorism\", \"terrorism\", \"terrorism\", \"terrorism\", \"terrorism\", \"terrorism\", \"terrorism\", \"terrorism\", \"terrorism\", \"terrorism\", \"terrorism\", \"terrorism\", \"terrorism\", \"terrorism\", \"terrorism\", \"terrorism\", \"terrorism\", \"terrorism\", \"terrorism\", \"terrorism\", \"terrorism\", \"terrorism\", \"terrorism\", \"terrorism\", \"terrorism\", \"terrorism\", \"terrorism\", \"terrorism\", \"terrorism\", \"terrorism\", \"terrorism\", \"terrorism\", \"terrorism\", \"terrorism\", \"terrorist\", \"terrorist\", \"terrorist\", \"terrorist\", \"terrorist\", \"terrorist\", \"terrorist\", \"terrorist\", \"terrorist\", \"terrorist\", \"terrorist\", \"terrorist\", \"terrorist\", \"terrorist\", \"terrorist\", \"terrorist\", \"terrorist\", \"terrorist\", \"terrorist\", \"terrorist\", \"terrorist\", \"terrorist\", \"terrorist\", \"terrorist\", \"terrorist\", \"terrorist\", \"terrorist\", \"terrorist\", \"terrorist\", \"terrorist\", \"terrorist\", \"threat\", \"threat\", \"threat\", \"threat\", \"threat\", \"threat\", \"threat\", \"threat\", \"threat\", \"threat\", \"threat\", \"thunder\", \"thunder\", \"thunder\", \"thunder\", \"thunder\", \"thunder\", \"thunder\", \"thunder\", \"thunder\", \"thunder\", \"thunder\", \"thunder\", \"thunder\", \"thunder\", \"thunder\", \"thunder\", \"thunder\", \"thunder\", \"thunder\", \"thunder\", \"thunder\", \"thunder\", \"thunder\", \"thunder\", \"thunder\", \"thunder\", \"thunder\", \"thunder\", \"thunder\", \"thunder\", \"thunder\", \"thunder\", \"thunder\", \"thunder\", \"thunder\", \"thunder\", \"thunder\", \"thunder\", \"thunderstorm\", \"thunderstorm\", \"thunderstorm\", \"thunderstorm\", \"thunderstorm\", \"thunderstorm\", \"thunderstorm\", \"thunderstorm\", \"thunderstorm\", \"thunderstorm\", \"thunderstorm\", \"thunderstorm\", \"thunderstorm\", \"thunderstorm\", \"thunderstorm\", \"thunderstorm\", \"thunderstorm\", \"thunderstorm\", \"thunderstorm\", \"thunderstorm\", \"thunderstorm\", \"thunderstorm\", \"thunderstorm\", \"thunderstorm\", \"thunderstorm\", \"thunderstorm\", \"thunderstorm\", \"thunderstorm\", \"thunderstorm\", \"thunderstorm\", \"thunderstorm\", \"thunderstorm\", \"thunderstorm\", \"tornado\", \"tornado\", \"tornado\", \"tornado\", \"tornado\", \"tornado\", \"tornado\", \"tornado\", \"tornado\", \"tornado\", \"tornado\", \"tornado\", \"tornado\", \"tornado\", \"tornado\", \"tornado\", \"tornado\", \"tornado\", \"tornado\", \"tornado\", \"tornado\", \"tornado\", \"tornado\", \"tornado\", \"tornado\", \"tornado\", \"tornado\", \"tornado\", \"tornado\", \"tornado\", \"tornado\", \"tornado\", \"tornado\", \"tornado\", \"tornado\", \"tragedy\", \"tragedy\", \"tragedy\", \"tragedy\", \"tragedy\", \"tragedy\", \"tragedy\", \"tragedy\", \"tragedy\", \"tragedy\", \"tragedy\", \"tragedy\", \"tragedy\", \"tragedy\", \"tragedy\", \"tragedy\", \"tragedy\", \"tragedy\", \"tragedy\", \"tragedy\", \"tragedy\", \"tragedy\", \"tragedy\", \"tragedy\", \"tragedy\", \"tragedy\", \"tragedy\", \"tragedy\", \"tragedy\", \"tragedy\", \"tragedy\", \"tragedy\", \"tragedy\", \"tragedy\", \"tragedy\", \"tragedy\", \"trapped\", \"trapped\", \"trapped\", \"trapped\", \"trapped\", \"trapped\", \"trapped\", \"trapped\", \"trapped\", \"trapped\", \"trapped\", \"trapped\", \"trapped\", \"trapped\", \"trapped\", \"trapped\", \"trapped\", \"trapped\", \"trapped\", \"trapped\", \"trapped\", \"trapped\", \"trapped\", \"trapped\", \"trapped\", \"trapped\", \"trapped\", \"trapped\", \"trapped\", \"trapped\", \"trapped\", \"trapped\", \"trauma\", \"trauma\", \"trauma\", \"trauma\", \"trauma\", \"trauma\", \"trauma\", \"trauma\", \"trauma\", \"trauma\", \"trauma\", \"trauma\", \"trauma\", \"trauma\", \"trauma\", \"trauma\", \"trauma\", \"trauma\", \"trauma\", \"trauma\", \"trauma\", \"trauma\", \"trauma\", \"trauma\", \"trauma\", \"trauma\", \"trauma\", \"trauma\", \"trauma\", \"trauma\", \"trauma\", \"traumatised\", \"traumatised\", \"traumatised\", \"traumatised\", \"traumatised\", \"traumatised\", \"traumatised\", \"traumatised\", \"traumatised\", \"traumatised\", \"traumatised\", \"traumatised\", \"traumatised\", \"traumatised\", \"traumatised\", \"traumatised\", \"traumatised\", \"traumatised\", \"traumatised\", \"traumatised\", \"traumatised\", \"traumatised\", \"traumatised\", \"traumatised\", \"traumatised\", \"traumatised\", \"traumatised\", \"traumatised\", \"traumatised\", \"traumatised\", \"traumatised\", \"traumatised\", \"traumatised\", \"traumatised\", \"traumatised\", \"trouble\", \"trouble\", \"trouble\", \"trouble\", \"trouble\", \"trouble\", \"trouble\", \"trouble\", \"trouble\", \"trouble\", \"trouble\", \"trouble\", \"trouble\", \"trouble\", \"trouble\", \"trouble\", \"trouble\", \"trouble\", \"trouble\", \"trouble\", \"trouble\", \"trouble\", \"trouble\", \"trouble\", \"trouble\", \"trouble\", \"trouble\", \"trouble\", \"trouble\", \"trouble\", \"trouble\", \"trouble\", \"trouble\", \"tsunami\", \"tsunami\", \"tsunami\", \"tsunami\", \"tsunami\", \"tsunami\", \"tsunami\", \"tsunami\", \"tsunami\", \"tsunami\", \"tsunami\", \"tsunami\", \"tsunami\", \"tsunami\", \"tsunami\", \"tsunami\", \"tsunami\", \"tsunami\", \"tsunami\", \"tsunami\", \"tsunami\", \"tsunami\", \"tsunami\", \"tsunami\", \"tsunami\", \"tsunami\", \"tsunami\", \"tsunami\", \"tsunami\", \"tsunami\", \"tsunami\", \"tsunami\", \"tsunami\", \"tsunami\", \"twister\", \"twister\", \"twister\", \"twister\", \"twister\", \"twister\", \"twister\", \"twister\", \"twister\", \"twister\", \"twister\", \"twister\", \"twister\", \"twister\", \"twister\", \"twister\", \"twister\", \"twister\", \"twister\", \"twister\", \"twister\", \"twister\", \"twister\", \"twister\", \"twister\", \"twister\", \"twister\", \"twister\", \"twister\", \"twister\", \"twister\", \"twister\", \"twister\", \"twister\", \"twister\", \"twister\", \"twister\", \"twister\", \"twister\", \"twister\", \"typhoon\", \"typhoon\", \"typhoon\", \"typhoon\", \"typhoon\", \"typhoon\", \"typhoon\", \"typhoon\", \"typhoon\", \"typhoon\", \"typhoon\", \"typhoon\", \"typhoon\", \"typhoon\", \"typhoon\", \"typhoon\", \"typhoon\", \"typhoon\", \"typhoon\", \"typhoon\", \"typhoon\", \"typhoon\", \"typhoon\", \"typhoon\", \"typhoon\", \"typhoon\", \"typhoon\", \"typhoon\", \"typhoon\", \"typhoon\", \"typhoon\", \"typhoon\", \"typhoon\", \"typhoon\", \"typhoon\", \"typhoon\", \"typhoon\", \"typhoon\", \"upheaval\", \"upheaval\", \"upheaval\", \"upheaval\", \"upheaval\", \"upheaval\", \"upheaval\", \"upheaval\", \"upheaval\", \"upheaval\", \"upheaval\", \"upheaval\", \"upheaval\", \"upheaval\", \"upheaval\", \"upheaval\", \"upheaval\", \"upheaval\", \"upheaval\", \"upheaval\", \"upheaval\", \"upheaval\", \"upheaval\", \"upheaval\", \"upheaval\", \"upheaval\", \"upheaval\", \"upheaval\", \"upheaval\", \"upheaval\", \"upheaval\", \"upheaval\", \"upheaval\", \"upheaval\", \"upheaval\", \"upheaval\", \"upheaval\", \"upheaval\", \"violent%20storm\", \"violent%20storm\", \"violent%20storm\", \"violent%20storm\", \"violent%20storm\", \"violent%20storm\", \"violent%20storm\", \"violent%20storm\", \"violent%20storm\", \"violent%20storm\", \"violent%20storm\", \"violent%20storm\", \"violent%20storm\", \"violent%20storm\", \"violent%20storm\", \"violent%20storm\", \"violent%20storm\", \"violent%20storm\", \"violent%20storm\", \"violent%20storm\", \"violent%20storm\", \"violent%20storm\", \"violent%20storm\", \"violent%20storm\", \"violent%20storm\", \"violent%20storm\", \"violent%20storm\", \"violent%20storm\", \"violent%20storm\", \"violent%20storm\", \"violent%20storm\", \"violent%20storm\", \"violent%20storm\", \"volcano\", \"volcano\", \"volcano\", \"volcano\", \"volcano\", \"volcano\", \"volcano\", \"volcano\", \"volcano\", \"volcano\", \"volcano\", \"volcano\", \"volcano\", \"volcano\", \"volcano\", \"volcano\", \"volcano\", \"volcano\", \"volcano\", \"volcano\", \"volcano\", \"volcano\", \"volcano\", \"volcano\", \"volcano\", \"volcano\", \"volcano\", \"war%20zone\", \"war%20zone\", \"war%20zone\", \"war%20zone\", \"war%20zone\", \"war%20zone\", \"war%20zone\", \"war%20zone\", \"war%20zone\", \"war%20zone\", \"war%20zone\", \"war%20zone\", \"war%20zone\", \"war%20zone\", \"war%20zone\", \"war%20zone\", \"war%20zone\", \"war%20zone\", \"war%20zone\", \"war%20zone\", \"war%20zone\", \"war%20zone\", \"war%20zone\", \"war%20zone\", \"weapon\", \"weapon\", \"weapon\", \"weapon\", \"weapon\", \"weapon\", \"weapon\", \"weapon\", \"weapon\", \"weapon\", \"weapon\", \"weapon\", \"weapon\", \"weapon\", \"weapon\", \"weapon\", \"weapon\", \"weapon\", \"weapon\", \"weapon\", \"weapon\", \"weapon\", \"weapon\", \"weapon\", \"weapon\", \"weapon\", \"weapon\", \"weapon\", \"weapon\", \"weapon\", \"weapon\", \"weapon\", \"weapon\", \"weapon\", \"weapon\", \"weapon\", \"weapon\", \"weapon\", \"weapon\", \"weapons\", \"weapons\", \"weapons\", \"weapons\", \"weapons\", \"weapons\", \"weapons\", \"weapons\", \"weapons\", \"weapons\", \"weapons\", \"weapons\", \"weapons\", \"weapons\", \"weapons\", \"weapons\", \"weapons\", \"weapons\", \"weapons\", \"weapons\", \"weapons\", \"weapons\", \"weapons\", \"weapons\", \"weapons\", \"weapons\", \"weapons\", \"weapons\", \"weapons\", \"weapons\", \"weapons\", \"weapons\", \"weapons\", \"weapons\", \"weapons\", \"weapons\", \"weapons\", \"weapons\", \"weapons\", \"whirlwind\", \"whirlwind\", \"whirlwind\", \"whirlwind\", \"whirlwind\", \"whirlwind\", \"whirlwind\", \"whirlwind\", \"whirlwind\", \"whirlwind\", \"whirlwind\", \"whirlwind\", \"whirlwind\", \"whirlwind\", \"whirlwind\", \"whirlwind\", \"whirlwind\", \"whirlwind\", \"whirlwind\", \"whirlwind\", \"whirlwind\", \"whirlwind\", \"whirlwind\", \"whirlwind\", \"whirlwind\", \"whirlwind\", \"whirlwind\", \"whirlwind\", \"whirlwind\", \"whirlwind\", \"whirlwind\", \"whirlwind\", \"whirlwind\", \"whirlwind\", \"whirlwind\", \"whirlwind\", \"whirlwind\", \"whirlwind\", \"whirlwind\", \"wild%20fires\", \"wild%20fires\", \"wild%20fires\", \"wild%20fires\", \"wild%20fires\", \"wild%20fires\", \"wild%20fires\", \"wild%20fires\", \"wild%20fires\", \"wild%20fires\", \"wild%20fires\", \"wild%20fires\", \"wild%20fires\", \"wild%20fires\", \"wild%20fires\", \"wild%20fires\", \"wild%20fires\", \"wild%20fires\", \"wild%20fires\", \"wild%20fires\", \"wild%20fires\", \"wild%20fires\", \"wild%20fires\", \"wild%20fires\", \"wild%20fires\", \"wild%20fires\", \"wild%20fires\", \"wild%20fires\", \"wild%20fires\", \"wild%20fires\", \"wild%20fires\", \"wildfire\", \"wildfire\", \"wildfire\", \"wildfire\", \"wildfire\", \"wildfire\", \"wildfire\", \"wildfire\", \"wildfire\", \"wildfire\", \"wildfire\", \"wildfire\", \"wildfire\", \"wildfire\", \"wildfire\", \"wildfire\", \"wildfire\", \"wildfire\", \"wildfire\", \"wildfire\", \"wildfire\", \"wildfire\", \"wildfire\", \"wildfire\", \"wildfire\", \"wildfire\", \"wildfire\", \"wildfire\", \"wildfire\", \"wildfire\", \"wildfire\", \"wildfire\", \"wildfire\", \"windstorm\", \"windstorm\", \"windstorm\", \"windstorm\", \"windstorm\", \"windstorm\", \"windstorm\", \"windstorm\", \"windstorm\", \"windstorm\", \"windstorm\", \"windstorm\", \"windstorm\", \"windstorm\", \"windstorm\", \"windstorm\", \"windstorm\", \"windstorm\", \"windstorm\", \"windstorm\", \"windstorm\", \"windstorm\", \"windstorm\", \"windstorm\", \"windstorm\", \"windstorm\", \"windstorm\", \"windstorm\", \"windstorm\", \"windstorm\", \"windstorm\", \"windstorm\", \"windstorm\", \"windstorm\", \"windstorm\", \"windstorm\", \"windstorm\", \"windstorm\", \"windstorm\", \"windstorm\", \"wounded\", \"wounded\", \"wounded\", \"wounded\", \"wounded\", \"wounded\", \"wounded\", \"wounded\", \"wounded\", \"wounded\", \"wounded\", \"wounded\", \"wounded\", \"wounded\", \"wounded\", \"wounded\", \"wounded\", \"wounded\", \"wounded\", \"wounded\", \"wounded\", \"wounded\", \"wounded\", \"wounded\", \"wounded\", \"wounded\", \"wounded\", \"wounded\", \"wounded\", \"wounded\", \"wounded\", \"wounded\", \"wounded\", \"wounded\", \"wounded\", \"wounded\", \"wounded\", \"wounds\", \"wounds\", \"wounds\", \"wounds\", \"wounds\", \"wounds\", \"wounds\", \"wounds\", \"wounds\", \"wounds\", \"wounds\", \"wounds\", \"wounds\", \"wounds\", \"wounds\", \"wounds\", \"wounds\", \"wounds\", \"wounds\", \"wounds\", \"wounds\", \"wounds\", \"wounds\", \"wounds\", \"wounds\", \"wounds\", \"wounds\", \"wounds\", \"wounds\", \"wounds\", \"wounds\", \"wounds\", \"wounds\", \"wreck\", \"wreck\", \"wreck\", \"wreck\", \"wreck\", \"wreck\", \"wreck\", \"wreck\", \"wreck\", \"wreck\", \"wreck\", \"wreck\", \"wreck\", \"wreck\", \"wreck\", \"wreck\", \"wreck\", \"wreck\", \"wreck\", \"wreck\", \"wreck\", \"wreck\", \"wreck\", \"wreck\", \"wreck\", \"wreck\", \"wreck\", \"wreck\", \"wreck\", \"wreck\", \"wreck\", \"wreck\", \"wreck\", \"wreck\", \"wreck\", \"wreck\", \"wreck\", \"wreckage\", \"wreckage\", \"wreckage\", \"wreckage\", \"wreckage\", \"wreckage\", \"wreckage\", \"wreckage\", \"wreckage\", \"wreckage\", \"wreckage\", \"wreckage\", \"wreckage\", \"wreckage\", \"wreckage\", \"wreckage\", \"wreckage\", \"wreckage\", \"wreckage\", \"wreckage\", \"wreckage\", \"wreckage\", \"wreckage\", \"wreckage\", \"wreckage\", \"wreckage\", \"wreckage\", \"wreckage\", \"wreckage\", \"wreckage\", \"wreckage\", \"wreckage\", \"wreckage\", \"wreckage\", \"wreckage\", \"wreckage\", \"wreckage\", \"wreckage\", \"wreckage\", \"wrecked\", \"wrecked\", \"wrecked\", \"wrecked\", \"wrecked\", \"wrecked\", \"wrecked\", \"wrecked\", \"wrecked\", \"wrecked\", \"wrecked\", \"wrecked\", \"wrecked\", \"wrecked\", \"wrecked\", \"wrecked\", \"wrecked\", \"wrecked\", \"wrecked\", \"wrecked\", \"wrecked\", \"wrecked\", \"wrecked\", \"wrecked\", \"wrecked\", \"wrecked\", \"wrecked\", \"wrecked\", \"wrecked\", \"wrecked\", \"wrecked\", \"wrecked\", \"wrecked\", \"wrecked\", \"wrecked\", \"wrecked\", \"wrecked\", \"wrecked\", \"wrecked\", null, null, null, null, null, null, null, null, null, null, null, null, null, null, null, null, null, null, null, null, null, null, null, null, null, null, null, null, null, null]}],\n",
              "                        {\"template\": {\"data\": {\"bar\": [{\"error_x\": {\"color\": \"#2a3f5f\"}, \"error_y\": {\"color\": \"#2a3f5f\"}, \"marker\": {\"line\": {\"color\": \"#E5ECF6\", \"width\": 0.5}}, \"type\": \"bar\"}], \"barpolar\": [{\"marker\": {\"line\": {\"color\": \"#E5ECF6\", \"width\": 0.5}}, \"type\": \"barpolar\"}], \"carpet\": [{\"aaxis\": {\"endlinecolor\": \"#2a3f5f\", \"gridcolor\": \"white\", \"linecolor\": \"white\", \"minorgridcolor\": \"white\", \"startlinecolor\": \"#2a3f5f\"}, \"baxis\": {\"endlinecolor\": \"#2a3f5f\", \"gridcolor\": \"white\", \"linecolor\": \"white\", \"minorgridcolor\": \"white\", \"startlinecolor\": \"#2a3f5f\"}, \"type\": \"carpet\"}], \"choropleth\": [{\"colorbar\": {\"outlinewidth\": 0, \"ticks\": \"\"}, \"type\": \"choropleth\"}], \"contour\": [{\"colorbar\": {\"outlinewidth\": 0, \"ticks\": \"\"}, \"colorscale\": [[0.0, \"#0d0887\"], [0.1111111111111111, \"#46039f\"], [0.2222222222222222, \"#7201a8\"], [0.3333333333333333, \"#9c179e\"], [0.4444444444444444, \"#bd3786\"], [0.5555555555555556, \"#d8576b\"], [0.6666666666666666, \"#ed7953\"], [0.7777777777777778, \"#fb9f3a\"], [0.8888888888888888, \"#fdca26\"], [1.0, \"#f0f921\"]], \"type\": \"contour\"}], \"contourcarpet\": [{\"colorbar\": {\"outlinewidth\": 0, \"ticks\": \"\"}, \"type\": \"contourcarpet\"}], \"heatmap\": [{\"colorbar\": {\"outlinewidth\": 0, \"ticks\": \"\"}, \"colorscale\": [[0.0, \"#0d0887\"], [0.1111111111111111, \"#46039f\"], [0.2222222222222222, \"#7201a8\"], [0.3333333333333333, \"#9c179e\"], [0.4444444444444444, \"#bd3786\"], [0.5555555555555556, \"#d8576b\"], [0.6666666666666666, \"#ed7953\"], [0.7777777777777778, \"#fb9f3a\"], [0.8888888888888888, \"#fdca26\"], [1.0, \"#f0f921\"]], \"type\": \"heatmap\"}], \"heatmapgl\": [{\"colorbar\": {\"outlinewidth\": 0, \"ticks\": \"\"}, \"colorscale\": [[0.0, \"#0d0887\"], [0.1111111111111111, \"#46039f\"], [0.2222222222222222, \"#7201a8\"], [0.3333333333333333, \"#9c179e\"], [0.4444444444444444, \"#bd3786\"], [0.5555555555555556, \"#d8576b\"], [0.6666666666666666, \"#ed7953\"], [0.7777777777777778, \"#fb9f3a\"], [0.8888888888888888, \"#fdca26\"], [1.0, \"#f0f921\"]], \"type\": \"heatmapgl\"}], \"histogram\": [{\"marker\": {\"colorbar\": {\"outlinewidth\": 0, \"ticks\": \"\"}}, \"type\": \"histogram\"}], \"histogram2d\": [{\"colorbar\": {\"outlinewidth\": 0, \"ticks\": \"\"}, \"colorscale\": [[0.0, \"#0d0887\"], [0.1111111111111111, \"#46039f\"], [0.2222222222222222, \"#7201a8\"], [0.3333333333333333, \"#9c179e\"], [0.4444444444444444, \"#bd3786\"], [0.5555555555555556, \"#d8576b\"], [0.6666666666666666, \"#ed7953\"], [0.7777777777777778, \"#fb9f3a\"], [0.8888888888888888, \"#fdca26\"], [1.0, \"#f0f921\"]], \"type\": \"histogram2d\"}], \"histogram2dcontour\": [{\"colorbar\": {\"outlinewidth\": 0, \"ticks\": \"\"}, \"colorscale\": [[0.0, \"#0d0887\"], [0.1111111111111111, \"#46039f\"], [0.2222222222222222, \"#7201a8\"], [0.3333333333333333, \"#9c179e\"], [0.4444444444444444, \"#bd3786\"], [0.5555555555555556, \"#d8576b\"], [0.6666666666666666, \"#ed7953\"], [0.7777777777777778, \"#fb9f3a\"], [0.8888888888888888, \"#fdca26\"], [1.0, \"#f0f921\"]], \"type\": \"histogram2dcontour\"}], \"mesh3d\": [{\"colorbar\": {\"outlinewidth\": 0, \"ticks\": \"\"}, \"type\": \"mesh3d\"}], \"parcoords\": [{\"line\": {\"colorbar\": {\"outlinewidth\": 0, \"ticks\": \"\"}}, \"type\": \"parcoords\"}], \"pie\": [{\"automargin\": true, \"type\": \"pie\"}], \"scatter\": [{\"marker\": {\"colorbar\": {\"outlinewidth\": 0, \"ticks\": \"\"}}, \"type\": \"scatter\"}], \"scatter3d\": [{\"line\": {\"colorbar\": {\"outlinewidth\": 0, \"ticks\": \"\"}}, \"marker\": {\"colorbar\": {\"outlinewidth\": 0, \"ticks\": \"\"}}, \"type\": \"scatter3d\"}], \"scattercarpet\": [{\"marker\": {\"colorbar\": {\"outlinewidth\": 0, \"ticks\": \"\"}}, \"type\": \"scattercarpet\"}], \"scattergeo\": [{\"marker\": {\"colorbar\": {\"outlinewidth\": 0, \"ticks\": \"\"}}, \"type\": \"scattergeo\"}], \"scattergl\": [{\"marker\": {\"colorbar\": {\"outlinewidth\": 0, \"ticks\": \"\"}}, \"type\": \"scattergl\"}], \"scattermapbox\": [{\"marker\": {\"colorbar\": {\"outlinewidth\": 0, \"ticks\": \"\"}}, \"type\": \"scattermapbox\"}], \"scatterpolar\": [{\"marker\": {\"colorbar\": {\"outlinewidth\": 0, \"ticks\": \"\"}}, \"type\": \"scatterpolar\"}], \"scatterpolargl\": [{\"marker\": {\"colorbar\": {\"outlinewidth\": 0, \"ticks\": \"\"}}, \"type\": \"scatterpolargl\"}], \"scatterternary\": [{\"marker\": {\"colorbar\": {\"outlinewidth\": 0, \"ticks\": \"\"}}, \"type\": \"scatterternary\"}], \"surface\": [{\"colorbar\": {\"outlinewidth\": 0, \"ticks\": \"\"}, \"colorscale\": [[0.0, \"#0d0887\"], [0.1111111111111111, \"#46039f\"], [0.2222222222222222, \"#7201a8\"], [0.3333333333333333, \"#9c179e\"], [0.4444444444444444, \"#bd3786\"], [0.5555555555555556, \"#d8576b\"], [0.6666666666666666, \"#ed7953\"], [0.7777777777777778, \"#fb9f3a\"], [0.8888888888888888, \"#fdca26\"], [1.0, \"#f0f921\"]], \"type\": \"surface\"}], \"table\": [{\"cells\": {\"fill\": {\"color\": \"#EBF0F8\"}, \"line\": {\"color\": \"white\"}}, \"header\": {\"fill\": {\"color\": \"#C8D4E3\"}, \"line\": {\"color\": \"white\"}}, \"type\": \"table\"}]}, \"layout\": {\"annotationdefaults\": {\"arrowcolor\": \"#2a3f5f\", \"arrowhead\": 0, \"arrowwidth\": 1}, \"coloraxis\": {\"colorbar\": {\"outlinewidth\": 0, \"ticks\": \"\"}}, \"colorscale\": {\"diverging\": [[0, \"#8e0152\"], [0.1, \"#c51b7d\"], [0.2, \"#de77ae\"], [0.3, \"#f1b6da\"], [0.4, \"#fde0ef\"], [0.5, \"#f7f7f7\"], [0.6, \"#e6f5d0\"], [0.7, \"#b8e186\"], [0.8, \"#7fbc41\"], [0.9, \"#4d9221\"], [1, \"#276419\"]], \"sequential\": [[0.0, \"#0d0887\"], [0.1111111111111111, \"#46039f\"], [0.2222222222222222, \"#7201a8\"], [0.3333333333333333, \"#9c179e\"], [0.4444444444444444, \"#bd3786\"], [0.5555555555555556, \"#d8576b\"], [0.6666666666666666, \"#ed7953\"], [0.7777777777777778, \"#fb9f3a\"], [0.8888888888888888, \"#fdca26\"], [1.0, \"#f0f921\"]], \"sequentialminus\": [[0.0, \"#0d0887\"], [0.1111111111111111, \"#46039f\"], [0.2222222222222222, \"#7201a8\"], [0.3333333333333333, \"#9c179e\"], [0.4444444444444444, \"#bd3786\"], [0.5555555555555556, \"#d8576b\"], [0.6666666666666666, \"#ed7953\"], [0.7777777777777778, \"#fb9f3a\"], [0.8888888888888888, \"#fdca26\"], [1.0, \"#f0f921\"]]}, \"colorway\": [\"#636efa\", \"#EF553B\", \"#00cc96\", \"#ab63fa\", \"#FFA15A\", \"#19d3f3\", \"#FF6692\", \"#B6E880\", \"#FF97FF\", \"#FECB52\"], \"font\": {\"color\": \"#2a3f5f\"}, \"geo\": {\"bgcolor\": \"white\", \"lakecolor\": \"white\", \"landcolor\": \"#E5ECF6\", \"showlakes\": true, \"showland\": true, \"subunitcolor\": \"white\"}, \"hoverlabel\": {\"align\": \"left\"}, \"hovermode\": \"closest\", \"mapbox\": {\"style\": \"light\"}, \"paper_bgcolor\": \"white\", \"plot_bgcolor\": \"#E5ECF6\", \"polar\": {\"angularaxis\": {\"gridcolor\": \"white\", \"linecolor\": \"white\", \"ticks\": \"\"}, \"bgcolor\": \"#E5ECF6\", \"radialaxis\": {\"gridcolor\": \"white\", \"linecolor\": \"white\", \"ticks\": \"\"}}, \"scene\": {\"xaxis\": {\"backgroundcolor\": \"#E5ECF6\", \"gridcolor\": \"white\", \"gridwidth\": 2, \"linecolor\": \"white\", \"showbackground\": true, \"ticks\": \"\", \"zerolinecolor\": \"white\"}, \"yaxis\": {\"backgroundcolor\": \"#E5ECF6\", \"gridcolor\": \"white\", \"gridwidth\": 2, \"linecolor\": \"white\", \"showbackground\": true, \"ticks\": \"\", \"zerolinecolor\": \"white\"}, \"zaxis\": {\"backgroundcolor\": \"#E5ECF6\", \"gridcolor\": \"white\", \"gridwidth\": 2, \"linecolor\": \"white\", \"showbackground\": true, \"ticks\": \"\", \"zerolinecolor\": \"white\"}}, \"shapedefaults\": {\"line\": {\"color\": \"#2a3f5f\"}}, \"ternary\": {\"aaxis\": {\"gridcolor\": \"white\", \"linecolor\": \"white\", \"ticks\": \"\"}, \"baxis\": {\"gridcolor\": \"white\", \"linecolor\": \"white\", \"ticks\": \"\"}, \"bgcolor\": \"#E5ECF6\", \"caxis\": {\"gridcolor\": \"white\", \"linecolor\": \"white\", \"ticks\": \"\"}}, \"title\": {\"x\": 0.05}, \"xaxis\": {\"automargin\": true, \"gridcolor\": \"white\", \"linecolor\": \"white\", \"ticks\": \"\", \"title\": {\"standoff\": 15}, \"zerolinecolor\": \"white\", \"zerolinewidth\": 2}, \"yaxis\": {\"automargin\": true, \"gridcolor\": \"white\", \"linecolor\": \"white\", \"ticks\": \"\", \"title\": {\"standoff\": 15}, \"zerolinecolor\": \"white\", \"zerolinewidth\": 2}}}},\n",
              "                        {\"responsive\": true}\n",
              "                    ).then(function(){\n",
              "                            \n",
              "var gd = document.getElementById('f10a2099-23ec-4ff5-a722-242af3113861');\n",
              "var x = new MutationObserver(function (mutations, observer) {{\n",
              "        var display = window.getComputedStyle(gd).display;\n",
              "        if (!display || display === 'none') {{\n",
              "            console.log([gd, 'removed!']);\n",
              "            Plotly.purge(gd);\n",
              "            observer.disconnect();\n",
              "        }}\n",
              "}});\n",
              "\n",
              "// Listen for the removal of the full notebook cells\n",
              "var notebookContainer = gd.closest('#notebook-container');\n",
              "if (notebookContainer) {{\n",
              "    x.observe(notebookContainer, {childList: true});\n",
              "}}\n",
              "\n",
              "// Listen for the clearing of the current output cell\n",
              "var outputEl = gd.closest('.output');\n",
              "if (outputEl) {{\n",
              "    x.observe(outputEl, {childList: true});\n",
              "}}\n",
              "\n",
              "                        })\n",
              "                };\n",
              "                \n",
              "            </script>\n",
              "        </div>\n",
              "</body>\n",
              "</html>"
            ]
          },
          "metadata": {
            "tags": []
          }
        }
      ]
    },
    {
      "cell_type": "code",
      "metadata": {
        "id": "JNsbhjd53bEt",
        "colab_type": "code",
        "colab": {}
      },
      "source": [
        "\n"
      ],
      "execution_count": 0,
      "outputs": []
    },
    {
      "cell_type": "code",
      "metadata": {
        "id": "vh2Q__kD5o3q",
        "colab_type": "code",
        "colab": {}
      },
      "source": [
        ""
      ],
      "execution_count": 0,
      "outputs": []
    },
    {
      "cell_type": "code",
      "metadata": {
        "id": "jcoUm3LA3dQA",
        "colab_type": "code",
        "colab": {}
      },
      "source": [
        "\n",
        "\n"
      ],
      "execution_count": 0,
      "outputs": []
    },
    {
      "cell_type": "code",
      "metadata": {
        "id": "umOe8kOy6oB_",
        "colab_type": "code",
        "colab": {}
      },
      "source": [
        ""
      ],
      "execution_count": 0,
      "outputs": []
    },
    {
      "cell_type": "code",
      "metadata": {
        "id": "QuYnmxuV6oVu",
        "colab_type": "code",
        "colab": {}
      },
      "source": [
        ""
      ],
      "execution_count": 0,
      "outputs": []
    },
    {
      "cell_type": "code",
      "metadata": {
        "id": "dHd1ENTs6opD",
        "colab_type": "code",
        "colab": {}
      },
      "source": [
        "train_data=train_data.drop(['keyword', 'location'], axis=1)"
      ],
      "execution_count": 0,
      "outputs": []
    },
    {
      "cell_type": "code",
      "metadata": {
        "id": "RPuXpeRo6D56",
        "colab_type": "code",
        "outputId": "48c8a0e2-8a86-434d-9034-f991659821d4",
        "colab": {
          "base_uri": "https://localhost:8080/",
          "height": 119
        }
      },
      "source": [
        "train_data['text'].head()"
      ],
      "execution_count": 51,
      "outputs": [
        {
          "output_type": "execute_result",
          "data": {
            "text/plain": [
              "0    Our Deeds are the Reason of this #earthquake M...\n",
              "1               Forest fire near La Ronge Sask. Canada\n",
              "2    All residents asked to 'shelter in place' are ...\n",
              "3    13,000 people receive #wildfires evacuation or...\n",
              "4    Just got sent this photo from Ruby #Alaska as ...\n",
              "Name: text, dtype: object"
            ]
          },
          "metadata": {
            "tags": []
          },
          "execution_count": 51
        }
      ]
    },
    {
      "cell_type": "markdown",
      "metadata": {
        "id": "Fxjj3WkmzwLT",
        "colab_type": "text"
      },
      "source": [
        "#Clean the Text\n",
        "\n",
        "*   Make text to lowercase\n",
        "*   Remove URL\n",
        "*   Remove HTML special Character\n",
        "*   Remove HashTag\n",
        "*   Remove Punctuations\n",
        "\n",
        "\n"
      ]
    },
    {
      "cell_type": "code",
      "metadata": {
        "id": "HiFvuhrwv-8W",
        "colab_type": "code",
        "colab": {}
      },
      "source": [
        "def clean_text(text):\n",
        "  \n",
        "  # Remove Urls\n",
        "  text= re.sub(r\"https?:\\/\\/t.co\\/[A-Za-z0-9]+\", \"\", str(text))\n",
        "  \n",
        "  # Remove HTML special entities (e.g. &amp;)\n",
        "  text = re.sub(r'\\&\\w*;', '', str(text))\n",
        "  \n",
        "  # Remove hashtag (#)\n",
        "  text = re.sub(r'#','', str(text))\n",
        "\n",
        "  # Remove punctuation\n",
        "  text = ' '.join(re.sub(\"[\\.\\,\\!\\?\\:\\;\\-\\=\\/\\|\\'\\()\\']\", \" \", str(text)).split())\n",
        " \n",
        "  #https://stackoverflow.com/questions/33404752/removing-emojis-from-a-string-in-python\n",
        "  #Remove Emoji\n",
        "  text=str(text).encode('ascii', 'ignore').decode('ascii')\n",
        "\n",
        "  text=str(text).lower()\n",
        "  return text\n",
        "\n"
      ],
      "execution_count": 0,
      "outputs": []
    },
    {
      "cell_type": "code",
      "metadata": {
        "id": "8IiNgZwT-c3g",
        "colab_type": "code",
        "colab": {}
      },
      "source": [
        "# Remove Urls\n",
        "  #train_data['text']= re.sub(r\"https?:\\/\\/t.co\\/[A-Za-z0-9]+\", \"\", train_data['text'])\n",
        "  \n",
        "  # Remove HTML special entities (e.g. &amp;)\n",
        "  #text = re.sub(r'\\&\\w*;', '', text)\n",
        "  \n",
        "  # Remove hashtag (#)\n",
        "  #train_data['text'] = re.sub(r'#','', str(train_data['text']))\n",
        "\n",
        "  # Remove punctuation\n",
        "  #text = ' '.join(re.sub(\"[\\.\\,\\!\\?\\:\\;\\-\\=\\/\\|\\'\\(\\']\", \" \", text).split())\n",
        "\n",
        "  #Remove Emoji\n",
        "  #text.encode('ascii', 'ignore').decode('ascii')\n",
        "\n",
        "  #text.lower()"
      ],
      "execution_count": 0,
      "outputs": []
    },
    {
      "cell_type": "code",
      "metadata": {
        "id": "DkiDj4jvv_NW",
        "colab_type": "code",
        "outputId": "a60a8865-6fcb-4c4c-e9d1-0296019aaaaf",
        "colab": {
          "base_uri": "https://localhost:8080/",
          "height": 824
        }
      },
      "source": [
        "\n",
        "train_data['text'] =train_data['text'].apply(clean_text)\n",
        "train_data.head(25)"
      ],
      "execution_count": 54,
      "outputs": [
        {
          "output_type": "execute_result",
          "data": {
            "text/html": [
              "<div>\n",
              "<style scoped>\n",
              "    .dataframe tbody tr th:only-of-type {\n",
              "        vertical-align: middle;\n",
              "    }\n",
              "\n",
              "    .dataframe tbody tr th {\n",
              "        vertical-align: top;\n",
              "    }\n",
              "\n",
              "    .dataframe thead th {\n",
              "        text-align: right;\n",
              "    }\n",
              "</style>\n",
              "<table border=\"1\" class=\"dataframe\">\n",
              "  <thead>\n",
              "    <tr style=\"text-align: right;\">\n",
              "      <th></th>\n",
              "      <th>id</th>\n",
              "      <th>text</th>\n",
              "      <th>target</th>\n",
              "    </tr>\n",
              "  </thead>\n",
              "  <tbody>\n",
              "    <tr>\n",
              "      <th>0</th>\n",
              "      <td>1</td>\n",
              "      <td>our deeds are the reason of this earthquake ma...</td>\n",
              "      <td>1</td>\n",
              "    </tr>\n",
              "    <tr>\n",
              "      <th>1</th>\n",
              "      <td>4</td>\n",
              "      <td>forest fire near la ronge sask canada</td>\n",
              "      <td>1</td>\n",
              "    </tr>\n",
              "    <tr>\n",
              "      <th>2</th>\n",
              "      <td>5</td>\n",
              "      <td>all residents asked to shelter in place are be...</td>\n",
              "      <td>1</td>\n",
              "    </tr>\n",
              "    <tr>\n",
              "      <th>3</th>\n",
              "      <td>6</td>\n",
              "      <td>13 000 people receive wildfires evacuation ord...</td>\n",
              "      <td>1</td>\n",
              "    </tr>\n",
              "    <tr>\n",
              "      <th>4</th>\n",
              "      <td>7</td>\n",
              "      <td>just got sent this photo from ruby alaska as s...</td>\n",
              "      <td>1</td>\n",
              "    </tr>\n",
              "    <tr>\n",
              "      <th>5</th>\n",
              "      <td>8</td>\n",
              "      <td>rockyfire update &gt; california hwy 20 closed in...</td>\n",
              "      <td>1</td>\n",
              "    </tr>\n",
              "    <tr>\n",
              "      <th>6</th>\n",
              "      <td>10</td>\n",
              "      <td>flood disaster heavy rain causes flash floodin...</td>\n",
              "      <td>1</td>\n",
              "    </tr>\n",
              "    <tr>\n",
              "      <th>7</th>\n",
              "      <td>13</td>\n",
              "      <td>i m on top of the hill and i can see a fire in...</td>\n",
              "      <td>1</td>\n",
              "    </tr>\n",
              "    <tr>\n",
              "      <th>8</th>\n",
              "      <td>14</td>\n",
              "      <td>there s an emergency evacuation happening now ...</td>\n",
              "      <td>1</td>\n",
              "    </tr>\n",
              "    <tr>\n",
              "      <th>9</th>\n",
              "      <td>15</td>\n",
              "      <td>i m afraid that the tornado is coming to our area</td>\n",
              "      <td>1</td>\n",
              "    </tr>\n",
              "    <tr>\n",
              "      <th>10</th>\n",
              "      <td>16</td>\n",
              "      <td>three people died from the heat wave so far</td>\n",
              "      <td>1</td>\n",
              "    </tr>\n",
              "    <tr>\n",
              "      <th>11</th>\n",
              "      <td>17</td>\n",
              "      <td>haha south tampa is getting flooded hah wait a...</td>\n",
              "      <td>1</td>\n",
              "    </tr>\n",
              "    <tr>\n",
              "      <th>12</th>\n",
              "      <td>18</td>\n",
              "      <td>raining flooding florida tampabay tampa 18 or ...</td>\n",
              "      <td>1</td>\n",
              "    </tr>\n",
              "    <tr>\n",
              "      <th>13</th>\n",
              "      <td>19</td>\n",
              "      <td>flood in bago myanmar we arrived bago</td>\n",
              "      <td>1</td>\n",
              "    </tr>\n",
              "    <tr>\n",
              "      <th>14</th>\n",
              "      <td>20</td>\n",
              "      <td>damage to school bus on 80 in multi car crash ...</td>\n",
              "      <td>1</td>\n",
              "    </tr>\n",
              "    <tr>\n",
              "      <th>15</th>\n",
              "      <td>23</td>\n",
              "      <td>what s up man</td>\n",
              "      <td>0</td>\n",
              "    </tr>\n",
              "    <tr>\n",
              "      <th>16</th>\n",
              "      <td>24</td>\n",
              "      <td>i love fruits</td>\n",
              "      <td>0</td>\n",
              "    </tr>\n",
              "    <tr>\n",
              "      <th>17</th>\n",
              "      <td>25</td>\n",
              "      <td>summer is lovely</td>\n",
              "      <td>0</td>\n",
              "    </tr>\n",
              "    <tr>\n",
              "      <th>18</th>\n",
              "      <td>26</td>\n",
              "      <td>my car is so fast</td>\n",
              "      <td>0</td>\n",
              "    </tr>\n",
              "    <tr>\n",
              "      <th>19</th>\n",
              "      <td>28</td>\n",
              "      <td>what a goooooooaaaaaal</td>\n",
              "      <td>0</td>\n",
              "    </tr>\n",
              "    <tr>\n",
              "      <th>20</th>\n",
              "      <td>31</td>\n",
              "      <td>this is ridiculous</td>\n",
              "      <td>0</td>\n",
              "    </tr>\n",
              "    <tr>\n",
              "      <th>21</th>\n",
              "      <td>32</td>\n",
              "      <td>london is cool</td>\n",
              "      <td>0</td>\n",
              "    </tr>\n",
              "    <tr>\n",
              "      <th>22</th>\n",
              "      <td>33</td>\n",
              "      <td>love skiing</td>\n",
              "      <td>0</td>\n",
              "    </tr>\n",
              "    <tr>\n",
              "      <th>23</th>\n",
              "      <td>34</td>\n",
              "      <td>what a wonderful day</td>\n",
              "      <td>0</td>\n",
              "    </tr>\n",
              "    <tr>\n",
              "      <th>24</th>\n",
              "      <td>36</td>\n",
              "      <td>looooool</td>\n",
              "      <td>0</td>\n",
              "    </tr>\n",
              "  </tbody>\n",
              "</table>\n",
              "</div>"
            ],
            "text/plain": [
              "    id                                               text  target\n",
              "0    1  our deeds are the reason of this earthquake ma...       1\n",
              "1    4              forest fire near la ronge sask canada       1\n",
              "2    5  all residents asked to shelter in place are be...       1\n",
              "3    6  13 000 people receive wildfires evacuation ord...       1\n",
              "4    7  just got sent this photo from ruby alaska as s...       1\n",
              "5    8  rockyfire update > california hwy 20 closed in...       1\n",
              "6   10  flood disaster heavy rain causes flash floodin...       1\n",
              "7   13  i m on top of the hill and i can see a fire in...       1\n",
              "8   14  there s an emergency evacuation happening now ...       1\n",
              "9   15  i m afraid that the tornado is coming to our area       1\n",
              "10  16        three people died from the heat wave so far       1\n",
              "11  17  haha south tampa is getting flooded hah wait a...       1\n",
              "12  18  raining flooding florida tampabay tampa 18 or ...       1\n",
              "13  19              flood in bago myanmar we arrived bago       1\n",
              "14  20  damage to school bus on 80 in multi car crash ...       1\n",
              "15  23                                      what s up man       0\n",
              "16  24                                      i love fruits       0\n",
              "17  25                                   summer is lovely       0\n",
              "18  26                                  my car is so fast       0\n",
              "19  28                             what a goooooooaaaaaal       0\n",
              "20  31                                 this is ridiculous       0\n",
              "21  32                                     london is cool       0\n",
              "22  33                                        love skiing       0\n",
              "23  34                               what a wonderful day       0\n",
              "24  36                                           looooool       0"
            ]
          },
          "metadata": {
            "tags": []
          },
          "execution_count": 54
        }
      ]
    },
    {
      "cell_type": "code",
      "metadata": {
        "id": "TkKLTZYrv_b6",
        "colab_type": "code",
        "colab": {}
      },
      "source": [
        "my_stopword=['i', 'me', 'my', 'myself', 'we', 'our', 'ours', 'ourselves', 'you', 'your', 'yours', 'yourself', 'yourselves', 'he', 'him', 'his', 'himself', 'she', \"she's\", 'her', 'hers', 'herself', 'it', \"it's\", 'its', 'itself', 'they', 'them', 'their', 'theirs', 'themselves', 'what', 'which', 'who', 'whom', 'this', 'that', 'these', 'those', 'am', 'is', 'are', 'was', 'were', 'be', 'been', 'being', 'have', 'has', 'had', 'having', 'do', 'does', 'did', 'doing', 'a', 'an', 'the', 'and', 'but', 'if', 'or', 'because', 'as', 'until', 'while', 'of', 'at', 'by', 'for', 'with', 'about', 'against', 'between', 'into', 'through', 'during', 'before', 'after', 'above', 'below', 'to', 'from', 'up', 'down', 'in', 'out', 'on', 'off', 'over', 'under', 'again', 'further', 'then', 'once', 'here', 'there', 'when', 'where', 'why', 'what','how', 'all', 'any', 'both', 'each', 'few', 'more', 'most', 'other', 'some', 'such', 'no', 'nor', 'not', 'only', 'own', 'same', 'so', 'than', 'too', 'very', 's', 't', 'can', 'will', 'just', 'do', 'should', \"should\", 'now', 'd', 'm', 'o', 're', 've', 'y', 'ain', \"are\", 'could', \"was\",\n",
        "'would','have','get','got','getting','one','two','still','going']"
      ],
      "execution_count": 0,
      "outputs": []
    },
    {
      "cell_type": "code",
      "metadata": {
        "id": "z0pm-UvDw5r_",
        "colab_type": "code",
        "colab": {}
      },
      "source": [
        "train_data['text'] = train_data['text'].apply(lambda x: ' '.join([word for word in x.split() if word not in (my_stopword)]))"
      ],
      "execution_count": 0,
      "outputs": []
    },
    {
      "cell_type": "code",
      "metadata": {
        "id": "lk-GaAy9xb4F",
        "colab_type": "code",
        "outputId": "b30cd9c4-430f-4a23-825e-a83581909b60",
        "colab": {
          "base_uri": "https://localhost:8080/",
          "height": 204
        }
      },
      "source": [
        "test_data.head()"
      ],
      "execution_count": 57,
      "outputs": [
        {
          "output_type": "execute_result",
          "data": {
            "text/html": [
              "<div>\n",
              "<style scoped>\n",
              "    .dataframe tbody tr th:only-of-type {\n",
              "        vertical-align: middle;\n",
              "    }\n",
              "\n",
              "    .dataframe tbody tr th {\n",
              "        vertical-align: top;\n",
              "    }\n",
              "\n",
              "    .dataframe thead th {\n",
              "        text-align: right;\n",
              "    }\n",
              "</style>\n",
              "<table border=\"1\" class=\"dataframe\">\n",
              "  <thead>\n",
              "    <tr style=\"text-align: right;\">\n",
              "      <th></th>\n",
              "      <th>id</th>\n",
              "      <th>keyword</th>\n",
              "      <th>location</th>\n",
              "      <th>text</th>\n",
              "    </tr>\n",
              "  </thead>\n",
              "  <tbody>\n",
              "    <tr>\n",
              "      <th>0</th>\n",
              "      <td>0</td>\n",
              "      <td>NaN</td>\n",
              "      <td>NaN</td>\n",
              "      <td>Just happened a terrible car crash</td>\n",
              "    </tr>\n",
              "    <tr>\n",
              "      <th>1</th>\n",
              "      <td>2</td>\n",
              "      <td>NaN</td>\n",
              "      <td>NaN</td>\n",
              "      <td>Heard about #earthquake is different cities, s...</td>\n",
              "    </tr>\n",
              "    <tr>\n",
              "      <th>2</th>\n",
              "      <td>3</td>\n",
              "      <td>NaN</td>\n",
              "      <td>NaN</td>\n",
              "      <td>there is a forest fire at spot pond, geese are...</td>\n",
              "    </tr>\n",
              "    <tr>\n",
              "      <th>3</th>\n",
              "      <td>9</td>\n",
              "      <td>NaN</td>\n",
              "      <td>NaN</td>\n",
              "      <td>Apocalypse lighting. #Spokane #wildfires</td>\n",
              "    </tr>\n",
              "    <tr>\n",
              "      <th>4</th>\n",
              "      <td>11</td>\n",
              "      <td>NaN</td>\n",
              "      <td>NaN</td>\n",
              "      <td>Typhoon Soudelor kills 28 in China and Taiwan</td>\n",
              "    </tr>\n",
              "  </tbody>\n",
              "</table>\n",
              "</div>"
            ],
            "text/plain": [
              "   id keyword location                                               text\n",
              "0   0     NaN      NaN                 Just happened a terrible car crash\n",
              "1   2     NaN      NaN  Heard about #earthquake is different cities, s...\n",
              "2   3     NaN      NaN  there is a forest fire at spot pond, geese are...\n",
              "3   9     NaN      NaN           Apocalypse lighting. #Spokane #wildfires\n",
              "4  11     NaN      NaN      Typhoon Soudelor kills 28 in China and Taiwan"
            ]
          },
          "metadata": {
            "tags": []
          },
          "execution_count": 57
        }
      ]
    },
    {
      "cell_type": "code",
      "metadata": {
        "id": "bl3-2rbjxDGA",
        "colab_type": "code",
        "colab": {}
      },
      "source": [
        "test_data=test_data.drop(['keyword', 'location'], axis=1)"
      ],
      "execution_count": 0,
      "outputs": []
    },
    {
      "cell_type": "code",
      "metadata": {
        "id": "AcrN9h1dxIov",
        "colab_type": "code",
        "outputId": "95e5cf67-c836-426c-d6e6-40e47162c80d",
        "colab": {
          "base_uri": "https://localhost:8080/",
          "height": 204
        }
      },
      "source": [
        "test_data['text'] =test_data['text'].apply(clean_text)\n",
        "test_data.head()"
      ],
      "execution_count": 59,
      "outputs": [
        {
          "output_type": "execute_result",
          "data": {
            "text/html": [
              "<div>\n",
              "<style scoped>\n",
              "    .dataframe tbody tr th:only-of-type {\n",
              "        vertical-align: middle;\n",
              "    }\n",
              "\n",
              "    .dataframe tbody tr th {\n",
              "        vertical-align: top;\n",
              "    }\n",
              "\n",
              "    .dataframe thead th {\n",
              "        text-align: right;\n",
              "    }\n",
              "</style>\n",
              "<table border=\"1\" class=\"dataframe\">\n",
              "  <thead>\n",
              "    <tr style=\"text-align: right;\">\n",
              "      <th></th>\n",
              "      <th>id</th>\n",
              "      <th>text</th>\n",
              "    </tr>\n",
              "  </thead>\n",
              "  <tbody>\n",
              "    <tr>\n",
              "      <th>0</th>\n",
              "      <td>0</td>\n",
              "      <td>just happened a terrible car crash</td>\n",
              "    </tr>\n",
              "    <tr>\n",
              "      <th>1</th>\n",
              "      <td>2</td>\n",
              "      <td>heard about earthquake is different cities sta...</td>\n",
              "    </tr>\n",
              "    <tr>\n",
              "      <th>2</th>\n",
              "      <td>3</td>\n",
              "      <td>there is a forest fire at spot pond geese are ...</td>\n",
              "    </tr>\n",
              "    <tr>\n",
              "      <th>3</th>\n",
              "      <td>9</td>\n",
              "      <td>apocalypse lighting spokane wildfires</td>\n",
              "    </tr>\n",
              "    <tr>\n",
              "      <th>4</th>\n",
              "      <td>11</td>\n",
              "      <td>typhoon soudelor kills 28 in china and taiwan</td>\n",
              "    </tr>\n",
              "  </tbody>\n",
              "</table>\n",
              "</div>"
            ],
            "text/plain": [
              "   id                                               text\n",
              "0   0                 just happened a terrible car crash\n",
              "1   2  heard about earthquake is different cities sta...\n",
              "2   3  there is a forest fire at spot pond geese are ...\n",
              "3   9              apocalypse lighting spokane wildfires\n",
              "4  11      typhoon soudelor kills 28 in china and taiwan"
            ]
          },
          "metadata": {
            "tags": []
          },
          "execution_count": 59
        }
      ]
    },
    {
      "cell_type": "code",
      "metadata": {
        "id": "1RFP-ueUxOh5",
        "colab_type": "code",
        "colab": {}
      },
      "source": [
        "test_data['text'] = test_data['text'].apply(lambda x: ' '.join([word for word in x.split() if word not in (my_stopword)]))"
      ],
      "execution_count": 0,
      "outputs": []
    },
    {
      "cell_type": "code",
      "metadata": {
        "id": "hfePO55PxkbS",
        "colab_type": "code",
        "outputId": "becb19b6-0fae-4e26-edba-d8696ac49620",
        "colab": {
          "base_uri": "https://localhost:8080/",
          "height": 119
        }
      },
      "source": [
        "test_data['text'].head()"
      ],
      "execution_count": 61,
      "outputs": [
        {
          "output_type": "execute_result",
          "data": {
            "text/plain": [
              "0                          happened terrible car crash\n",
              "1    heard earthquake different cities stay safe ev...\n",
              "2    forest fire spot pond geese fleeing across str...\n",
              "3                apocalypse lighting spokane wildfires\n",
              "4               typhoon soudelor kills 28 china taiwan\n",
              "Name: text, dtype: object"
            ]
          },
          "metadata": {
            "tags": []
          },
          "execution_count": 61
        }
      ]
    },
    {
      "cell_type": "code",
      "metadata": {
        "id": "taZcdSHMx5ho",
        "colab_type": "code",
        "colab": {}
      },
      "source": [
        "#!pip uninstall tokenizers"
      ],
      "execution_count": 0,
      "outputs": []
    },
    {
      "cell_type": "code",
      "metadata": {
        "id": "MLewP6HDykCJ",
        "colab_type": "code",
        "colab": {}
      },
      "source": [
        "import tensorflow_hub as hub\n",
        "module_url = \"https://tfhub.dev/tensorflow/bert_en_uncased_L-12_H-768_A-12/1\"\n",
        "bert_layer = hub.KerasLayer(module_url, trainable=True)"
      ],
      "execution_count": 0,
      "outputs": []
    },
    {
      "cell_type": "code",
      "metadata": {
        "id": "WduN88OUypa6",
        "colab_type": "code",
        "colab": {}
      },
      "source": [
        "!wget --quiet https://raw.githubusercontent.com/tensorflow/models/master/official/nlp/bert/tokenization.py"
      ],
      "execution_count": 0,
      "outputs": []
    },
    {
      "cell_type": "code",
      "metadata": {
        "id": "eciHYmUey5og",
        "colab_type": "code",
        "outputId": "4ed8b3ac-4ae7-4ca4-aa29-2cd5feb39b48",
        "colab": {
          "base_uri": "https://localhost:8080/",
          "height": 34
        }
      },
      "source": [
        "!pip install sentencepiece"
      ],
      "execution_count": 65,
      "outputs": [
        {
          "output_type": "stream",
          "text": [
            "Requirement already satisfied: sentencepiece in /usr/local/lib/python3.6/dist-packages (0.1.85)\n"
          ],
          "name": "stdout"
        }
      ]
    },
    {
      "cell_type": "code",
      "metadata": {
        "id": "JuO_9-SkzMwC",
        "colab_type": "code",
        "colab": {}
      },
      "source": [
        "import tokenization\n",
        "import sentencepiece as spm\n",
        "vocab_file = bert_layer.resolved_object.vocab_file.asset_path.numpy()\n",
        "do_lower_case = bert_layer.resolved_object.do_lower_case.numpy()\n",
        "tokenizer = tokenization.FullTokenizer(vocab_file, do_lower_case)"
      ],
      "execution_count": 0,
      "outputs": []
    },
    {
      "cell_type": "code",
      "metadata": {
        "id": "rpx6M5fkzrSq",
        "colab_type": "code",
        "colab": {}
      },
      "source": [
        ""
      ],
      "execution_count": 0,
      "outputs": []
    },
    {
      "cell_type": "code",
      "metadata": {
        "colab_type": "code",
        "id": "8hBj7oq2IXKD",
        "colab": {}
      },
      "source": [
        "def Process_Bert(texts, max_len=256):\n",
        "    all_input_ids=[]\n",
        "    all_mask_ids=[]\n",
        "    all_seg_ids=[]\n",
        "    for token in texts: \n",
        "    \n",
        "        text = tokenizer.tokenize(token)\n",
        "        text = text[:max_len-2]\n",
        "        input_sequence = [\"[CLS]\"] + text + [\"[SEP]\"]\n",
        "        pad_len = max_len - len(input_sequence)\n",
        "        \n",
        "        tokens = tokenizer.convert_tokens_to_ids(input_sequence)\n",
        "        tokens += [0] * pad_len\n",
        "        pad_masks = [1] * len(input_sequence) + [0] * pad_len\n",
        "        segment_ids = [0] * max_len\n",
        "        # input_ids += padding\n",
        "        # mask_ids += padding\n",
        "        # seg_ids += padding\n",
        "        all_input_ids.append(tokens)\n",
        "        all_mask_ids.append(pad_masks)\n",
        "        all_seg_ids.append(segment_ids)\n",
        "\n",
        "    \n",
        "    return np.array(all_input_ids), np.array(all_mask_ids), np.array(all_seg_ids)"
      ],
      "execution_count": 0,
      "outputs": []
    },
    {
      "cell_type": "code",
      "metadata": {
        "id": "bk_K1F31IXhl",
        "colab_type": "code",
        "colab": {}
      },
      "source": [
        "from sklearn.model_selection import train_test_split\n",
        "X_train, X_test, y_train, y_test = train_test_split(\n",
        "  train_data['text'],train_data['target'], test_size=0.2, random_state=42)"
      ],
      "execution_count": 0,
      "outputs": []
    },
    {
      "cell_type": "code",
      "metadata": {
        "id": "VPRx-BZnIaJV",
        "colab_type": "code",
        "colab": {}
      },
      "source": [
        "train_input=Process_Bert(X_train,max_len=32)\n",
        "test_input=Process_Bert(X_test,max_len=32)"
      ],
      "execution_count": 0,
      "outputs": []
    },
    {
      "cell_type": "code",
      "metadata": {
        "id": "cVYgtjZuIcKN",
        "colab_type": "code",
        "colab": {}
      },
      "source": [
        ""
      ],
      "execution_count": 0,
      "outputs": []
    },
    {
      "cell_type": "code",
      "metadata": {
        "colab_type": "code",
        "id": "VTGQbbHDIjKc",
        "colab": {}
      },
      "source": [
        "train_labels = train_data.target.values"
      ],
      "execution_count": 0,
      "outputs": []
    },
    {
      "cell_type": "code",
      "metadata": {
        "id": "KpYXKYGlSjd5",
        "colab_type": "code",
        "colab": {}
      },
      "source": [
        "def build_model(bert_layer, max_len=128):\n",
        "    input_ids = Input(shape=(max_len,), dtype=tf.int32, name=\"all_input_ids\")\n",
        "    mask_ids = Input(shape=(max_len,), dtype=tf.int32, name=\"all_mask_ids\")\n",
        "    seg_ids = Input(shape=(max_len,), dtype=tf.int32, name=\"all_seg_ids\")\n",
        "\n",
        "    pooled_output, sequence_output = bert_layer([input_ids,mask_ids,  seg_ids])\n",
        "    clf_output = sequence_output[:, 0, :]\n",
        "    out = Dense(1, activation='sigmoid')(clf_output)\n",
        "    \n",
        "    model = Model(inputs=[input_ids,  mask_ids,  seg_ids], outputs=out)\n",
        "    model.compile(Adam(lr=2e-6), loss='binary_crossentropy', metrics=['accuracy'])\n",
        "    \n",
        "    return model\n"
      ],
      "execution_count": 0,
      "outputs": []
    },
    {
      "cell_type": "code",
      "metadata": {
        "colab_type": "code",
        "id": "6vChCTUyIiQ1",
        "colab": {}
      },
      "source": [
        ""
      ],
      "execution_count": 0,
      "outputs": []
    },
    {
      "cell_type": "code",
      "metadata": {
        "id": "d9zsplhnTy-H",
        "colab_type": "code",
        "outputId": "cfe13900-d165-4ae5-8343-3bc859b358c0",
        "colab": {
          "base_uri": "https://localhost:8080/",
          "height": 391
        }
      },
      "source": [
        "model = build_model(bert_layer, max_len=260)\n",
        "model.summary()"
      ],
      "execution_count": 72,
      "outputs": [
        {
          "output_type": "stream",
          "text": [
            "Model: \"model_1\"\n",
            "__________________________________________________________________________________________________\n",
            "Layer (type)                    Output Shape         Param #     Connected to                     \n",
            "==================================================================================================\n",
            "all_input_ids (InputLayer)      [(None, 260)]        0                                            \n",
            "__________________________________________________________________________________________________\n",
            "all_mask_ids (InputLayer)       [(None, 260)]        0                                            \n",
            "__________________________________________________________________________________________________\n",
            "all_seg_ids (InputLayer)        [(None, 260)]        0                                            \n",
            "__________________________________________________________________________________________________\n",
            "keras_layer_1 (KerasLayer)      [(None, 768), (None, 109482241   all_input_ids[0][0]              \n",
            "                                                                 all_mask_ids[0][0]               \n",
            "                                                                 all_seg_ids[0][0]                \n",
            "__________________________________________________________________________________________________\n",
            "tf_op_layer_strided_slice_1 (Te [(None, 768)]        0           keras_layer_1[0][1]              \n",
            "__________________________________________________________________________________________________\n",
            "dense_1 (Dense)                 (None, 1)            769         tf_op_layer_strided_slice_1[0][0]\n",
            "==================================================================================================\n",
            "Total params: 109,483,010\n",
            "Trainable params: 109,483,009\n",
            "Non-trainable params: 1\n",
            "__________________________________________________________________________________________________\n"
          ],
          "name": "stdout"
        }
      ]
    },
    {
      "cell_type": "code",
      "metadata": {
        "id": "oBdNA44xI2Lc",
        "colab_type": "code",
        "outputId": "89b27f5a-9601-40e0-e015-a8dd09b8a982",
        "colab": {
          "base_uri": "https://localhost:8080/",
          "height": 530
        }
      },
      "source": [
        "model.fit(\n",
        "    train_input, \n",
        "    y_train,\n",
        "    validation_data=(test_input, y_test),\n",
        "    epochs=5,\n",
        "    batch_size=32\n",
        ")"
      ],
      "execution_count": 73,
      "outputs": [
        {
          "output_type": "stream",
          "text": [
            "Epoch 1/5\n",
            "WARNING:tensorflow:Model was constructed with shape (None, 260) for input Tensor(\"all_input_ids_1:0\", shape=(None, 260), dtype=int32), but it was called on an input with incompatible shape (None, 32).\n"
          ],
          "name": "stdout"
        },
        {
          "output_type": "stream",
          "text": [
            "WARNING:tensorflow:Model was constructed with shape (None, 260) for input Tensor(\"all_input_ids_1:0\", shape=(None, 260), dtype=int32), but it was called on an input with incompatible shape (None, 32).\n"
          ],
          "name": "stderr"
        },
        {
          "output_type": "stream",
          "text": [
            "WARNING:tensorflow:Model was constructed with shape (None, 260) for input Tensor(\"all_mask_ids_1:0\", shape=(None, 260), dtype=int32), but it was called on an input with incompatible shape (None, 32).\n"
          ],
          "name": "stdout"
        },
        {
          "output_type": "stream",
          "text": [
            "WARNING:tensorflow:Model was constructed with shape (None, 260) for input Tensor(\"all_mask_ids_1:0\", shape=(None, 260), dtype=int32), but it was called on an input with incompatible shape (None, 32).\n"
          ],
          "name": "stderr"
        },
        {
          "output_type": "stream",
          "text": [
            "WARNING:tensorflow:Model was constructed with shape (None, 260) for input Tensor(\"all_seg_ids_1:0\", shape=(None, 260), dtype=int32), but it was called on an input with incompatible shape (None, 32).\n"
          ],
          "name": "stdout"
        },
        {
          "output_type": "stream",
          "text": [
            "WARNING:tensorflow:Model was constructed with shape (None, 260) for input Tensor(\"all_seg_ids_1:0\", shape=(None, 260), dtype=int32), but it was called on an input with incompatible shape (None, 32).\n"
          ],
          "name": "stderr"
        },
        {
          "output_type": "stream",
          "text": [
            "WARNING:tensorflow:Model was constructed with shape (None, 260) for input Tensor(\"all_input_ids_1:0\", shape=(None, 260), dtype=int32), but it was called on an input with incompatible shape (None, 32).\n"
          ],
          "name": "stdout"
        },
        {
          "output_type": "stream",
          "text": [
            "WARNING:tensorflow:Model was constructed with shape (None, 260) for input Tensor(\"all_input_ids_1:0\", shape=(None, 260), dtype=int32), but it was called on an input with incompatible shape (None, 32).\n"
          ],
          "name": "stderr"
        },
        {
          "output_type": "stream",
          "text": [
            "WARNING:tensorflow:Model was constructed with shape (None, 260) for input Tensor(\"all_mask_ids_1:0\", shape=(None, 260), dtype=int32), but it was called on an input with incompatible shape (None, 32).\n"
          ],
          "name": "stdout"
        },
        {
          "output_type": "stream",
          "text": [
            "WARNING:tensorflow:Model was constructed with shape (None, 260) for input Tensor(\"all_mask_ids_1:0\", shape=(None, 260), dtype=int32), but it was called on an input with incompatible shape (None, 32).\n"
          ],
          "name": "stderr"
        },
        {
          "output_type": "stream",
          "text": [
            "WARNING:tensorflow:Model was constructed with shape (None, 260) for input Tensor(\"all_seg_ids_1:0\", shape=(None, 260), dtype=int32), but it was called on an input with incompatible shape (None, 32).\n"
          ],
          "name": "stdout"
        },
        {
          "output_type": "stream",
          "text": [
            "WARNING:tensorflow:Model was constructed with shape (None, 260) for input Tensor(\"all_seg_ids_1:0\", shape=(None, 260), dtype=int32), but it was called on an input with incompatible shape (None, 32).\n"
          ],
          "name": "stderr"
        },
        {
          "output_type": "stream",
          "text": [
            "191/191 [==============================] - ETA: 0s - loss: 0.5180 - accuracy: 0.7530 WARNING:tensorflow:Model was constructed with shape (None, 260) for input Tensor(\"all_input_ids_1:0\", shape=(None, 260), dtype=int32), but it was called on an input with incompatible shape (None, 32).\n"
          ],
          "name": "stdout"
        },
        {
          "output_type": "stream",
          "text": [
            "WARNING:tensorflow:Model was constructed with shape (None, 260) for input Tensor(\"all_input_ids_1:0\", shape=(None, 260), dtype=int32), but it was called on an input with incompatible shape (None, 32).\n"
          ],
          "name": "stderr"
        },
        {
          "output_type": "stream",
          "text": [
            "WARNING:tensorflow:Model was constructed with shape (None, 260) for input Tensor(\"all_mask_ids_1:0\", shape=(None, 260), dtype=int32), but it was called on an input with incompatible shape (None, 32).\n"
          ],
          "name": "stdout"
        },
        {
          "output_type": "stream",
          "text": [
            "WARNING:tensorflow:Model was constructed with shape (None, 260) for input Tensor(\"all_mask_ids_1:0\", shape=(None, 260), dtype=int32), but it was called on an input with incompatible shape (None, 32).\n"
          ],
          "name": "stderr"
        },
        {
          "output_type": "stream",
          "text": [
            "WARNING:tensorflow:Model was constructed with shape (None, 260) for input Tensor(\"all_seg_ids_1:0\", shape=(None, 260), dtype=int32), but it was called on an input with incompatible shape (None, 32).\n"
          ],
          "name": "stdout"
        },
        {
          "output_type": "stream",
          "text": [
            "WARNING:tensorflow:Model was constructed with shape (None, 260) for input Tensor(\"all_seg_ids_1:0\", shape=(None, 260), dtype=int32), but it was called on an input with incompatible shape (None, 32).\n"
          ],
          "name": "stderr"
        },
        {
          "output_type": "stream",
          "text": [
            "\b\b\b\b\b\b\b\b\b\b\b\b\b\b\b\b\b\b\b\b\b\b\b\b\b\b\b\b\b\b\b\b\b\b\b\b\b\b\b\b\b\b\b\b\b\b\b\b\b\b\b\b\b\b\b\b\b\b\b\b\b\b\b\b\b\b\b\b\b\b\b\b\b\b\b\b\b\b\b\b\b\b\b\b\r191/191 [==============================] - 2103s 11s/step - loss: 0.5180 - accuracy: 0.7530 - val_loss: 0.4349 - val_accuracy: 0.8109\n",
            "Epoch 2/5\n",
            "191/191 [==============================] - 2095s 11s/step - loss: 0.3888 - accuracy: 0.8338 - val_loss: 0.4154 - val_accuracy: 0.8273\n",
            "Epoch 3/5\n",
            "191/191 [==============================] - 2103s 11s/step - loss: 0.3347 - accuracy: 0.8589 - val_loss: 0.4152 - val_accuracy: 0.8293\n",
            "Epoch 4/5\n",
            "191/191 [==============================] - 2098s 11s/step - loss: 0.2811 - accuracy: 0.8874 - val_loss: 0.4335 - val_accuracy: 0.8181\n",
            "Epoch 5/5\n",
            "191/191 [==============================] - 2102s 11s/step - loss: 0.2261 - accuracy: 0.9122 - val_loss: 0.4628 - val_accuracy: 0.8102\n"
          ],
          "name": "stdout"
        },
        {
          "output_type": "execute_result",
          "data": {
            "text/plain": [
              "<tensorflow.python.keras.callbacks.History at 0x7fb8aeb91198>"
            ]
          },
          "metadata": {
            "tags": []
          },
          "execution_count": 73
        }
      ]
    },
    {
      "cell_type": "code",
      "metadata": {
        "id": "biRYarIjVqI4",
        "colab_type": "code",
        "colab": {}
      },
      "source": [
        "model.save('BertDisasterModel.h5')"
      ],
      "execution_count": 0,
      "outputs": []
    },
    {
      "cell_type": "code",
      "metadata": {
        "id": "XzxP90hXJKzP",
        "colab_type": "code",
        "colab": {}
      },
      "source": [
        "pred=test_data['text']"
      ],
      "execution_count": 0,
      "outputs": []
    },
    {
      "cell_type": "code",
      "metadata": {
        "id": "dKyLNzgdWnc2",
        "colab_type": "code",
        "colab": {}
      },
      "source": [
        "pred_input = Process_Bert(pred, max_len=32)"
      ],
      "execution_count": 0,
      "outputs": []
    },
    {
      "cell_type": "code",
      "metadata": {
        "id": "GuaNHtBgZtaX",
        "colab_type": "code",
        "colab": {
          "resources": {
            "http://localhost:8080/nbextensions/google.colab/files.js": {
              "data": "Ly8gQ29weXJpZ2h0IDIwMTcgR29vZ2xlIExMQwovLwovLyBMaWNlbnNlZCB1bmRlciB0aGUgQXBhY2hlIExpY2Vuc2UsIFZlcnNpb24gMi4wICh0aGUgIkxpY2Vuc2UiKTsKLy8geW91IG1heSBub3QgdXNlIHRoaXMgZmlsZSBleGNlcHQgaW4gY29tcGxpYW5jZSB3aXRoIHRoZSBMaWNlbnNlLgovLyBZb3UgbWF5IG9idGFpbiBhIGNvcHkgb2YgdGhlIExpY2Vuc2UgYXQKLy8KLy8gICAgICBodHRwOi8vd3d3LmFwYWNoZS5vcmcvbGljZW5zZXMvTElDRU5TRS0yLjAKLy8KLy8gVW5sZXNzIHJlcXVpcmVkIGJ5IGFwcGxpY2FibGUgbGF3IG9yIGFncmVlZCB0byBpbiB3cml0aW5nLCBzb2Z0d2FyZQovLyBkaXN0cmlidXRlZCB1bmRlciB0aGUgTGljZW5zZSBpcyBkaXN0cmlidXRlZCBvbiBhbiAiQVMgSVMiIEJBU0lTLAovLyBXSVRIT1VUIFdBUlJBTlRJRVMgT1IgQ09ORElUSU9OUyBPRiBBTlkgS0lORCwgZWl0aGVyIGV4cHJlc3Mgb3IgaW1wbGllZC4KLy8gU2VlIHRoZSBMaWNlbnNlIGZvciB0aGUgc3BlY2lmaWMgbGFuZ3VhZ2UgZ292ZXJuaW5nIHBlcm1pc3Npb25zIGFuZAovLyBsaW1pdGF0aW9ucyB1bmRlciB0aGUgTGljZW5zZS4KCi8qKgogKiBAZmlsZW92ZXJ2aWV3IEhlbHBlcnMgZm9yIGdvb2dsZS5jb2xhYiBQeXRob24gbW9kdWxlLgogKi8KKGZ1bmN0aW9uKHNjb3BlKSB7CmZ1bmN0aW9uIHNwYW4odGV4dCwgc3R5bGVBdHRyaWJ1dGVzID0ge30pIHsKICBjb25zdCBlbGVtZW50ID0gZG9jdW1lbnQuY3JlYXRlRWxlbWVudCgnc3BhbicpOwogIGVsZW1lbnQudGV4dENvbnRlbnQgPSB0ZXh0OwogIGZvciAoY29uc3Qga2V5IG9mIE9iamVjdC5rZXlzKHN0eWxlQXR0cmlidXRlcykpIHsKICAgIGVsZW1lbnQuc3R5bGVba2V5XSA9IHN0eWxlQXR0cmlidXRlc1trZXldOwogIH0KICByZXR1cm4gZWxlbWVudDsKfQoKLy8gTWF4IG51bWJlciBvZiBieXRlcyB3aGljaCB3aWxsIGJlIHVwbG9hZGVkIGF0IGEgdGltZS4KY29uc3QgTUFYX1BBWUxPQURfU0laRSA9IDEwMCAqIDEwMjQ7Ci8vIE1heCBhbW91bnQgb2YgdGltZSB0byBibG9jayB3YWl0aW5nIGZvciB0aGUgdXNlci4KY29uc3QgRklMRV9DSEFOR0VfVElNRU9VVF9NUyA9IDMwICogMTAwMDsKCmZ1bmN0aW9uIF91cGxvYWRGaWxlcyhpbnB1dElkLCBvdXRwdXRJZCkgewogIGNvbnN0IHN0ZXBzID0gdXBsb2FkRmlsZXNTdGVwKGlucHV0SWQsIG91dHB1dElkKTsKICBjb25zdCBvdXRwdXRFbGVtZW50ID0gZG9jdW1lbnQuZ2V0RWxlbWVudEJ5SWQob3V0cHV0SWQpOwogIC8vIENhY2hlIHN0ZXBzIG9uIHRoZSBvdXRwdXRFbGVtZW50IHRvIG1ha2UgaXQgYXZhaWxhYmxlIGZvciB0aGUgbmV4dCBjYWxsCiAgLy8gdG8gdXBsb2FkRmlsZXNDb250aW51ZSBmcm9tIFB5dGhvbi4KICBvdXRwdXRFbGVtZW50LnN0ZXBzID0gc3RlcHM7CgogIHJldHVybiBfdXBsb2FkRmlsZXNDb250aW51ZShvdXRwdXRJZCk7Cn0KCi8vIFRoaXMgaXMgcm91Z2hseSBhbiBhc3luYyBnZW5lcmF0b3IgKG5vdCBzdXBwb3J0ZWQgaW4gdGhlIGJyb3dzZXIgeWV0KSwKLy8gd2hlcmUgdGhlcmUgYXJlIG11bHRpcGxlIGFzeW5jaHJvbm91cyBzdGVwcyBhbmQgdGhlIFB5dGhvbiBzaWRlIGlzIGdvaW5nCi8vIHRvIHBvbGwgZm9yIGNvbXBsZXRpb24gb2YgZWFjaCBzdGVwLgovLyBUaGlzIHVzZXMgYSBQcm9taXNlIHRvIGJsb2NrIHRoZSBweXRob24gc2lkZSBvbiBjb21wbGV0aW9uIG9mIGVhY2ggc3RlcCwKLy8gdGhlbiBwYXNzZXMgdGhlIHJlc3VsdCBvZiB0aGUgcHJldmlvdXMgc3RlcCBhcyB0aGUgaW5wdXQgdG8gdGhlIG5leHQgc3RlcC4KZnVuY3Rpb24gX3VwbG9hZEZpbGVzQ29udGludWUob3V0cHV0SWQpIHsKICBjb25zdCBvdXRwdXRFbGVtZW50ID0gZG9jdW1lbnQuZ2V0RWxlbWVudEJ5SWQob3V0cHV0SWQpOwogIGNvbnN0IHN0ZXBzID0gb3V0cHV0RWxlbWVudC5zdGVwczsKCiAgY29uc3QgbmV4dCA9IHN0ZXBzLm5leHQob3V0cHV0RWxlbWVudC5sYXN0UHJvbWlzZVZhbHVlKTsKICByZXR1cm4gUHJvbWlzZS5yZXNvbHZlKG5leHQudmFsdWUucHJvbWlzZSkudGhlbigodmFsdWUpID0+IHsKICAgIC8vIENhY2hlIHRoZSBsYXN0IHByb21pc2UgdmFsdWUgdG8gbWFrZSBpdCBhdmFpbGFibGUgdG8gdGhlIG5leHQKICAgIC8vIHN0ZXAgb2YgdGhlIGdlbmVyYXRvci4KICAgIG91dHB1dEVsZW1lbnQubGFzdFByb21pc2VWYWx1ZSA9IHZhbHVlOwogICAgcmV0dXJuIG5leHQudmFsdWUucmVzcG9uc2U7CiAgfSk7Cn0KCi8qKgogKiBHZW5lcmF0b3IgZnVuY3Rpb24gd2hpY2ggaXMgY2FsbGVkIGJldHdlZW4gZWFjaCBhc3luYyBzdGVwIG9mIHRoZSB1cGxvYWQKICogcHJvY2Vzcy4KICogQHBhcmFtIHtzdHJpbmd9IGlucHV0SWQgRWxlbWVudCBJRCBvZiB0aGUgaW5wdXQgZmlsZSBwaWNrZXIgZWxlbWVudC4KICogQHBhcmFtIHtzdHJpbmd9IG91dHB1dElkIEVsZW1lbnQgSUQgb2YgdGhlIG91dHB1dCBkaXNwbGF5LgogKiBAcmV0dXJuIHshSXRlcmFibGU8IU9iamVjdD59IEl0ZXJhYmxlIG9mIG5leHQgc3RlcHMuCiAqLwpmdW5jdGlvbiogdXBsb2FkRmlsZXNTdGVwKGlucHV0SWQsIG91dHB1dElkKSB7CiAgY29uc3QgaW5wdXRFbGVtZW50ID0gZG9jdW1lbnQuZ2V0RWxlbWVudEJ5SWQoaW5wdXRJZCk7CiAgaW5wdXRFbGVtZW50LmRpc2FibGVkID0gZmFsc2U7CgogIGNvbnN0IG91dHB1dEVsZW1lbnQgPSBkb2N1bWVudC5nZXRFbGVtZW50QnlJZChvdXRwdXRJZCk7CiAgb3V0cHV0RWxlbWVudC5pbm5lckhUTUwgPSAnJzsKCiAgY29uc3QgcGlja2VkUHJvbWlzZSA9IG5ldyBQcm9taXNlKChyZXNvbHZlKSA9PiB7CiAgICBpbnB1dEVsZW1lbnQuYWRkRXZlbnRMaXN0ZW5lcignY2hhbmdlJywgKGUpID0+IHsKICAgICAgcmVzb2x2ZShlLnRhcmdldC5maWxlcyk7CiAgICB9KTsKICB9KTsKCiAgY29uc3QgY2FuY2VsID0gZG9jdW1lbnQuY3JlYXRlRWxlbWVudCgnYnV0dG9uJyk7CiAgaW5wdXRFbGVtZW50LnBhcmVudEVsZW1lbnQuYXBwZW5kQ2hpbGQoY2FuY2VsKTsKICBjYW5jZWwudGV4dENvbnRlbnQgPSAnQ2FuY2VsIHVwbG9hZCc7CiAgY29uc3QgY2FuY2VsUHJvbWlzZSA9IG5ldyBQcm9taXNlKChyZXNvbHZlKSA9PiB7CiAgICBjYW5jZWwub25jbGljayA9ICgpID0+IHsKICAgICAgcmVzb2x2ZShudWxsKTsKICAgIH07CiAgfSk7CgogIC8vIENhbmNlbCB1cGxvYWQgaWYgdXNlciBoYXNuJ3QgcGlja2VkIGFueXRoaW5nIGluIHRpbWVvdXQuCiAgY29uc3QgdGltZW91dFByb21pc2UgPSBuZXcgUHJvbWlzZSgocmVzb2x2ZSkgPT4gewogICAgc2V0VGltZW91dCgoKSA9PiB7CiAgICAgIHJlc29sdmUobnVsbCk7CiAgICB9LCBGSUxFX0NIQU5HRV9USU1FT1VUX01TKTsKICB9KTsKCiAgLy8gV2FpdCBmb3IgdGhlIHVzZXIgdG8gcGljayB0aGUgZmlsZXMuCiAgY29uc3QgZmlsZXMgPSB5aWVsZCB7CiAgICBwcm9taXNlOiBQcm9taXNlLnJhY2UoW3BpY2tlZFByb21pc2UsIHRpbWVvdXRQcm9taXNlLCBjYW5jZWxQcm9taXNlXSksCiAgICByZXNwb25zZTogewogICAgICBhY3Rpb246ICdzdGFydGluZycsCiAgICB9CiAgfTsKCiAgaWYgKCFmaWxlcykgewogICAgcmV0dXJuIHsKICAgICAgcmVzcG9uc2U6IHsKICAgICAgICBhY3Rpb246ICdjb21wbGV0ZScsCiAgICAgIH0KICAgIH07CiAgfQoKICBjYW5jZWwucmVtb3ZlKCk7CgogIC8vIERpc2FibGUgdGhlIGlucHV0IGVsZW1lbnQgc2luY2UgZnVydGhlciBwaWNrcyBhcmUgbm90IGFsbG93ZWQuCiAgaW5wdXRFbGVtZW50LmRpc2FibGVkID0gdHJ1ZTsKCiAgZm9yIChjb25zdCBmaWxlIG9mIGZpbGVzKSB7CiAgICBjb25zdCBsaSA9IGRvY3VtZW50LmNyZWF0ZUVsZW1lbnQoJ2xpJyk7CiAgICBsaS5hcHBlbmQoc3BhbihmaWxlLm5hbWUsIHtmb250V2VpZ2h0OiAnYm9sZCd9KSk7CiAgICBsaS5hcHBlbmQoc3BhbigKICAgICAgICBgKCR7ZmlsZS50eXBlIHx8ICduL2EnfSkgLSAke2ZpbGUuc2l6ZX0gYnl0ZXMsIGAgKwogICAgICAgIGBsYXN0IG1vZGlmaWVkOiAkewogICAgICAgICAgICBmaWxlLmxhc3RNb2RpZmllZERhdGUgPyBmaWxlLmxhc3RNb2RpZmllZERhdGUudG9Mb2NhbGVEYXRlU3RyaW5nKCkgOgogICAgICAgICAgICAgICAgICAgICAgICAgICAgICAgICAgICAnbi9hJ30gLSBgKSk7CiAgICBjb25zdCBwZXJjZW50ID0gc3BhbignMCUgZG9uZScpOwogICAgbGkuYXBwZW5kQ2hpbGQocGVyY2VudCk7CgogICAgb3V0cHV0RWxlbWVudC5hcHBlbmRDaGlsZChsaSk7CgogICAgY29uc3QgZmlsZURhdGFQcm9taXNlID0gbmV3IFByb21pc2UoKHJlc29sdmUpID0+IHsKICAgICAgY29uc3QgcmVhZGVyID0gbmV3IEZpbGVSZWFkZXIoKTsKICAgICAgcmVhZGVyLm9ubG9hZCA9IChlKSA9PiB7CiAgICAgICAgcmVzb2x2ZShlLnRhcmdldC5yZXN1bHQpOwogICAgICB9OwogICAgICByZWFkZXIucmVhZEFzQXJyYXlCdWZmZXIoZmlsZSk7CiAgICB9KTsKICAgIC8vIFdhaXQgZm9yIHRoZSBkYXRhIHRvIGJlIHJlYWR5LgogICAgbGV0IGZpbGVEYXRhID0geWllbGQgewogICAgICBwcm9taXNlOiBmaWxlRGF0YVByb21pc2UsCiAgICAgIHJlc3BvbnNlOiB7CiAgICAgICAgYWN0aW9uOiAnY29udGludWUnLAogICAgICB9CiAgICB9OwoKICAgIC8vIFVzZSBhIGNodW5rZWQgc2VuZGluZyB0byBhdm9pZCBtZXNzYWdlIHNpemUgbGltaXRzLiBTZWUgYi82MjExNTY2MC4KICAgIGxldCBwb3NpdGlvbiA9IDA7CiAgICB3aGlsZSAocG9zaXRpb24gPCBmaWxlRGF0YS5ieXRlTGVuZ3RoKSB7CiAgICAgIGNvbnN0IGxlbmd0aCA9IE1hdGgubWluKGZpbGVEYXRhLmJ5dGVMZW5ndGggLSBwb3NpdGlvbiwgTUFYX1BBWUxPQURfU0laRSk7CiAgICAgIGNvbnN0IGNodW5rID0gbmV3IFVpbnQ4QXJyYXkoZmlsZURhdGEsIHBvc2l0aW9uLCBsZW5ndGgpOwogICAgICBwb3NpdGlvbiArPSBsZW5ndGg7CgogICAgICBjb25zdCBiYXNlNjQgPSBidG9hKFN0cmluZy5mcm9tQ2hhckNvZGUuYXBwbHkobnVsbCwgY2h1bmspKTsKICAgICAgeWllbGQgewogICAgICAgIHJlc3BvbnNlOiB7CiAgICAgICAgICBhY3Rpb246ICdhcHBlbmQnLAogICAgICAgICAgZmlsZTogZmlsZS5uYW1lLAogICAgICAgICAgZGF0YTogYmFzZTY0LAogICAgICAgIH0sCiAgICAgIH07CiAgICAgIHBlcmNlbnQudGV4dENvbnRlbnQgPQogICAgICAgICAgYCR7TWF0aC5yb3VuZCgocG9zaXRpb24gLyBmaWxlRGF0YS5ieXRlTGVuZ3RoKSAqIDEwMCl9JSBkb25lYDsKICAgIH0KICB9CgogIC8vIEFsbCBkb25lLgogIHlpZWxkIHsKICAgIHJlc3BvbnNlOiB7CiAgICAgIGFjdGlvbjogJ2NvbXBsZXRlJywKICAgIH0KICB9Owp9CgpzY29wZS5nb29nbGUgPSBzY29wZS5nb29nbGUgfHwge307CnNjb3BlLmdvb2dsZS5jb2xhYiA9IHNjb3BlLmdvb2dsZS5jb2xhYiB8fCB7fTsKc2NvcGUuZ29vZ2xlLmNvbGFiLl9maWxlcyA9IHsKICBfdXBsb2FkRmlsZXMsCiAgX3VwbG9hZEZpbGVzQ29udGludWUsCn07Cn0pKHNlbGYpOwo=",
              "ok": true,
              "headers": [
                [
                  "content-type",
                  "application/javascript"
                ]
              ],
              "status": 200,
              "status_text": ""
            }
          },
          "base_uri": "https://localhost:8080/",
          "height": 74
        },
        "outputId": "951bbfe1-6c75-43e5-e429-a9ea2c8cd279"
      },
      "source": [
        "from google.colab import files\n",
        "uploaded = files.upload()"
      ],
      "execution_count": 80,
      "outputs": [
        {
          "output_type": "display_data",
          "data": {
            "text/html": [
              "\n",
              "     <input type=\"file\" id=\"files-5d35d542-ccec-4914-9c13-1ee7233b3047\" name=\"files[]\" multiple disabled />\n",
              "     <output id=\"result-5d35d542-ccec-4914-9c13-1ee7233b3047\">\n",
              "      Upload widget is only available when the cell has been executed in the\n",
              "      current browser session. Please rerun this cell to enable.\n",
              "      </output>\n",
              "      <script src=\"/nbextensions/google.colab/files.js\"></script> "
            ],
            "text/plain": [
              "<IPython.core.display.HTML object>"
            ]
          },
          "metadata": {
            "tags": []
          }
        },
        {
          "output_type": "stream",
          "text": [
            "Saving sample_submission.csv to sample_submission.csv\n"
          ],
          "name": "stdout"
        }
      ]
    },
    {
      "cell_type": "code",
      "metadata": {
        "id": "T8X3qHzFZ10B",
        "colab_type": "code",
        "colab": {}
      },
      "source": [
        "submission=pd.read_csv(\"sample_submission.csv\")"
      ],
      "execution_count": 0,
      "outputs": []
    },
    {
      "cell_type": "code",
      "metadata": {
        "id": "3_7kbT9qZ2GV",
        "colab_type": "code",
        "colab": {
          "base_uri": "https://localhost:8080/",
          "height": 204
        },
        "outputId": "dcf4c489-6b5c-46a7-f246-1df5a3bf81dc"
      },
      "source": [
        "submission.head()"
      ],
      "execution_count": 82,
      "outputs": [
        {
          "output_type": "execute_result",
          "data": {
            "text/html": [
              "<div>\n",
              "<style scoped>\n",
              "    .dataframe tbody tr th:only-of-type {\n",
              "        vertical-align: middle;\n",
              "    }\n",
              "\n",
              "    .dataframe tbody tr th {\n",
              "        vertical-align: top;\n",
              "    }\n",
              "\n",
              "    .dataframe thead th {\n",
              "        text-align: right;\n",
              "    }\n",
              "</style>\n",
              "<table border=\"1\" class=\"dataframe\">\n",
              "  <thead>\n",
              "    <tr style=\"text-align: right;\">\n",
              "      <th></th>\n",
              "      <th>id</th>\n",
              "      <th>target</th>\n",
              "    </tr>\n",
              "  </thead>\n",
              "  <tbody>\n",
              "    <tr>\n",
              "      <th>0</th>\n",
              "      <td>0</td>\n",
              "      <td>0</td>\n",
              "    </tr>\n",
              "    <tr>\n",
              "      <th>1</th>\n",
              "      <td>2</td>\n",
              "      <td>0</td>\n",
              "    </tr>\n",
              "    <tr>\n",
              "      <th>2</th>\n",
              "      <td>3</td>\n",
              "      <td>0</td>\n",
              "    </tr>\n",
              "    <tr>\n",
              "      <th>3</th>\n",
              "      <td>9</td>\n",
              "      <td>0</td>\n",
              "    </tr>\n",
              "    <tr>\n",
              "      <th>4</th>\n",
              "      <td>11</td>\n",
              "      <td>0</td>\n",
              "    </tr>\n",
              "  </tbody>\n",
              "</table>\n",
              "</div>"
            ],
            "text/plain": [
              "   id  target\n",
              "0   0       0\n",
              "1   2       0\n",
              "2   3       0\n",
              "3   9       0\n",
              "4  11       0"
            ]
          },
          "metadata": {
            "tags": []
          },
          "execution_count": 82
        }
      ]
    },
    {
      "cell_type": "code",
      "metadata": {
        "id": "7oLFNlOLZ2Ww",
        "colab_type": "code",
        "colab": {}
      },
      "source": [
        ""
      ],
      "execution_count": 0,
      "outputs": []
    },
    {
      "cell_type": "code",
      "metadata": {
        "id": "7vbw1sZ_WuCQ",
        "colab_type": "code",
        "colab": {
          "base_uri": "https://localhost:8080/",
          "height": 34
        },
        "outputId": "6e792c05-f646-4e19-e969-d8e99e81a4cd"
      },
      "source": [
        "predModel = model.predict(pred_input)\n",
        "model.load_weights('BertDisasterModel.h5')\n",
        "print(\"saving the model to csv file.....\")\n",
        "submission['target'] =predModel.round().astype(int)\n",
        "submission2=submission.to_csv('nlp_submission.csv',index=False)"
      ],
      "execution_count": 83,
      "outputs": [
        {
          "output_type": "stream",
          "text": [
            "saving the model to csv file.....\n"
          ],
          "name": "stdout"
        }
      ]
    },
    {
      "cell_type": "code",
      "metadata": {
        "id": "RhzH3wICW6mE",
        "colab_type": "code",
        "colab": {}
      },
      "source": [
        "predictedValue=pd.read_csv('nlp_submission.csv')"
      ],
      "execution_count": 0,
      "outputs": []
    },
    {
      "cell_type": "code",
      "metadata": {
        "id": "VH0vLDhNbsCr",
        "colab_type": "code",
        "colab": {
          "base_uri": "https://localhost:8080/",
          "height": 34
        },
        "outputId": "cb068568-12ac-48b3-c32e-0b2b74d40b45"
      },
      "source": [
        "len(predictedValue)"
      ],
      "execution_count": 87,
      "outputs": [
        {
          "output_type": "execute_result",
          "data": {
            "text/plain": [
              "3263"
            ]
          },
          "metadata": {
            "tags": []
          },
          "execution_count": 87
        }
      ]
    },
    {
      "cell_type": "code",
      "metadata": {
        "id": "h5PQk1WicHco",
        "colab_type": "code",
        "colab": {
          "base_uri": "https://localhost:8080/",
          "height": 824
        },
        "outputId": "03131f90-0e3a-482c-9018-bda24c5d9a6e"
      },
      "source": [
        "predictedValue.head(25)"
      ],
      "execution_count": 89,
      "outputs": [
        {
          "output_type": "execute_result",
          "data": {
            "text/html": [
              "<div>\n",
              "<style scoped>\n",
              "    .dataframe tbody tr th:only-of-type {\n",
              "        vertical-align: middle;\n",
              "    }\n",
              "\n",
              "    .dataframe tbody tr th {\n",
              "        vertical-align: top;\n",
              "    }\n",
              "\n",
              "    .dataframe thead th {\n",
              "        text-align: right;\n",
              "    }\n",
              "</style>\n",
              "<table border=\"1\" class=\"dataframe\">\n",
              "  <thead>\n",
              "    <tr style=\"text-align: right;\">\n",
              "      <th></th>\n",
              "      <th>id</th>\n",
              "      <th>target</th>\n",
              "    </tr>\n",
              "  </thead>\n",
              "  <tbody>\n",
              "    <tr>\n",
              "      <th>0</th>\n",
              "      <td>0</td>\n",
              "      <td>1</td>\n",
              "    </tr>\n",
              "    <tr>\n",
              "      <th>1</th>\n",
              "      <td>2</td>\n",
              "      <td>1</td>\n",
              "    </tr>\n",
              "    <tr>\n",
              "      <th>2</th>\n",
              "      <td>3</td>\n",
              "      <td>1</td>\n",
              "    </tr>\n",
              "    <tr>\n",
              "      <th>3</th>\n",
              "      <td>9</td>\n",
              "      <td>1</td>\n",
              "    </tr>\n",
              "    <tr>\n",
              "      <th>4</th>\n",
              "      <td>11</td>\n",
              "      <td>1</td>\n",
              "    </tr>\n",
              "    <tr>\n",
              "      <th>5</th>\n",
              "      <td>12</td>\n",
              "      <td>1</td>\n",
              "    </tr>\n",
              "    <tr>\n",
              "      <th>6</th>\n",
              "      <td>21</td>\n",
              "      <td>0</td>\n",
              "    </tr>\n",
              "    <tr>\n",
              "      <th>7</th>\n",
              "      <td>22</td>\n",
              "      <td>0</td>\n",
              "    </tr>\n",
              "    <tr>\n",
              "      <th>8</th>\n",
              "      <td>27</td>\n",
              "      <td>0</td>\n",
              "    </tr>\n",
              "    <tr>\n",
              "      <th>9</th>\n",
              "      <td>29</td>\n",
              "      <td>0</td>\n",
              "    </tr>\n",
              "    <tr>\n",
              "      <th>10</th>\n",
              "      <td>30</td>\n",
              "      <td>0</td>\n",
              "    </tr>\n",
              "    <tr>\n",
              "      <th>11</th>\n",
              "      <td>35</td>\n",
              "      <td>0</td>\n",
              "    </tr>\n",
              "    <tr>\n",
              "      <th>12</th>\n",
              "      <td>42</td>\n",
              "      <td>0</td>\n",
              "    </tr>\n",
              "    <tr>\n",
              "      <th>13</th>\n",
              "      <td>43</td>\n",
              "      <td>0</td>\n",
              "    </tr>\n",
              "    <tr>\n",
              "      <th>14</th>\n",
              "      <td>45</td>\n",
              "      <td>0</td>\n",
              "    </tr>\n",
              "    <tr>\n",
              "      <th>15</th>\n",
              "      <td>46</td>\n",
              "      <td>1</td>\n",
              "    </tr>\n",
              "    <tr>\n",
              "      <th>16</th>\n",
              "      <td>47</td>\n",
              "      <td>0</td>\n",
              "    </tr>\n",
              "    <tr>\n",
              "      <th>17</th>\n",
              "      <td>51</td>\n",
              "      <td>1</td>\n",
              "    </tr>\n",
              "    <tr>\n",
              "      <th>18</th>\n",
              "      <td>58</td>\n",
              "      <td>0</td>\n",
              "    </tr>\n",
              "    <tr>\n",
              "      <th>19</th>\n",
              "      <td>60</td>\n",
              "      <td>0</td>\n",
              "    </tr>\n",
              "    <tr>\n",
              "      <th>20</th>\n",
              "      <td>69</td>\n",
              "      <td>1</td>\n",
              "    </tr>\n",
              "    <tr>\n",
              "      <th>21</th>\n",
              "      <td>70</td>\n",
              "      <td>0</td>\n",
              "    </tr>\n",
              "    <tr>\n",
              "      <th>22</th>\n",
              "      <td>72</td>\n",
              "      <td>0</td>\n",
              "    </tr>\n",
              "    <tr>\n",
              "      <th>23</th>\n",
              "      <td>75</td>\n",
              "      <td>1</td>\n",
              "    </tr>\n",
              "    <tr>\n",
              "      <th>24</th>\n",
              "      <td>84</td>\n",
              "      <td>0</td>\n",
              "    </tr>\n",
              "  </tbody>\n",
              "</table>\n",
              "</div>"
            ],
            "text/plain": [
              "    id  target\n",
              "0    0       1\n",
              "1    2       1\n",
              "2    3       1\n",
              "3    9       1\n",
              "4   11       1\n",
              "5   12       1\n",
              "6   21       0\n",
              "7   22       0\n",
              "8   27       0\n",
              "9   29       0\n",
              "10  30       0\n",
              "11  35       0\n",
              "12  42       0\n",
              "13  43       0\n",
              "14  45       0\n",
              "15  46       1\n",
              "16  47       0\n",
              "17  51       1\n",
              "18  58       0\n",
              "19  60       0\n",
              "20  69       1\n",
              "21  70       0\n",
              "22  72       0\n",
              "23  75       1\n",
              "24  84       0"
            ]
          },
          "metadata": {
            "tags": []
          },
          "execution_count": 89
        }
      ]
    },
    {
      "cell_type": "code",
      "metadata": {
        "id": "vL5dYidRcKQC",
        "colab_type": "code",
        "colab": {}
      },
      "source": [
        ""
      ],
      "execution_count": 0,
      "outputs": []
    }
  ]
}